{
 "cells": [
  {
   "cell_type": "code",
   "execution_count": 1,
   "id": "636fd3b1",
   "metadata": {},
   "outputs": [],
   "source": [
    "import numpy as np\n",
    "import pandas as pd\n",
    "import xarray as xr\n",
    "import pymc as pm\n",
    "import arviz as az\n",
    "import seaborn as sns\n",
    "import itertools\n",
    "\n",
    "from scipy.special import logit, expit\n",
    "from scipy.stats import bernoulli, norm, t, skewnorm\n",
    "from matplotlib import pyplot as plt\n",
    "from time import time\n",
    "\n",
    "from modeltools import plot_prior_postrr, create_summary_stat, mcmc_diagnostics \n",
    "from downcast import downcast_df"
   ]
  },
  {
   "cell_type": "code",
   "execution_count": 2,
   "id": "6891c643",
   "metadata": {},
   "outputs": [],
   "source": [
    "raw_data = pd.read_csv(\"data/unit_level_ratings.csv\",index_col = 0)\n",
    "raw_data = raw_data.sort_values(by=[\"corpus\", \"model\", \"topic\"])"
   ]
  },
  {
   "cell_type": "code",
   "execution_count": 46,
   "id": "1f5a8976",
   "metadata": {},
   "outputs": [],
   "source": [
    "# Creating identifier for each corpus, model, and topic\n",
    "# Identifier is unique for topic \n",
    "corpus_ids = (raw_data.groupby([\"corpus\"], as_index=False)\n",
    "    .agg({\"intrusion\":\"count\"})\n",
    "    .drop(columns=\"intrusion\"))\n",
    "corpus_ids[\"corpus_id\"] = corpus_ids.index\n",
    "\n",
    "model_ids = (raw_data.groupby([\"model\"], as_index=False)\n",
    "    .agg({\"intrusion\":\"count\"})\n",
    "    .drop(columns=\"intrusion\"))\n",
    "model_ids[\"model_id\"] = model_ids.index\n",
    "\n",
    "cordel_ids = (raw_data.groupby([\"corpus\", \"model\"], as_index=False)\n",
    "    .agg({\"intrusion\":\"count\"})\n",
    "    .drop(columns=\"intrusion\"))\n",
    "cordel_ids[\"cordel_id\"] = cordel_ids.index \n",
    "\n",
    "topic_ids = (raw_data.groupby([\"corpus\", \"model\", \"topic\"], as_index=False)\n",
    "    .agg({\"intrusion\":\"count\"})\n",
    "    .drop(columns=\"intrusion\"))\n",
    "topic_ids[\"topic_id\"] = topic_ids[\"topic\"].astype(np.int16)\n",
    "\n",
    "rater_ids = (raw_data.groupby([\"corpus\", \"rater\"], as_index=False)\n",
    "    .agg({\"intrusion\":\"count\"})\n",
    "    .drop(columns=\"intrusion\"))\n",
    "rater_ids[\"rater_id\"] = rater_ids.index \n",
    "\n",
    "\n",
    "d1 = pd.merge(raw_data, corpus_ids, on=[\"corpus\"], how=\"left\")\n",
    "d2 = pd.merge(d1, model_ids, on=[\"model\"], how=\"left\")\n",
    "d3 = pd.merge(d2, cordel_ids, on=[\"corpus\",\"model\"], how=\"left\")\n",
    "d4 = pd.merge(d3, rater_ids, on=[\"corpus\", \"rater\"], how=\"left\")\n",
    "data = pd.merge(d4, topic_ids, on=[\"corpus\", \"model\", \"topic\"], how=\"left\")\n",
    "data = data[[\"corpus_id\", \"model_id\", \"cordel_id\", \"topic_id\", \"rater_id\", \"intrusion\", \"confidence\"]]\n",
    "data, na_s = downcast_df(data)"
   ]
  },
  {
   "cell_type": "code",
   "execution_count": 4,
   "id": "83eb2551",
   "metadata": {},
   "outputs": [
    {
     "data": {
      "text/html": [
       "<div>\n",
       "<style scoped>\n",
       "    .dataframe tbody tr th:only-of-type {\n",
       "        vertical-align: middle;\n",
       "    }\n",
       "\n",
       "    .dataframe tbody tr th {\n",
       "        vertical-align: top;\n",
       "    }\n",
       "\n",
       "    .dataframe thead th {\n",
       "        text-align: right;\n",
       "    }\n",
       "</style>\n",
       "<table border=\"1\" class=\"dataframe\">\n",
       "  <thead>\n",
       "    <tr style=\"text-align: right;\">\n",
       "      <th></th>\n",
       "      <th>corpus_id</th>\n",
       "      <th>model_id</th>\n",
       "      <th>cordel_id</th>\n",
       "      <th>topic_id</th>\n",
       "      <th>rater_id</th>\n",
       "      <th>intrusion</th>\n",
       "      <th>confidence</th>\n",
       "    </tr>\n",
       "  </thead>\n",
       "  <tbody>\n",
       "    <tr>\n",
       "      <th>0</th>\n",
       "      <td>0</td>\n",
       "      <td>0</td>\n",
       "      <td>0</td>\n",
       "      <td>0</td>\n",
       "      <td>0</td>\n",
       "      <td>1</td>\n",
       "      <td>1</td>\n",
       "    </tr>\n",
       "    <tr>\n",
       "      <th>1</th>\n",
       "      <td>0</td>\n",
       "      <td>0</td>\n",
       "      <td>0</td>\n",
       "      <td>0</td>\n",
       "      <td>1</td>\n",
       "      <td>1</td>\n",
       "      <td>1</td>\n",
       "    </tr>\n",
       "    <tr>\n",
       "      <th>2</th>\n",
       "      <td>0</td>\n",
       "      <td>0</td>\n",
       "      <td>0</td>\n",
       "      <td>0</td>\n",
       "      <td>6</td>\n",
       "      <td>0</td>\n",
       "      <td>1</td>\n",
       "    </tr>\n",
       "    <tr>\n",
       "      <th>3</th>\n",
       "      <td>0</td>\n",
       "      <td>0</td>\n",
       "      <td>0</td>\n",
       "      <td>0</td>\n",
       "      <td>8</td>\n",
       "      <td>1</td>\n",
       "      <td>1</td>\n",
       "    </tr>\n",
       "    <tr>\n",
       "      <th>4</th>\n",
       "      <td>0</td>\n",
       "      <td>0</td>\n",
       "      <td>0</td>\n",
       "      <td>0</td>\n",
       "      <td>19</td>\n",
       "      <td>1</td>\n",
       "      <td>1</td>\n",
       "    </tr>\n",
       "    <tr>\n",
       "      <th>...</th>\n",
       "      <td>...</td>\n",
       "      <td>...</td>\n",
       "      <td>...</td>\n",
       "      <td>...</td>\n",
       "      <td>...</td>\n",
       "      <td>...</td>\n",
       "      <td>...</td>\n",
       "    </tr>\n",
       "    <tr>\n",
       "      <th>12193</th>\n",
       "      <td>1</td>\n",
       "      <td>2</td>\n",
       "      <td>5</td>\n",
       "      <td>49</td>\n",
       "      <td>289</td>\n",
       "      <td>1</td>\n",
       "      <td>1</td>\n",
       "    </tr>\n",
       "    <tr>\n",
       "      <th>12194</th>\n",
       "      <td>1</td>\n",
       "      <td>2</td>\n",
       "      <td>5</td>\n",
       "      <td>49</td>\n",
       "      <td>302</td>\n",
       "      <td>1</td>\n",
       "      <td>1</td>\n",
       "    </tr>\n",
       "    <tr>\n",
       "      <th>12195</th>\n",
       "      <td>1</td>\n",
       "      <td>2</td>\n",
       "      <td>5</td>\n",
       "      <td>49</td>\n",
       "      <td>303</td>\n",
       "      <td>1</td>\n",
       "      <td>1</td>\n",
       "    </tr>\n",
       "    <tr>\n",
       "      <th>12196</th>\n",
       "      <td>1</td>\n",
       "      <td>2</td>\n",
       "      <td>5</td>\n",
       "      <td>49</td>\n",
       "      <td>312</td>\n",
       "      <td>1</td>\n",
       "      <td>1</td>\n",
       "    </tr>\n",
       "    <tr>\n",
       "      <th>12197</th>\n",
       "      <td>1</td>\n",
       "      <td>2</td>\n",
       "      <td>5</td>\n",
       "      <td>49</td>\n",
       "      <td>317</td>\n",
       "      <td>1</td>\n",
       "      <td>1</td>\n",
       "    </tr>\n",
       "  </tbody>\n",
       "</table>\n",
       "<p>12198 rows × 7 columns</p>\n",
       "</div>"
      ],
      "text/plain": [
       "       corpus_id  model_id  cordel_id  topic_id  rater_id  intrusion  \\\n",
       "0              0         0          0         0         0          1   \n",
       "1              0         0          0         0         1          1   \n",
       "2              0         0          0         0         6          0   \n",
       "3              0         0          0         0         8          1   \n",
       "4              0         0          0         0        19          1   \n",
       "...          ...       ...        ...       ...       ...        ...   \n",
       "12193          1         2          5        49       289          1   \n",
       "12194          1         2          5        49       302          1   \n",
       "12195          1         2          5        49       303          1   \n",
       "12196          1         2          5        49       312          1   \n",
       "12197          1         2          5        49       317          1   \n",
       "\n",
       "       confidence  \n",
       "0               1  \n",
       "1               1  \n",
       "2               1  \n",
       "3               1  \n",
       "4               1  \n",
       "...           ...  \n",
       "12193           1  \n",
       "12194           1  \n",
       "12195           1  \n",
       "12196           1  \n",
       "12197           1  \n",
       "\n",
       "[12198 rows x 7 columns]"
      ]
     },
     "execution_count": 4,
     "metadata": {},
     "output_type": "execute_result"
    }
   ],
   "source": [
    "data"
   ]
  },
  {
   "cell_type": "code",
   "execution_count": 5,
   "id": "768407dc",
   "metadata": {},
   "outputs": [],
   "source": [
    "# Setting up numpy arrays for pymc\n",
    "corpus_array = np.array(data[\"corpus_id\"])\n",
    "n_corpora = data[\"corpus_id\"].nunique()\n",
    "\n",
    "model_array = np.array(data[\"model_id\"])\n",
    "n_models = data[\"model_id\"].nunique()\n",
    "\n",
    "cordel_array = np.array(data[\"cordel_id\"])\n",
    "n_cordels = data[\"cordel_id\"].nunique()\n",
    "\n",
    "topic_array = np.array([data[\"cordel_id\"], data[\"topic_id\"]])\n",
    "n_topics = data[\"topic_id\"].nunique()\n",
    "\n",
    "rater_array = np.array(data[\"rater_id\"])\n",
    "n_raters = data[\"rater_id\"].nunique()\n",
    "\n",
    "score_array = np.array(data[\"intrusion\"])"
   ]
  },
  {
   "cell_type": "markdown",
   "id": "73e5648e",
   "metadata": {},
   "source": [
    "## Comparing model with/without cordel mean"
   ]
  },
  {
   "cell_type": "code",
   "execution_count": 6,
   "id": "683df27c",
   "metadata": {},
   "outputs": [],
   "source": [
    "# Model and MCMC specifications\n",
    "\n",
    "n_cores = 2\n",
    "empirical_mean = logit(0.75)\n",
    "r_lambda = 2\n",
    "t_lambda = 1\n",
    "t_sigma = 1\n",
    "# cm_lambda = 2\n",
    "# cm_sigma = 1\n",
    "mu_sigma = 1t"
   ]
  },
  {
   "cell_type": "code",
   "execution_count": 7,
   "id": "7dcd57d8",
   "metadata": {},
   "outputs": [],
   "source": [
    "# Collection of model, trace, prior & posterior simulations\n",
    "# {\"model\": pm.Model, \n",
    "#  \"trace\": az.InferenceData, \n",
    "#  \"prior_sim\": az.InferenceData, \n",
    "#  \"postrr_sim\": az.InferenceData}\n",
    "\n",
    "glm_rater_topic = {\"model\":pm.Model()}\n",
    "glm_rater_topic_cordel = {\"model\":pm.Model()}\n"
   ]
  },
  {
   "cell_type": "code",
   "execution_count": 8,
   "id": "a09d0a5e",
   "metadata": {},
   "outputs": [
    {
     "name": "stderr",
     "output_type": "stream",
     "text": [
      "Auto-assigning NUTS sampler...\n",
      "Initializing NUTS using jitter+adapt_diag...\n",
      "Multiprocess sampling (2 chains in 2 jobs)\n",
      "NUTS: [sigma_r, zr, sigma_a, za, mu]\n"
     ]
    },
    {
     "data": {
      "text/html": [
       "\n",
       "<style>\n",
       "    /* Turns off some styling */\n",
       "    progress {\n",
       "        /* gets rid of default border in Firefox and Opera. */\n",
       "        border: none;\n",
       "        /* Needs to be in here for Safari polyfill so background images work as expected. */\n",
       "        background-size: auto;\n",
       "    }\n",
       "    .progress-bar-interrupted, .progress-bar-interrupted::-webkit-progress-bar {\n",
       "        background: #F44336;\n",
       "    }\n",
       "</style>\n"
      ],
      "text/plain": [
       "<IPython.core.display.HTML object>"
      ]
     },
     "metadata": {},
     "output_type": "display_data"
    },
    {
     "data": {
      "text/html": [
       "\n",
       "    <div>\n",
       "      <progress value='4000' class='' max='4000' style='width:300px; height:20px; vertical-align: middle;'></progress>\n",
       "      100.00% [4000/4000 02:41<00:00 Sampling 2 chains, 0 divergences]\n",
       "    </div>\n",
       "    "
      ],
      "text/plain": [
       "<IPython.core.display.HTML object>"
      ]
     },
     "metadata": {},
     "output_type": "display_data"
    },
    {
     "name": "stderr",
     "output_type": "stream",
     "text": [
      "Sampling 2 chains for 1_000 tune and 1_000 draw iterations (2_000 + 2_000 draws total) took 163 seconds.\n"
     ]
    }
   ],
   "source": [
    "# Rater, Topic model\n",
    "\n",
    "glm_rater_topic[\"model\"] = pm.Model()\n",
    "with glm_rater_topic[\"model\"]:\n",
    "    # Hyperparameter priors\n",
    "    raters = pm.Data(\"raters\", rater_array, mutable=True, dims=\"obs_id\")\n",
    "    topics = pm.Data(\"topics\", topic_array, mutable=True, dims=[\"cordel\", \"topic\"])\n",
    "    cordels = pm.Data(\"cordels\", cordel_array, mutable=True, dims=\"obs_id\")\n",
    "    \n",
    "    sigma_r = pm.Exponential(\"sigma_r\", lam=r_lambda)\n",
    "    zr = pm.Normal(\"zr\",mu=0, sigma=1, shape=n_raters)\n",
    "    sigma_a = pm.Exponential(\"sigma_a\", lam=t_lambda)\n",
    "    za = pm.Normal(\"za\",mu=0, sigma=t_sigma, shape=(n_cordels, n_topics)) \n",
    "    mu = pm.Normal(\"mu\",mu=empirical_mean, sigma=mu_sigma)\n",
    "    \n",
    "    s = pm.Bernoulli(\n",
    "            \"s\", \n",
    "            p=pm.math.invlogit(\n",
    "                mu+\n",
    "                za[topics[0],topics[1]]*sigma_a+\n",
    "                zr[raters]*sigma_r),\n",
    "            observed=score_array, \n",
    "            dims=\"obs_id\")\n",
    "\n",
    "    c_mean = pm.Deterministic(\"c_mean\", \n",
    "                              pm.math.invlogit(mu + (za.T*sigma_a).T).mean(axis=1), \n",
    "                              dims=\"obs_id\")\n",
    "    \n",
    "    glm_rater_topic[\"trace\"]=pm.sample(cores=n_cores)"
   ]
  },
  {
   "cell_type": "code",
   "execution_count": 9,
   "id": "67c96f33",
   "metadata": {},
   "outputs": [
    {
     "name": "stderr",
     "output_type": "stream",
     "text": [
      "Auto-assigning NUTS sampler...\n",
      "Initializing NUTS using jitter+adapt_diag...\n",
      "Multiprocess sampling (2 chains in 2 jobs)\n",
      "NUTS: [sigma_r, zr, sigma_a, za, mu]\n"
     ]
    },
    {
     "data": {
      "text/html": [
       "\n",
       "<style>\n",
       "    /* Turns off some styling */\n",
       "    progress {\n",
       "        /* gets rid of default border in Firefox and Opera. */\n",
       "        border: none;\n",
       "        /* Needs to be in here for Safari polyfill so background images work as expected. */\n",
       "        background-size: auto;\n",
       "    }\n",
       "    .progress-bar-interrupted, .progress-bar-interrupted::-webkit-progress-bar {\n",
       "        background: #F44336;\n",
       "    }\n",
       "</style>\n"
      ],
      "text/plain": [
       "<IPython.core.display.HTML object>"
      ]
     },
     "metadata": {},
     "output_type": "display_data"
    },
    {
     "data": {
      "text/html": [
       "\n",
       "    <div>\n",
       "      <progress value='4000' class='' max='4000' style='width:300px; height:20px; vertical-align: middle;'></progress>\n",
       "      100.00% [4000/4000 02:31<00:00 Sampling 2 chains, 0 divergences]\n",
       "    </div>\n",
       "    "
      ],
      "text/plain": [
       "<IPython.core.display.HTML object>"
      ]
     },
     "metadata": {},
     "output_type": "display_data"
    },
    {
     "name": "stderr",
     "output_type": "stream",
     "text": [
      "Sampling 2 chains for 1_000 tune and 1_000 draw iterations (2_000 + 2_000 draws total) took 152 seconds.\n"
     ]
    }
   ],
   "source": [
    "# Rater, Topic, Cordel model\n",
    "\n",
    "glm_rater_topic_cordel[\"model\"] = pm.Model()\n",
    "with glm_rater_topic_cordel[\"model\"]:\n",
    "    # Hyperparameter priors\n",
    "    raters = pm.Data(\"raters\", rater_array, mutable=True, dims=\"obs_id\")\n",
    "    topics = pm.Data(\"topics\", topic_array, mutable=True, dims=[\"cordel\", \"topic\"])\n",
    "    cordels = pm.Data(\"cordels\", cordel_array, mutable=True, dims=\"obs_id\")\n",
    "    \n",
    "    sigma_r = pm.Exponential(\"sigma_r\", lam=r_lambda)\n",
    "    zr = pm.Normal(\"zr\",mu=0, sigma=1, shape=n_raters)\n",
    "    sigma_a = pm.Exponential(\"sigma_a\", lam=t_lambda)\n",
    "    za = pm.Normal(\"za\",mu=0, sigma=t_sigma, shape=(n_cordels, n_topics)) \n",
    "    mu = pm.Normal(\"mu\",mu=empirical_mean, sigma=mu_sigma, shape=n_cordels)\n",
    "    \n",
    "    s = pm.Bernoulli(\n",
    "            \"s\", \n",
    "            p=pm.math.invlogit(\n",
    "                mu[cordels]+\n",
    "                za[topics[0],topics[1]]*sigma_a+\n",
    "                zr[raters]*sigma_r),\n",
    "            observed=score_array, \n",
    "            dims=\"obs_id\")\n",
    "\n",
    "    c_mean = pm.Deterministic(\"c_mean\", \n",
    "                              pm.math.invlogit(mu + (za.T*sigma_a)).mean(axis=0), \n",
    "                              dims=\"obs_id\")\n",
    "    \n",
    "    glm_rater_topic_cordel[\"trace\"]=pm.sample(cores=n_cores)"
   ]
  },
  {
   "cell_type": "markdown",
   "id": "5973075e",
   "metadata": {},
   "source": [
    "## Diagnostics"
   ]
  },
  {
   "cell_type": "code",
   "execution_count": 10,
   "id": "9d33eb3f",
   "metadata": {},
   "outputs": [
    {
     "data": {
      "text/plain": [
       "{'model': sigma_r ~ Exp(f())\n",
       "      zr ~ N(0, 1)\n",
       " sigma_a ~ Exp(f())\n",
       "      za ~ N(0, 1)\n",
       "      mu ~ N(1.1, 1)\n",
       "  c_mean ~ Deterministic(f(mu, sigma_a, za))\n",
       "       s ~ Bern(f(sigma_r, zr, mu, sigma_a, za)),\n",
       " 'trace': Inference data with groups:\n",
       " \t> posterior\n",
       " \t> log_likelihood\n",
       " \t> sample_stats\n",
       " \t> observed_data\n",
       " \t> constant_data}"
      ]
     },
     "execution_count": 10,
     "metadata": {},
     "output_type": "execute_result"
    }
   ],
   "source": [
    "glm = glm_rater_topic_cordel\n",
    "glm"
   ]
  },
  {
   "cell_type": "code",
   "execution_count": 11,
   "id": "b463d36e",
   "metadata": {},
   "outputs": [],
   "source": [
    "summary_stat = create_summary_stat(glm[\"trace\"])"
   ]
  },
  {
   "cell_type": "code",
   "execution_count": 12,
   "id": "812af5ec",
   "metadata": {},
   "outputs": [],
   "source": [
    "# mcmc_diagnostics(glm[\"trace\"], summary_stat)"
   ]
  },
  {
   "cell_type": "code",
   "execution_count": 13,
   "id": "8d5991c5",
   "metadata": {},
   "outputs": [
    {
     "data": {
      "text/html": [
       "<div>\n",
       "<style scoped>\n",
       "    .dataframe tbody tr th:only-of-type {\n",
       "        vertical-align: middle;\n",
       "    }\n",
       "\n",
       "    .dataframe tbody tr th {\n",
       "        vertical-align: top;\n",
       "    }\n",
       "\n",
       "    .dataframe thead th {\n",
       "        text-align: right;\n",
       "    }\n",
       "</style>\n",
       "<table border=\"1\" class=\"dataframe\">\n",
       "  <thead>\n",
       "    <tr style=\"text-align: right;\">\n",
       "      <th></th>\n",
       "      <th>param</th>\n",
       "      <th>param_num</th>\n",
       "      <th>mean</th>\n",
       "      <th>sd</th>\n",
       "      <th>hdi_3%</th>\n",
       "      <th>hdi_97%</th>\n",
       "      <th>mcse_mean</th>\n",
       "      <th>mcse_sd</th>\n",
       "      <th>ess_bulk</th>\n",
       "      <th>ess_tail</th>\n",
       "      <th>r_hat</th>\n",
       "    </tr>\n",
       "  </thead>\n",
       "  <tbody>\n",
       "    <tr>\n",
       "      <th>621</th>\n",
       "      <td>mu</td>\n",
       "      <td>0</td>\n",
       "      <td>1.5432</td>\n",
       "      <td>0.2175</td>\n",
       "      <td>1.1039</td>\n",
       "      <td>1.9159</td>\n",
       "      <td>0.0135</td>\n",
       "      <td>0.0095</td>\n",
       "      <td>261.2261</td>\n",
       "      <td>503.5044</td>\n",
       "      <td>1.0175</td>\n",
       "    </tr>\n",
       "    <tr>\n",
       "      <th>622</th>\n",
       "      <td>mu</td>\n",
       "      <td>1</td>\n",
       "      <td>0.8541</td>\n",
       "      <td>0.2044</td>\n",
       "      <td>0.4372</td>\n",
       "      <td>1.2137</td>\n",
       "      <td>0.0121</td>\n",
       "      <td>0.0087</td>\n",
       "      <td>284.2683</td>\n",
       "      <td>531.8252</td>\n",
       "      <td>1.0114</td>\n",
       "    </tr>\n",
       "    <tr>\n",
       "      <th>623</th>\n",
       "      <td>mu</td>\n",
       "      <td>2</td>\n",
       "      <td>1.3002</td>\n",
       "      <td>0.2081</td>\n",
       "      <td>0.9460</td>\n",
       "      <td>1.7117</td>\n",
       "      <td>0.0116</td>\n",
       "      <td>0.0082</td>\n",
       "      <td>321.0428</td>\n",
       "      <td>632.7239</td>\n",
       "      <td>1.0033</td>\n",
       "    </tr>\n",
       "    <tr>\n",
       "      <th>624</th>\n",
       "      <td>mu</td>\n",
       "      <td>3</td>\n",
       "      <td>1.4666</td>\n",
       "      <td>0.2032</td>\n",
       "      <td>1.0893</td>\n",
       "      <td>1.8424</td>\n",
       "      <td>0.0116</td>\n",
       "      <td>0.0082</td>\n",
       "      <td>311.7181</td>\n",
       "      <td>669.4373</td>\n",
       "      <td>0.9995</td>\n",
       "    </tr>\n",
       "    <tr>\n",
       "      <th>625</th>\n",
       "      <td>mu</td>\n",
       "      <td>4</td>\n",
       "      <td>1.1719</td>\n",
       "      <td>0.2136</td>\n",
       "      <td>0.7504</td>\n",
       "      <td>1.5512</td>\n",
       "      <td>0.0141</td>\n",
       "      <td>0.0100</td>\n",
       "      <td>229.2035</td>\n",
       "      <td>304.4293</td>\n",
       "      <td>1.0086</td>\n",
       "    </tr>\n",
       "    <tr>\n",
       "      <th>626</th>\n",
       "      <td>mu</td>\n",
       "      <td>5</td>\n",
       "      <td>1.3115</td>\n",
       "      <td>0.2073</td>\n",
       "      <td>0.9068</td>\n",
       "      <td>1.6893</td>\n",
       "      <td>0.0116</td>\n",
       "      <td>0.0082</td>\n",
       "      <td>322.4432</td>\n",
       "      <td>576.6801</td>\n",
       "      <td>1.0074</td>\n",
       "    </tr>\n",
       "    <tr>\n",
       "      <th>627</th>\n",
       "      <td>sigma_r</td>\n",
       "      <td>NaN</td>\n",
       "      <td>0.5083</td>\n",
       "      <td>0.0350</td>\n",
       "      <td>0.4425</td>\n",
       "      <td>0.5737</td>\n",
       "      <td>0.0012</td>\n",
       "      <td>0.0009</td>\n",
       "      <td>813.6462</td>\n",
       "      <td>1472.1398</td>\n",
       "      <td>1.0018</td>\n",
       "    </tr>\n",
       "    <tr>\n",
       "      <th>628</th>\n",
       "      <td>sigma_a</td>\n",
       "      <td>NaN</td>\n",
       "      <td>1.3806</td>\n",
       "      <td>0.0697</td>\n",
       "      <td>1.2571</td>\n",
       "      <td>1.5123</td>\n",
       "      <td>0.0034</td>\n",
       "      <td>0.0024</td>\n",
       "      <td>423.9040</td>\n",
       "      <td>769.6923</td>\n",
       "      <td>1.0016</td>\n",
       "    </tr>\n",
       "    <tr>\n",
       "      <th>629</th>\n",
       "      <td>c_mean</td>\n",
       "      <td>0</td>\n",
       "      <td>0.7659</td>\n",
       "      <td>0.0105</td>\n",
       "      <td>0.7467</td>\n",
       "      <td>0.7857</td>\n",
       "      <td>0.0003</td>\n",
       "      <td>0.0002</td>\n",
       "      <td>1734.9668</td>\n",
       "      <td>1519.0735</td>\n",
       "      <td>0.9999</td>\n",
       "    </tr>\n",
       "    <tr>\n",
       "      <th>630</th>\n",
       "      <td>c_mean</td>\n",
       "      <td>1</td>\n",
       "      <td>0.6407</td>\n",
       "      <td>0.0117</td>\n",
       "      <td>0.6201</td>\n",
       "      <td>0.6638</td>\n",
       "      <td>0.0003</td>\n",
       "      <td>0.0002</td>\n",
       "      <td>1781.2127</td>\n",
       "      <td>1583.9333</td>\n",
       "      <td>0.9995</td>\n",
       "    </tr>\n",
       "    <tr>\n",
       "      <th>631</th>\n",
       "      <td>c_mean</td>\n",
       "      <td>2</td>\n",
       "      <td>0.7152</td>\n",
       "      <td>0.0103</td>\n",
       "      <td>0.6952</td>\n",
       "      <td>0.7337</td>\n",
       "      <td>0.0002</td>\n",
       "      <td>0.0002</td>\n",
       "      <td>1935.7960</td>\n",
       "      <td>1637.1795</td>\n",
       "      <td>1.0006</td>\n",
       "    </tr>\n",
       "    <tr>\n",
       "      <th>632</th>\n",
       "      <td>c_mean</td>\n",
       "      <td>3</td>\n",
       "      <td>0.7581</td>\n",
       "      <td>0.0108</td>\n",
       "      <td>0.7382</td>\n",
       "      <td>0.7782</td>\n",
       "      <td>0.0002</td>\n",
       "      <td>0.0002</td>\n",
       "      <td>1935.2307</td>\n",
       "      <td>1675.7693</td>\n",
       "      <td>1.0019</td>\n",
       "    </tr>\n",
       "    <tr>\n",
       "      <th>633</th>\n",
       "      <td>c_mean</td>\n",
       "      <td>4</td>\n",
       "      <td>0.7008</td>\n",
       "      <td>0.0110</td>\n",
       "      <td>0.6805</td>\n",
       "      <td>0.7208</td>\n",
       "      <td>0.0003</td>\n",
       "      <td>0.0002</td>\n",
       "      <td>1780.8218</td>\n",
       "      <td>1814.1573</td>\n",
       "      <td>1.0052</td>\n",
       "    </tr>\n",
       "    <tr>\n",
       "      <th>634</th>\n",
       "      <td>c_mean</td>\n",
       "      <td>5</td>\n",
       "      <td>0.7283</td>\n",
       "      <td>0.0111</td>\n",
       "      <td>0.7075</td>\n",
       "      <td>0.7482</td>\n",
       "      <td>0.0003</td>\n",
       "      <td>0.0002</td>\n",
       "      <td>1580.0735</td>\n",
       "      <td>1627.7223</td>\n",
       "      <td>1.0020</td>\n",
       "    </tr>\n",
       "  </tbody>\n",
       "</table>\n",
       "</div>"
      ],
      "text/plain": [
       "       param param_num    mean      sd  hdi_3%  hdi_97%  mcse_mean  mcse_sd  \\\n",
       "621       mu         0  1.5432  0.2175  1.1039   1.9159     0.0135   0.0095   \n",
       "622       mu         1  0.8541  0.2044  0.4372   1.2137     0.0121   0.0087   \n",
       "623       mu         2  1.3002  0.2081  0.9460   1.7117     0.0116   0.0082   \n",
       "624       mu         3  1.4666  0.2032  1.0893   1.8424     0.0116   0.0082   \n",
       "625       mu         4  1.1719  0.2136  0.7504   1.5512     0.0141   0.0100   \n",
       "626       mu         5  1.3115  0.2073  0.9068   1.6893     0.0116   0.0082   \n",
       "627  sigma_r       NaN  0.5083  0.0350  0.4425   0.5737     0.0012   0.0009   \n",
       "628  sigma_a       NaN  1.3806  0.0697  1.2571   1.5123     0.0034   0.0024   \n",
       "629   c_mean         0  0.7659  0.0105  0.7467   0.7857     0.0003   0.0002   \n",
       "630   c_mean         1  0.6407  0.0117  0.6201   0.6638     0.0003   0.0002   \n",
       "631   c_mean         2  0.7152  0.0103  0.6952   0.7337     0.0002   0.0002   \n",
       "632   c_mean         3  0.7581  0.0108  0.7382   0.7782     0.0002   0.0002   \n",
       "633   c_mean         4  0.7008  0.0110  0.6805   0.7208     0.0003   0.0002   \n",
       "634   c_mean         5  0.7283  0.0111  0.7075   0.7482     0.0003   0.0002   \n",
       "\n",
       "      ess_bulk   ess_tail   r_hat  \n",
       "621   261.2261   503.5044  1.0175  \n",
       "622   284.2683   531.8252  1.0114  \n",
       "623   321.0428   632.7239  1.0033  \n",
       "624   311.7181   669.4373  0.9995  \n",
       "625   229.2035   304.4293  1.0086  \n",
       "626   322.4432   576.6801  1.0074  \n",
       "627   813.6462  1472.1398  1.0018  \n",
       "628   423.9040   769.6923  1.0016  \n",
       "629  1734.9668  1519.0735  0.9999  \n",
       "630  1781.2127  1583.9333  0.9995  \n",
       "631  1935.7960  1637.1795  1.0006  \n",
       "632  1935.2307  1675.7693  1.0019  \n",
       "633  1780.8218  1814.1573  1.0052  \n",
       "634  1580.0735  1627.7223  1.0020  "
      ]
     },
     "execution_count": 13,
     "metadata": {},
     "output_type": "execute_result"
    }
   ],
   "source": [
    "summary_stat[(summary_stat[\"param\"]!=\"za\") & (summary_stat[\"param\"]!=\"zr\")]"
   ]
  },
  {
   "cell_type": "code",
   "execution_count": 14,
   "id": "615049f2",
   "metadata": {},
   "outputs": [
    {
     "data": {
      "text/html": [
       "\n",
       "<style>\n",
       "    /* Turns off some styling */\n",
       "    progress {\n",
       "        /* gets rid of default border in Firefox and Opera. */\n",
       "        border: none;\n",
       "        /* Needs to be in here for Safari polyfill so background images work as expected. */\n",
       "        background-size: auto;\n",
       "    }\n",
       "    .progress-bar-interrupted, .progress-bar-interrupted::-webkit-progress-bar {\n",
       "        background: #F44336;\n",
       "    }\n",
       "</style>\n"
      ],
      "text/plain": [
       "<IPython.core.display.HTML object>"
      ]
     },
     "metadata": {},
     "output_type": "display_data"
    },
    {
     "data": {
      "text/html": [
       "\n",
       "    <div>\n",
       "      <progress value='2000' class='' max='2000' style='width:300px; height:20px; vertical-align: middle;'></progress>\n",
       "      100.00% [2000/2000 00:02<00:00]\n",
       "    </div>\n",
       "    "
      ],
      "text/plain": [
       "<IPython.core.display.HTML object>"
      ]
     },
     "metadata": {},
     "output_type": "display_data"
    }
   ],
   "source": [
    "with glm[\"model\"]:\n",
    "    glm[\"prior_sim\"]=pm.sample_prior_predictive(1_000)\n",
    "    glm[\"postrr_sim\"]=pm.sample_posterior_predictive(glm[\"trace\"])\n",
    "# plot_prior_postrr(glm[\"prior_sim\"], glm[\"postrr_sim\"], data)"
   ]
  },
  {
   "cell_type": "code",
   "execution_count": 15,
   "id": "2a20ca60",
   "metadata": {
    "scrolled": false
   },
   "outputs": [
    {
     "name": "stderr",
     "output_type": "stream",
     "text": [
      "/tmp/ipykernel_9424/2250795519.py:3: SettingWithCopyWarning: \n",
      "A value is trying to be set on a copy of a slice from a DataFrame.\n",
      "Try using .loc[row_indexer,col_indexer] = value instead\n",
      "\n",
      "See the caveats in the documentation: https://pandas.pydata.org/pandas-docs/stable/user_guide/indexing.html#returning-a-view-versus-a-copy\n",
      "  left[[\"cordel\", \"topic\"]] = left[\"param_num\"].str.split(\", \", expand=True)\n",
      "/tmp/ipykernel_9424/2250795519.py:3: SettingWithCopyWarning: \n",
      "A value is trying to be set on a copy of a slice from a DataFrame.\n",
      "Try using .loc[row_indexer,col_indexer] = value instead\n",
      "\n",
      "See the caveats in the documentation: https://pandas.pydata.org/pandas-docs/stable/user_guide/indexing.html#returning-a-view-versus-a-copy\n",
      "  left[[\"cordel\", \"topic\"]] = left[\"param_num\"].str.split(\", \", expand=True)\n",
      "/tmp/ipykernel_9424/2250795519.py:4: SettingWithCopyWarning: \n",
      "A value is trying to be set on a copy of a slice from a DataFrame.\n",
      "Try using .loc[row_indexer,col_indexer] = value instead\n",
      "\n",
      "See the caveats in the documentation: https://pandas.pydata.org/pandas-docs/stable/user_guide/indexing.html#returning-a-view-versus-a-copy\n",
      "  left[\"cordel\"] = left[\"cordel\"].astype(int)\n",
      "/tmp/ipykernel_9424/2250795519.py:5: SettingWithCopyWarning: \n",
      "A value is trying to be set on a copy of a slice from a DataFrame.\n",
      "Try using .loc[row_indexer,col_indexer] = value instead\n",
      "\n",
      "See the caveats in the documentation: https://pandas.pydata.org/pandas-docs/stable/user_guide/indexing.html#returning-a-view-versus-a-copy\n",
      "  left[\"topic\"] = left[\"topic\"].astype(int)\n",
      "/home/roger/anaconda3/envs/thesis/lib/python3.10/site-packages/arviz/stats/density_utils.py:491: UserWarning: Your data appears to have a single value or no finite values\n",
      "  warnings.warn(\"Your data appears to have a single value or no finite values\")\n",
      "/home/roger/anaconda3/envs/thesis/lib/python3.10/site-packages/arviz/stats/density_utils.py:491: UserWarning: Your data appears to have a single value or no finite values\n",
      "  warnings.warn(\"Your data appears to have a single value or no finite values\")\n"
     ]
    },
    {
     "data": {
      "image/png": "[encoded data removed]",
      "text/plain": [
       "<Figure size 720x720 with 2 Axes>"
      ]
     },
     "metadata": {
      "needs_background": "light"
     },
     "output_type": "display_data"
    }
   ],
   "source": [
    "# Plot distribution of topic location params\n",
    "left = summary_stat[summary_stat[\"param\"]==\"za\"]\n",
    "left[[\"cordel\", \"topic\"]] = left[\"param_num\"].str.split(\", \", expand=True)\n",
    "left[\"cordel\"] = left[\"cordel\"].astype(int)\n",
    "left[\"topic\"] = left[\"topic\"].astype(int)\n",
    "\n",
    "test = pd.merge(left, cordel_ids, left_on=\"cordel\", right_on=\"cordel_id\", how=\"left\")\n",
    "\n",
    "corpora = {\"nytimes\":\"-\", \"wikitext\":\"-\"}\n",
    "models = {\"dvae\":\"blue\", \"etm\":\"orange\", \"mallet\":\"green\", \"Z\":\"red\", \"Cauchy\":\"purple\"}\n",
    "\n",
    "fig, axs = plt.subplots(2, 1, figsize=(10,10))\n",
    "\n",
    "for i, corpus in enumerate(corpora):\n",
    "    for model in models:\n",
    "        az.plot_kde(np.array(test[(test[\"corpus\"]==corpus) & (test[\"model\"]==model)][\"mean\"]), ax=axs[i])\n",
    "        axs[i].get_lines()[-1].set_linestyle(corpora[corpus])\n",
    "        axs[i].get_lines()[-1].set_color(models[model])\n",
    "    sns.kdeplot(norm.rvs(0, 1, size=10_000), ax=axs[i], color=models[\"Z\"])\n",
    "    sns.kdeplot(t.rvs(5, size=1_000), ax=axs[i], color=models[\"Cauchy\"])\n",
    "    axs[i].set_title(corpus)\n",
    "    axs[i].legend(axs[i].get_lines(), models.keys())"
   ]
  },
  {
   "cell_type": "code",
   "execution_count": 16,
   "id": "251a65dc",
   "metadata": {},
   "outputs": [
    {
     "data": {
      "text/plain": [
       "[]"
      ]
     },
     "execution_count": 16,
     "metadata": {},
     "output_type": "execute_result"
    },
    {
     "data": {
      "image/png": "[encoded data removed]",
      "text/plain": [
       "<Figure size 720x360 with 1 Axes>"
      ]
     },
     "metadata": {
      "needs_background": "light"
     },
     "output_type": "display_data"
    }
   ],
   "source": [
    "_, ax = plt.subplots(1, 1, figsize=(10,5))\n",
    "az.plot_kde(np.array(test[\"mean\"]))\n",
    "sns.kdeplot(norm.rvs(0, 1, size=10_000), color=\"orange\")\n",
    "ax.set_title(\"All topic Z scores\")\n",
    "ax.legend(axs[i].get_lines(), [\"Topic Z scores\", \"N(0,1)\"])\n",
    "plt.plot()\n",
    "# topic scores are fairly normal."
   ]
  },
  {
   "cell_type": "code",
   "execution_count": 17,
   "id": "5faa6b7d",
   "metadata": {},
   "outputs": [
    {
     "name": "stdout",
     "output_type": "stream",
     "text": [
      "-2.3269 2.0041\n"
     ]
    }
   ],
   "source": [
    "print(test[\"mean\"].min(), test[\"mean\"].max())"
   ]
  },
  {
   "cell_type": "markdown",
   "id": "25dd2746",
   "metadata": {},
   "source": [
    "## Checking topic distributions"
   ]
  },
  {
   "cell_type": "code",
   "execution_count": 18,
   "id": "0064bbfa",
   "metadata": {},
   "outputs": [
    {
     "name": "stderr",
     "output_type": "stream",
     "text": [
      "/tmp/ipykernel_9424/376362390.py:5: UserWarning: Boolean Series key will be reindexed to match DataFrame index.\n",
      "  topics_ncordel = summary_stat_ncordel[summary_stat[\"param\"]==\"za\"]\n",
      "/tmp/ipykernel_9424/376362390.py:6: SettingWithCopyWarning: \n",
      "A value is trying to be set on a copy of a slice from a DataFrame.\n",
      "Try using .loc[row_indexer,col_indexer] = value instead\n",
      "\n",
      "See the caveats in the documentation: https://pandas.pydata.org/pandas-docs/stable/user_guide/indexing.html#returning-a-view-versus-a-copy\n",
      "  topics_ncordel[[\"cordel\", \"topic\"]] = topics_ncordel[\"param_num\"].str.split(\", \", expand=True)\n",
      "/tmp/ipykernel_9424/376362390.py:6: SettingWithCopyWarning: \n",
      "A value is trying to be set on a copy of a slice from a DataFrame.\n",
      "Try using .loc[row_indexer,col_indexer] = value instead\n",
      "\n",
      "See the caveats in the documentation: https://pandas.pydata.org/pandas-docs/stable/user_guide/indexing.html#returning-a-view-versus-a-copy\n",
      "  topics_ncordel[[\"cordel\", \"topic\"]] = topics_ncordel[\"param_num\"].str.split(\", \", expand=True)\n",
      "/tmp/ipykernel_9424/376362390.py:9: SettingWithCopyWarning: \n",
      "A value is trying to be set on a copy of a slice from a DataFrame.\n",
      "Try using .loc[row_indexer,col_indexer] = value instead\n",
      "\n",
      "See the caveats in the documentation: https://pandas.pydata.org/pandas-docs/stable/user_guide/indexing.html#returning-a-view-versus-a-copy\n",
      "  topics_cordel[[\"cordel\", \"topic\"]] = topics_cordel[\"param_num\"].str.split(\", \", expand=True)\n",
      "/tmp/ipykernel_9424/376362390.py:9: SettingWithCopyWarning: \n",
      "A value is trying to be set on a copy of a slice from a DataFrame.\n",
      "Try using .loc[row_indexer,col_indexer] = value instead\n",
      "\n",
      "See the caveats in the documentation: https://pandas.pydata.org/pandas-docs/stable/user_guide/indexing.html#returning-a-view-versus-a-copy\n",
      "  topics_cordel[[\"cordel\", \"topic\"]] = topics_cordel[\"param_num\"].str.split(\", \", expand=True)\n"
     ]
    }
   ],
   "source": [
    "# Creating summary stats\n",
    "summary_stat_ncordel=create_summary_stat(glm_rater_topic[\"trace\"])\n",
    "summary_stat_cordel=create_summary_stat(glm_rater_topic_cordel[\"trace\"])\n",
    "\n",
    "topics_ncordel = summary_stat_ncordel[summary_stat[\"param\"]==\"za\"]\n",
    "topics_ncordel[[\"cordel\", \"topic\"]] = topics_ncordel[\"param_num\"].str.split(\", \", expand=True)\n",
    "\n",
    "topics_cordel = summary_stat_cordel[summary_stat[\"param\"]==\"za\"]\n",
    "topics_cordel[[\"cordel\", \"topic\"]] = topics_cordel[\"param_num\"].str.split(\", \", expand=True)"
   ]
  },
  {
   "cell_type": "code",
   "execution_count": 19,
   "id": "95b00a27",
   "metadata": {},
   "outputs": [
    {
     "data": {
      "text/html": [
       "<div>\n",
       "<style scoped>\n",
       "    .dataframe tbody tr th:only-of-type {\n",
       "        vertical-align: middle;\n",
       "    }\n",
       "\n",
       "    .dataframe tbody tr th {\n",
       "        vertical-align: top;\n",
       "    }\n",
       "\n",
       "    .dataframe thead th {\n",
       "        text-align: right;\n",
       "    }\n",
       "</style>\n",
       "<table border=\"1\" class=\"dataframe\">\n",
       "  <thead>\n",
       "    <tr style=\"text-align: right;\">\n",
       "      <th></th>\n",
       "      <th>mean</th>\n",
       "    </tr>\n",
       "    <tr>\n",
       "      <th>cordel</th>\n",
       "      <th></th>\n",
       "    </tr>\n",
       "  </thead>\n",
       "  <tbody>\n",
       "    <tr>\n",
       "      <th>0</th>\n",
       "      <td>0.173578</td>\n",
       "    </tr>\n",
       "    <tr>\n",
       "      <th>1</th>\n",
       "      <td>-0.272160</td>\n",
       "    </tr>\n",
       "    <tr>\n",
       "      <th>2</th>\n",
       "      <td>0.020242</td>\n",
       "    </tr>\n",
       "    <tr>\n",
       "      <th>3</th>\n",
       "      <td>0.131460</td>\n",
       "    </tr>\n",
       "    <tr>\n",
       "      <th>4</th>\n",
       "      <td>-0.070316</td>\n",
       "    </tr>\n",
       "    <tr>\n",
       "      <th>5</th>\n",
       "      <td>0.016906</td>\n",
       "    </tr>\n",
       "  </tbody>\n",
       "</table>\n",
       "</div>"
      ],
      "text/plain": [
       "            mean\n",
       "cordel          \n",
       "0       0.173578\n",
       "1      -0.272160\n",
       "2       0.020242\n",
       "3       0.131460\n",
       "4      -0.070316\n",
       "5       0.016906"
      ]
     },
     "execution_count": 19,
     "metadata": {},
     "output_type": "execute_result"
    }
   ],
   "source": [
    "# What is the mean z-scores of topics without cordel mean\n",
    "topics_ncordel.groupby(\"cordel\").agg({\"mean\":\"mean\"})"
   ]
  },
  {
   "cell_type": "code",
   "execution_count": 20,
   "id": "1120bcdc",
   "metadata": {},
   "outputs": [
    {
     "data": {
      "text/html": [
       "<div>\n",
       "<style scoped>\n",
       "    .dataframe tbody tr th:only-of-type {\n",
       "        vertical-align: middle;\n",
       "    }\n",
       "\n",
       "    .dataframe tbody tr th {\n",
       "        vertical-align: top;\n",
       "    }\n",
       "\n",
       "    .dataframe thead th {\n",
       "        text-align: right;\n",
       "    }\n",
       "</style>\n",
       "<table border=\"1\" class=\"dataframe\">\n",
       "  <thead>\n",
       "    <tr style=\"text-align: right;\">\n",
       "      <th></th>\n",
       "      <th>mean</th>\n",
       "    </tr>\n",
       "    <tr>\n",
       "      <th>cordel</th>\n",
       "      <th></th>\n",
       "    </tr>\n",
       "  </thead>\n",
       "  <tbody>\n",
       "    <tr>\n",
       "      <th>0</th>\n",
       "      <td>0.005866</td>\n",
       "    </tr>\n",
       "    <tr>\n",
       "      <th>1</th>\n",
       "      <td>0.007876</td>\n",
       "    </tr>\n",
       "    <tr>\n",
       "      <th>2</th>\n",
       "      <td>0.007020</td>\n",
       "    </tr>\n",
       "    <tr>\n",
       "      <th>3</th>\n",
       "      <td>0.013430</td>\n",
       "    </tr>\n",
       "    <tr>\n",
       "      <th>4</th>\n",
       "      <td>0.000930</td>\n",
       "    </tr>\n",
       "    <tr>\n",
       "      <th>5</th>\n",
       "      <td>-0.001796</td>\n",
       "    </tr>\n",
       "  </tbody>\n",
       "</table>\n",
       "</div>"
      ],
      "text/plain": [
       "            mean\n",
       "cordel          \n",
       "0       0.005866\n",
       "1       0.007876\n",
       "2       0.007020\n",
       "3       0.013430\n",
       "4       0.000930\n",
       "5      -0.001796"
      ]
     },
     "execution_count": 20,
     "metadata": {},
     "output_type": "execute_result"
    }
   ],
   "source": [
    "# What is the mean z-scores of topics with cordel mean\n",
    "topics_cordel.groupby(\"cordel\").agg({\"mean\":\"mean\"})\n",
    "# Looks like the mean of the z values is approximately 0"
   ]
  },
  {
   "cell_type": "code",
   "execution_count": 21,
   "id": "6b320f90",
   "metadata": {},
   "outputs": [
    {
     "data": {
      "text/html": [
       "<div>\n",
       "<style scoped>\n",
       "    .dataframe tbody tr th:only-of-type {\n",
       "        vertical-align: middle;\n",
       "    }\n",
       "\n",
       "    .dataframe tbody tr th {\n",
       "        vertical-align: top;\n",
       "    }\n",
       "\n",
       "    .dataframe thead th {\n",
       "        text-align: right;\n",
       "    }\n",
       "</style>\n",
       "<table border=\"1\" class=\"dataframe\">\n",
       "  <thead>\n",
       "    <tr style=\"text-align: right;\">\n",
       "      <th></th>\n",
       "      <th>param</th>\n",
       "      <th>param_num</th>\n",
       "      <th>mean</th>\n",
       "      <th>sd</th>\n",
       "      <th>hdi_3%</th>\n",
       "      <th>hdi_97%</th>\n",
       "      <th>mcse_mean</th>\n",
       "      <th>mcse_sd</th>\n",
       "      <th>ess_bulk</th>\n",
       "      <th>ess_tail</th>\n",
       "      <th>r_hat</th>\n",
       "    </tr>\n",
       "  </thead>\n",
       "  <tbody>\n",
       "    <tr>\n",
       "      <th>621</th>\n",
       "      <td>mu</td>\n",
       "      <td>0</td>\n",
       "      <td>1.5432</td>\n",
       "      <td>0.2175</td>\n",
       "      <td>1.1039</td>\n",
       "      <td>1.9159</td>\n",
       "      <td>0.0135</td>\n",
       "      <td>0.0095</td>\n",
       "      <td>261.2261</td>\n",
       "      <td>503.5044</td>\n",
       "      <td>1.0175</td>\n",
       "    </tr>\n",
       "    <tr>\n",
       "      <th>622</th>\n",
       "      <td>mu</td>\n",
       "      <td>1</td>\n",
       "      <td>0.8541</td>\n",
       "      <td>0.2044</td>\n",
       "      <td>0.4372</td>\n",
       "      <td>1.2137</td>\n",
       "      <td>0.0121</td>\n",
       "      <td>0.0087</td>\n",
       "      <td>284.2683</td>\n",
       "      <td>531.8252</td>\n",
       "      <td>1.0114</td>\n",
       "    </tr>\n",
       "    <tr>\n",
       "      <th>623</th>\n",
       "      <td>mu</td>\n",
       "      <td>2</td>\n",
       "      <td>1.3002</td>\n",
       "      <td>0.2081</td>\n",
       "      <td>0.9460</td>\n",
       "      <td>1.7117</td>\n",
       "      <td>0.0116</td>\n",
       "      <td>0.0082</td>\n",
       "      <td>321.0428</td>\n",
       "      <td>632.7239</td>\n",
       "      <td>1.0033</td>\n",
       "    </tr>\n",
       "    <tr>\n",
       "      <th>624</th>\n",
       "      <td>mu</td>\n",
       "      <td>3</td>\n",
       "      <td>1.4666</td>\n",
       "      <td>0.2032</td>\n",
       "      <td>1.0893</td>\n",
       "      <td>1.8424</td>\n",
       "      <td>0.0116</td>\n",
       "      <td>0.0082</td>\n",
       "      <td>311.7181</td>\n",
       "      <td>669.4373</td>\n",
       "      <td>0.9995</td>\n",
       "    </tr>\n",
       "    <tr>\n",
       "      <th>625</th>\n",
       "      <td>mu</td>\n",
       "      <td>4</td>\n",
       "      <td>1.1719</td>\n",
       "      <td>0.2136</td>\n",
       "      <td>0.7504</td>\n",
       "      <td>1.5512</td>\n",
       "      <td>0.0141</td>\n",
       "      <td>0.0100</td>\n",
       "      <td>229.2035</td>\n",
       "      <td>304.4293</td>\n",
       "      <td>1.0086</td>\n",
       "    </tr>\n",
       "    <tr>\n",
       "      <th>626</th>\n",
       "      <td>mu</td>\n",
       "      <td>5</td>\n",
       "      <td>1.3115</td>\n",
       "      <td>0.2073</td>\n",
       "      <td>0.9068</td>\n",
       "      <td>1.6893</td>\n",
       "      <td>0.0116</td>\n",
       "      <td>0.0082</td>\n",
       "      <td>322.4432</td>\n",
       "      <td>576.6801</td>\n",
       "      <td>1.0074</td>\n",
       "    </tr>\n",
       "  </tbody>\n",
       "</table>\n",
       "</div>"
      ],
      "text/plain": [
       "    param param_num    mean      sd  hdi_3%  hdi_97%  mcse_mean  mcse_sd  \\\n",
       "621    mu         0  1.5432  0.2175  1.1039   1.9159     0.0135   0.0095   \n",
       "622    mu         1  0.8541  0.2044  0.4372   1.2137     0.0121   0.0087   \n",
       "623    mu         2  1.3002  0.2081  0.9460   1.7117     0.0116   0.0082   \n",
       "624    mu         3  1.4666  0.2032  1.0893   1.8424     0.0116   0.0082   \n",
       "625    mu         4  1.1719  0.2136  0.7504   1.5512     0.0141   0.0100   \n",
       "626    mu         5  1.3115  0.2073  0.9068   1.6893     0.0116   0.0082   \n",
       "\n",
       "     ess_bulk  ess_tail   r_hat  \n",
       "621  261.2261  503.5044  1.0175  \n",
       "622  284.2683  531.8252  1.0114  \n",
       "623  321.0428  632.7239  1.0033  \n",
       "624  311.7181  669.4373  0.9995  \n",
       "625  229.2035  304.4293  1.0086  \n",
       "626  322.4432  576.6801  1.0074  "
      ]
     },
     "execution_count": 21,
     "metadata": {},
     "output_type": "execute_result"
    }
   ],
   "source": [
    "# What are the point estimates for cordel means?\n",
    "summary_stat_cordel[summary_stat_cordel[\"param\"]==\"mu\"]"
   ]
  },
  {
   "cell_type": "code",
   "execution_count": 22,
   "id": "192f5042",
   "metadata": {
    "scrolled": false
   },
   "outputs": [
    {
     "data": {
      "text/html": [
       "<div>\n",
       "<style scoped>\n",
       "    .dataframe tbody tr th:only-of-type {\n",
       "        vertical-align: middle;\n",
       "    }\n",
       "\n",
       "    .dataframe tbody tr th {\n",
       "        vertical-align: top;\n",
       "    }\n",
       "\n",
       "    .dataframe thead th {\n",
       "        text-align: right;\n",
       "    }\n",
       "</style>\n",
       "<table border=\"1\" class=\"dataframe\">\n",
       "  <thead>\n",
       "    <tr style=\"text-align: right;\">\n",
       "      <th></th>\n",
       "      <th>mean</th>\n",
       "    </tr>\n",
       "    <tr>\n",
       "      <th>cordel</th>\n",
       "      <th></th>\n",
       "    </tr>\n",
       "  </thead>\n",
       "  <tbody>\n",
       "    <tr>\n",
       "      <th>0</th>\n",
       "      <td>1.524439</td>\n",
       "    </tr>\n",
       "    <tr>\n",
       "      <th>1</th>\n",
       "      <td>0.904952</td>\n",
       "    </tr>\n",
       "    <tr>\n",
       "      <th>2</th>\n",
       "      <td>1.311332</td>\n",
       "    </tr>\n",
       "    <tr>\n",
       "      <th>3</th>\n",
       "      <td>1.465903</td>\n",
       "    </tr>\n",
       "    <tr>\n",
       "      <th>4</th>\n",
       "      <td>1.185475</td>\n",
       "    </tr>\n",
       "    <tr>\n",
       "      <th>5</th>\n",
       "      <td>1.306696</td>\n",
       "    </tr>\n",
       "  </tbody>\n",
       "</table>\n",
       "</div>"
      ],
      "text/plain": [
       "            mean\n",
       "cordel          \n",
       "0       1.524439\n",
       "1       0.904952\n",
       "2       1.311332\n",
       "3       1.465903\n",
       "4       1.185475\n",
       "5       1.306696"
      ]
     },
     "execution_count": 22,
     "metadata": {},
     "output_type": "execute_result"
    }
   ],
   "source": [
    "# Check: What would the cordel means be from no cordel model.\n",
    "topics_ncordel.groupby(\"cordel\").agg({\"mean\":\"mean\"}) \\\n",
    "* summary_stat_ncordel[summary_stat_ncordel[\"param\"]==\"sigma_a\"][\"mean\"].iloc[0]\\\n",
    "+ summary_stat_ncordel[summary_stat_ncordel[\"param\"]==\"mu\"][\"mean\"].iloc[0]"
   ]
  },
  {
   "cell_type": "code",
   "execution_count": 23,
   "id": "362c7199",
   "metadata": {},
   "outputs": [
    {
     "data": {
      "text/plain": [
       "<AxesSubplot:title={'center':'zr'}, ylabel='Density'>"
      ]
     },
     "execution_count": 23,
     "metadata": {},
     "output_type": "execute_result"
    },
    {
     "data": {
      "image/png": "[encoded data removed]",
      "text/plain": [
       "<Figure size 864x144 with 2 Axes>"
      ]
     },
     "metadata": {
      "needs_background": "light"
     },
     "output_type": "display_data"
    }
   ],
   "source": [
    "# Traces are not normal distributed\n",
    "a = az.plot_trace(glm_rater_topic_cordel[\"trace\"].posterior, coords = {\"zr_dim_0\":5}, var_names=\"zr\")[0]\n",
    "sns.kdeplot(norm.rvs(0,1,size=10_000), ax=a[0], color=\"orange\")"
   ]
  },
  {
   "cell_type": "code",
   "execution_count": 24,
   "id": "357c1306",
   "metadata": {},
   "outputs": [
    {
     "data": {
      "image/png": "[encoded data removed]",
      "text/plain": [
       "<Figure size 864x144 with 2 Axes>"
      ]
     },
     "metadata": {
      "needs_background": "light"
     },
     "output_type": "display_data"
    }
   ],
   "source": [
    "a = az.plot_trace(glm_rater_topic_cordel[\"trace\"].posterior, var_names=\"sigma_r\")"
   ]
  },
  {
   "cell_type": "code",
   "execution_count": 25,
   "id": "8e2434b6",
   "metadata": {},
   "outputs": [],
   "source": [
    "corpus_raters={}\n",
    "corpus_raters[0]=data[data[\"corpus_id\"]==0][\"rater_id\"].unique()\n",
    "corpus_raters[1]=data[data[\"corpus_id\"]==1][\"rater_id\"].unique()"
   ]
  },
  {
   "cell_type": "code",
   "execution_count": 26,
   "id": "1439ce99",
   "metadata": {},
   "outputs": [
    {
     "data": {
      "image/png": "[encoded data removed]",
      "text/plain": [
       "<Figure size 432x288 with 1 Axes>"
      ]
     },
     "metadata": {
      "needs_background": "light"
     },
     "output_type": "display_data"
    }
   ],
   "source": [
    "_, ax = plt.subplots(1, 1, figsize=(6,4))\n",
    "ss0 = summary_stat[(summary_stat[\"param\"]==\"zr\")&(summary_stat[\"param_num\"].isin((str(i) for i in corpus_raters[0])))]\n",
    "ss1 = summary_stat[(summary_stat[\"param\"]==\"zr\")&(summary_stat[\"param_num\"].isin((str(i) for i in corpus_raters[1])))]\n",
    "sns.kdeplot(norm.rvs(0, 1, size=10_000), ax=ax)\n",
    "sns.kdeplot(skewnorm.rvs(0.3, loc=0, scale=0.68, size=10_000), ax=ax)\n",
    "sns.kdeplot(ss0[\"mean\"], ax=ax)\n",
    "sns.kdeplot(ss1[\"mean\"], ax=ax)\n",
    "ax.legend(ax.get_lines(), [\"N(0,1)\", \"SN(-1, 0, 1)\", \"NYT raters\", \"Wiki raters\"])\n",
    "ax.set_title(\"Distribution of rater point estimates\")\n",
    "plt.show()\n",
    "\n",
    "\n",
    "# Distribution of rater point estimates is not standard normal. \n",
    "# It is left skewed (aka a few people are terrible at intrusion scores)\n",
    "# Select which raters and then use their posteriors to generate"
   ]
  },
  {
   "cell_type": "code",
   "execution_count": 27,
   "id": "90cacbbd",
   "metadata": {},
   "outputs": [
    {
     "data": {
      "text/plain": [
       "zr         321\n",
       "za         300\n",
       "c_mean       6\n",
       "mu           6\n",
       "sigma_a      1\n",
       "sigma_r      1\n",
       "Name: param, dtype: int64"
      ]
     },
     "execution_count": 27,
     "metadata": {},
     "output_type": "execute_result"
    }
   ],
   "source": [
    "summary_stat[\"param\"].value_counts()"
   ]
  },
  {
   "cell_type": "markdown",
   "id": "2ae9c9c2",
   "metadata": {},
   "source": [
    "## Simulating Rater/Topic Interactions"
   ]
  },
  {
   "cell_type": "code",
   "execution_count": 99,
   "id": "a9269536",
   "metadata": {},
   "outputs": [],
   "source": [
    "p_diff = 0.08\n",
    "n_sim_raters = 40\n",
    "topics_per_r = 40\n",
    "n_sims = 1_000\n",
    "seed = 1992\n",
    "\n",
    "\n",
    "# Setting numpy seed\n",
    "np.random.seed(seed)\n",
    "\n",
    "# Adding cordel id to topic_ids dataframe\n",
    "topic_cordel_ids = pd.merge(topic_ids, cordel_ids, on=[\"corpus\", \"model\"], how=\"left\")"
   ]
  },
  {
   "cell_type": "code",
   "execution_count": 100,
   "id": "f7d9cd74",
   "metadata": {
    "scrolled": true
   },
   "outputs": [
    {
     "name": "stdout",
     "output_type": "stream",
     "text": [
      "sim_id 0: 0.20s\n",
      "sim_id 100: 12.33s\n",
      "sim_id 200: 24.13s\n",
      "sim_id 300: 36.31s\n",
      "sim_id 400: 48.39s\n",
      "sim_id 500: 60.61s\n",
      "sim_id 600: 73.89s\n",
      "sim_id 700: 87.21s\n",
      "sim_id 800: 100.88s\n",
      "sim_id 900: 113.60s\n"
     ]
    }
   ],
   "source": [
    "ps_data = pd.DataFrame(columns=[\"sim_id\", \"sim_cordel_id\", \"sim_topic_id\", \"sim_rater_id\", \n",
    "                                \"cordel_id\", \"topic_id\", \"rater_id\"], dtype=np.int16)\n",
    "start = time()\n",
    "\n",
    "for sim_id in range(n_sims):\n",
    "\n",
    "    # data template\n",
    "    sim_data = pd.DataFrame(columns=[\"sim_id\", \"cordel_id\", \"topic_id\", \"rater_id\"])  \n",
    "    \n",
    "    # Raters in this simulation\n",
    "    raters = np.random.choice(data[\"rater_id\"].unique(), size=n_sim_raters, replace=True)\n",
    "\n",
    "    \n",
    "    # Topics in this simulation (topic_cordel_ids index values)\n",
    "    sim_topics = np.random.choice(range(len(topic_cordel_ids)), size=100, replace=True)\n",
    "    sim_cordel0_topics = sim_topics[:50]\n",
    "    sim_cordel1_topics = sim_topics[50:]\n",
    "\n",
    "    # Count of scores for each topic\n",
    "    counts = np.zeros(100)\n",
    "\n",
    "    for sim_rater_id, rater in enumerate(raters):\n",
    "    #     Set the probability. Topics with fewer samples have higher probability\n",
    "        counts = counts-counts.min()+1\n",
    "        p = 1/counts**20\n",
    "        p = p/p.sum()\n",
    "\n",
    "    #     Sample according to probability\n",
    "        rated_topics = np.random.choice(range(100), size=topics_per_r, replace=False, p=p)\n",
    "        rated_topics_idx = sim_topics[rated_topics]\n",
    "        counts[rated_topics] += 1\n",
    "\n",
    "    #     Append topics to simulation\n",
    "        d=topic_cordel_ids.loc[rated_topics_idx, [\"topic_id\", \"cordel_id\"]]\n",
    "        d[\"sim_rater_id\"]=sim_rater_id\n",
    "        d[\"sim_topic_id\"]=rated_topics\n",
    "        d[\"rater_id\"]=rater\n",
    "\n",
    "        sim_data = pd.concat([sim_data, d], axis=\"rows\", ignore_index=True)\n",
    "\n",
    "#     Adding one topic/rater interaction into df\n",
    "    sim_data[\"sim_id\"] = sim_id\n",
    "    sim_data.loc[sim_data[\"sim_topic_id\"].isin(range(0,50)),[\"sim_cordel_id\"]] = 0\n",
    "    sim_data.loc[sim_data[\"sim_topic_id\"].isin(range(50,100)),[\"sim_cordel_id\"]] = 1\n",
    "#     sim_data = pd.merge(sim_data, topic_counts[[\"cordel_id\", \"topic_id\", \"sim_cordel_id\"]]\n",
    "#                         ,on=[\"cordel_id\", \"topic_id\"], how=\"left\")\n",
    "    sim_data=sim_data.astype(np.int16)\n",
    "\n",
    "#     Appending interaction to ds.\n",
    "    ps_data = pd.concat([ps_data, sim_data], ignore_index=True)\n",
    "    \n",
    "    if sim_id % 100 == 0:\n",
    "        print(f\"sim_id {sim_id}: {time() - start:.2f}s\")"
   ]
  },
  {
   "cell_type": "code",
   "execution_count": 101,
   "id": "761db8fe",
   "metadata": {},
   "outputs": [],
   "source": [
    "d = ps_data.copy(deep=True)"
   ]
  },
  {
   "cell_type": "code",
   "execution_count": 102,
   "id": "fc47db44",
   "metadata": {
    "scrolled": true
   },
   "outputs": [
    {
     "data": {
      "text/plain": [
       "[]"
      ]
     },
     "execution_count": 102,
     "metadata": {},
     "output_type": "execute_result"
    },
    {
     "data": {
      "image/png": "[encoded data removed]",
      "text/plain": [
       "<Figure size 432x288 with 1 Axes>"
      ]
     },
     "metadata": {
      "needs_background": "light"
     },
     "output_type": "display_data"
    }
   ],
   "source": [
    "d[\"topic_idx\"] = d[\"cordel_id\"]*np.array([50]) + d[\"topic_id\"]\n",
    "plt.hist(d[d[\"sim_cordel_id\"]==0][\"topic_idx\"], bins=300)\n",
    "plt.title(\"Distribution of topics for cordel0\")\n",
    "plt.plot()"
   ]
  },
  {
   "cell_type": "code",
   "execution_count": 103,
   "id": "71647909",
   "metadata": {},
   "outputs": [
    {
     "data": {
      "text/plain": [
       "[]"
      ]
     },
     "execution_count": 103,
     "metadata": {},
     "output_type": "execute_result"
    },
    {
     "data": {
      "image/png": "[encoded data removed]",
      "text/plain": [
       "<Figure size 432x288 with 1 Axes>"
      ]
     },
     "metadata": {
      "needs_background": "light"
     },
     "output_type": "display_data"
    }
   ],
   "source": [
    "d[\"topic_idx\"] = d[\"cordel_id\"]*np.array([50]) + d[\"topic_id\"]\n",
    "plt.hist(d[d[\"sim_cordel_id\"]==1][\"topic_idx\"], bins=300)\n",
    "plt.title(\"Distribution of topics for cordel1\")\n",
    "plt.plot()"
   ]
  },
  {
   "cell_type": "code",
   "execution_count": 104,
   "id": "77cb6ae4",
   "metadata": {},
   "outputs": [
    {
     "data": {
      "text/plain": [
       "[]"
      ]
     },
     "execution_count": 104,
     "metadata": {},
     "output_type": "execute_result"
    },
    {
     "data": {
      "image/png": "[encoded data removed]",
      "text/plain": [
       "<Figure size 432x288 with 1 Axes>"
      ]
     },
     "metadata": {
      "needs_background": "light"
     },
     "output_type": "display_data"
    }
   ],
   "source": [
    "plt.hist(d[\"rater_id\"], bins=d[\"rater_id\"].nunique())\n",
    "plt.title(\"Distribution of raters over all simulations\")\n",
    "plt.plot()"
   ]
  },
  {
   "cell_type": "code",
   "execution_count": 105,
   "id": "29dc2116",
   "metadata": {},
   "outputs": [
    {
     "data": {
      "image/png": "[encoded data removed]",
      "text/plain": [
       "<Figure size 432x288 with 2 Axes>"
      ]
     },
     "metadata": {
      "needs_background": "light"
     },
     "output_type": "display_data"
    }
   ],
   "source": [
    "fig, ax = plt.subplots()\n",
    "hh = ax.hist2d(d[\"topic_idx\"], d[\"rater_id\"],bins=[300, d[\"rater_id\"].nunique()])\n",
    "fig.colorbar(hh[3], ax=ax)\n",
    "plt.title(\"Distribution of ratings by topic and rater\")\n",
    "plt.show()"
   ]
  },
  {
   "cell_type": "raw",
   "id": "6ab15ba7",
   "metadata": {},
   "source": [
    "Checks for a single simulation\n",
    "All raters were represented \n",
    "All topics were represented (and in one of the two cordels)\n",
    "\n",
    "Checks for total simulation\n",
    "hist distribution of ratings/rater\n",
    "hist distribution of ratings/topic\n",
    "hist distribution of topics in cordel 1/2"
   ]
  },
  {
   "cell_type": "markdown",
   "id": "b40d4c8c",
   "metadata": {},
   "source": [
    "## Simulating Scores"
   ]
  },
  {
   "cell_type": "code",
   "execution_count": 106,
   "id": "53f2f722",
   "metadata": {},
   "outputs": [],
   "source": [
    "pymc_model = glm_rater_topic_cordel[\"model\"]\n",
    "trace = glm_rater_topic_cordel[\"trace\"]\n",
    "\n",
    "# Calculating proposed logodds means\n",
    "# https://www.wolframalpha.com/input?i=solve+for+x+and+y%2C+x%2By%3Dc%2C+1%2F%281%2Be%5E-x%29-1%2F%281%2Be%5E-y%29%3Dp\n",
    "mean_model_logodds = summary_stat[summary_stat[\"param\"]==\"mu\"][\"mean\"].mean()\n",
    "c = 2*mean_model_logodds\n",
    "C = np.exp(-c)\n",
    "det = p_diff**2-2*C*(p_diff**2-2)+(C**2)*(p_diff**2)\n",
    "quad = (-p_diff*(C+1)+det**0.5)/(2*(p_diff+1))\n",
    "proposed_model1_mean = -np.log(quad)\n",
    "proposed_model0_mean = c-proposed_model1_mean"
   ]
  },
  {
   "cell_type": "code",
   "execution_count": 107,
   "id": "599be4ad",
   "metadata": {},
   "outputs": [],
   "source": [
    "# Setting trace of cordel 0 and cordel 1 to proposed values\n",
    "trace.posterior[\"mu\"].loc[dict(mu_dim_0=0)] = proposed_model0_mean\n",
    "trace.posterior[\"mu\"].loc[dict(mu_dim_0=1)] = proposed_model1_mean"
   ]
  },
  {
   "cell_type": "code",
   "execution_count": 108,
   "id": "749c3191",
   "metadata": {
    "scrolled": true
   },
   "outputs": [
    {
     "name": "stdout",
     "output_type": "stream",
     "text": [
      "sim_id 0: 0.10s\n",
      "sim_id 100: 9.32s\n",
      "sim_id 200: 17.51s\n",
      "sim_id 300: 25.43s\n",
      "sim_id 400: 35.07s\n",
      "sim_id 500: 43.92s\n",
      "sim_id 600: 52.64s\n",
      "sim_id 700: 60.82s\n",
      "sim_id 800: 69.60s\n",
      "sim_id 900: 79.21s\n",
      "done! 87.17s\n"
     ]
    }
   ],
   "source": [
    "start = time()\n",
    "\n",
    "sim_scores = pd.DataFrame(columns=[\"sim_id\", \"sim_cordel_id\", \"sim_topic_id\", \"sim_rater_id\", \"cordel_id\", \"topic_id\", \"rater_id\", \"intrusion\", ]\n",
    "                       ,dtype=np.int16)\n",
    "# TODO: add chain options\n",
    "for sim_id in range(1_000):\n",
    "    # Setting data containing rater/topic interaction\n",
    "    sim_data = ps_data[ps_data[\"sim_id\"]==sim_id]\n",
    "    sim_rater_array = np.array(sim_data[\"rater_id\"], dtype=int)\n",
    "    topic_array = np.array([sim_data[\"cordel_id\"], sim_data[\"topic_id\"]], dtype=int)\n",
    "    cordel_array = np.array(sim_data[\"sim_cordel_id\"], dtype=int)\n",
    "    \n",
    "    # Running simulation\n",
    "    with pymc_model:\n",
    "        pm.set_data({\n",
    "            \"raters\":sim_rater_array, \n",
    "            \"topics\":topic_array, \n",
    "            \"cordels\":cordel_array})\n",
    "        postrr_sim=pm.sample_posterior_predictive(trace.posterior.sel({\"chain\":[0], \"draw\":[sim_id]})\n",
    "                                                  ,predictions=True, progressbar=False, random_seed=seed+sim_id)\n",
    "    \n",
    "    # Adding results to sim_scores\n",
    "    s = (postrr_sim.predictions.to_dataframe().reset_index()\n",
    "          .rename(columns={\"s\":\"intrusion\"}))\n",
    "    this_sim_scores = pd.concat([sim_data.reset_index(drop=True)\n",
    "                                 ,s[\"intrusion\"]], axis=\"columns\").astype(np.int16)\n",
    "    sim_scores = pd.concat([sim_scores, this_sim_scores], axis=\"index\", ignore_index=True)\n",
    "    \n",
    "    if sim_id % 100 == 0:\n",
    "        print(f\"sim_id {sim_id}: {time() - start:.2f}s\")\n",
    "print(f\"done! {time() - start:.2f}s\")"
   ]
  },
  {
   "cell_type": "raw",
   "id": "a8aa0af7",
   "metadata": {},
   "source": [
    "Checks\n",
    "\n",
    "Distribution of model 1 means vs model 2 means.\n",
    "Distribution of model 1 - model 2 means\n",
    "KDE plot 100 simulations of model topic proportions and actual model topic proportions\n",
    "KDE plot 100 simulations of rater proportions and actual rater proportions\n",
    "scatterplot topic contribution in posterior vs actual scores\n",
    "scatterplot rater contribution in posterior vs actual scores\n",
    "\n",
    "Note!!\n",
    "Is topic quality independent? Can we use bootstrapping to simulate topics or do we need stratified sampling (?)"
   ]
  },
  {
   "cell_type": "code",
   "execution_count": 109,
   "id": "fedc291b",
   "metadata": {
    "scrolled": true
   },
   "outputs": [
    {
     "name": "stdout",
     "output_type": "stream",
     "text": [
      "Perc of simulations with mean1 < mean0 (n raters=40): 8.4%\n"
     ]
    },
    {
     "data": {
      "image/png": "[encoded data removed]",
      "text/plain": [
       "<Figure size 720x720 with 2 Axes>"
      ]
     },
     "metadata": {
      "needs_background": "light"
     },
     "output_type": "display_data"
    }
   ],
   "source": [
    "_, ax = plt.subplots(2,1,figsize=(10,10))\n",
    "\n",
    "n_ratings_per_cordel = n_sim_raters*topics_per_r/2\n",
    "\n",
    "sns.kdeplot(sim_scores[sim_scores[\"sim_cordel_id\"]==0].groupby([\"sim_id\"]).agg({\"intrusion\":\"sum\"})[\"intrusion\"]/n_ratings_per_cordel, ax=ax[0])\n",
    "sns.kdeplot(sim_scores[sim_scores[\"sim_cordel_id\"]==1].groupby([\"sim_id\"]).agg({\"intrusion\":\"sum\"})[\"intrusion\"]/n_ratings_per_cordel, ax=ax[0])\n",
    "ax[0].legend(ax[0].get_lines(), [\"Cordel 0 means\", \"Cordel 1 means\"])\n",
    "ax[0].set_xlabel(\"Cordel means (probability)\")\n",
    "ax[0].set_title(f\"Simulated means by cordel\")\n",
    "\n",
    "diff = sim_scores[sim_scores[\"sim_cordel_id\"]==1].groupby([\"sim_id\"]).agg({\"intrusion\":\"sum\"}) \\\n",
    "        - sim_scores[sim_scores[\"sim_cordel_id\"]==0].groupby([\"sim_id\"]).agg({\"intrusion\":\"sum\"})\n",
    "\n",
    "sns.kdeplot(diff[\"intrusion\"]/n_ratings_per_cordel, ax=ax[1])\n",
    "ax[1].set_title(f\"Difference in cordel means\")\n",
    "plt.plot()\n",
    "\n",
    "print(f\"Perc of simulations with mean1 < mean0 (n raters={n_sim_raters}): {(diff['intrusion']<=0).sum()/1000:.1%}\")\n"
   ]
  },
  {
   "cell_type": "code",
   "execution_count": 110,
   "id": "9e691210",
   "metadata": {},
   "outputs": [
    {
     "data": {
      "image/png": "[encoded data removed]",
      "text/plain": [
       "<Figure size 720x360 with 1 Axes>"
      ]
     },
     "metadata": {
      "needs_background": "light"
     },
     "output_type": "display_data"
    }
   ],
   "source": [
    "size=100\n",
    "\n",
    "_, ax = plt.subplots(1,1,figsize=(10,5))\n",
    "\n",
    "\n",
    "# Selecting 100 random simulations\n",
    "rand_ids = np.random.choice(range(1000), size=size, replace=False)\n",
    "\n",
    "# Calculating topic proportions\n",
    "samples = (sim_scores[sim_scores[\"sim_id\"].isin(rand_ids)].groupby([\"sim_id\", \"sim_topic_id\"])\n",
    "           .agg({\"intrusion\":[\"sum\", \"count\"]}).reset_index())\n",
    "samples[\"p\"] = samples[(\"intrusion\", \"sum\")]/samples[(\"intrusion\", \"count\")]\n",
    "# Plotting proportions\n",
    "for sim_id in rand_ids:\n",
    "    sns.kdeplot(samples[samples[\"sim_id\"]==sim_id][\"p\"], ax=ax, color=\"navy\", alpha=7/size**0.9)\n",
    "\n",
    "# Repeat calculations and plots for actual data\n",
    "actuals = (data.groupby([\"cordel_id\", \"topic_id\"])\n",
    "           .agg({\"intrusion\":[\"sum\", \"count\"]}).reset_index())\n",
    "actuals[\"p\"]=actuals[(\"intrusion\", \"sum\")]/actuals[(\"intrusion\", \"count\")]\n",
    "for cordel_id in range(6):\n",
    "    sns.kdeplot(actuals[actuals[\"cordel_id\"]==cordel_id][\"p\"], ax=ax, color=\"orange\", alpha=0.7)\n",
    "\n",
    "ax.set_title(\"Simulated topic probabilities (blue) vs actual topic probabilities (orange)\")\n",
    "plt.show()"
   ]
  },
  {
   "cell_type": "code",
   "execution_count": 111,
   "id": "2f776304",
   "metadata": {
    "scrolled": true
   },
   "outputs": [
    {
     "data": {
      "image/png": "[encoded data removed]",
      "text/plain": [
       "<Figure size 720x360 with 1 Axes>"
      ]
     },
     "metadata": {
      "needs_background": "light"
     },
     "output_type": "display_data"
    }
   ],
   "source": [
    "size=100\n",
    "\n",
    "_, ax = plt.subplots(1,1,figsize=(10,5))\n",
    "\n",
    "\n",
    "# Selecting 100 random simulations\n",
    "rand_ids = np.random.choice(range(1000), size=size, replace=False)\n",
    "\n",
    "# Calculating rater proportions\n",
    "samples = (sim_scores[sim_scores[\"sim_id\"].isin(rand_ids)].groupby([\"sim_id\", \"sim_rater_id\"])\n",
    "           .agg({\"intrusion\":[\"sum\", \"count\"]}).reset_index())\n",
    "samples[\"p\"] = samples[(\"intrusion\", \"sum\")]/samples[(\"intrusion\", \"count\")]\n",
    "# Plotting proportions\n",
    "for sim_id in rand_ids:\n",
    "    sns.kdeplot(samples[samples[\"sim_id\"]==sim_id][\"p\"], ax=ax, color=\"navy\", alpha=0.05)\n",
    "\n",
    "# Repeat calculations and plots for actual data\n",
    "actuals = (data.groupby([\"corpus_id\", \"rater_id\"])\n",
    "           .agg({\"intrusion\":[\"sum\", \"count\"]}).reset_index())\n",
    "actuals[\"p\"]=actuals[(\"intrusion\", \"sum\")]/actuals[(\"intrusion\", \"count\")]\n",
    "for corpus_id in range(2):\n",
    "    sns.kdeplot(actuals[actuals[\"corpus_id\"]==corpus_id][\"p\"], ax=ax, color=\"orange\", alpha=1)\n",
    "\n",
    "ax.set_title(\"Simulated rater probabilities (blue) vs actual rater probabilities (orange)\")\n",
    "plt.show()"
   ]
  },
  {
   "cell_type": "markdown",
   "id": "c1c3c15f",
   "metadata": {},
   "source": [
    ". \\\n",
    ". \\\n",
    ". \\\n",
    ". \\\n",
    ". \\\n",
    ". \\\n",
    ". \n",
    "## Simulating Scores (Archive)"
   ]
  },
  {
   "cell_type": "code",
   "execution_count": 18,
   "id": "1a88219a",
   "metadata": {},
   "outputs": [
    {
     "name": "stderr",
     "output_type": "stream",
     "text": [
      "/tmp/ipykernel_4584/289123916.py:11: SettingWithCopyWarning: \n",
      "A value is trying to be set on a copy of a slice from a DataFrame.\n",
      "Try using .loc[row_indexer,col_indexer] = value instead\n",
      "\n",
      "See the caveats in the documentation: https://pandas.pydata.org/pandas-docs/stable/user_guide/indexing.html#returning-a-view-versus-a-copy\n",
      "  topics[[\"cordel\", \"topic\"]] = topics[\"param_num\"].str.split(\", \", expand=True)\n",
      "/tmp/ipykernel_4584/289123916.py:11: SettingWithCopyWarning: \n",
      "A value is trying to be set on a copy of a slice from a DataFrame.\n",
      "Try using .loc[row_indexer,col_indexer] = value instead\n",
      "\n",
      "See the caveats in the documentation: https://pandas.pydata.org/pandas-docs/stable/user_guide/indexing.html#returning-a-view-versus-a-copy\n",
      "  topics[[\"cordel\", \"topic\"]] = topics[\"param_num\"].str.split(\", \", expand=True)\n"
     ]
    }
   ],
   "source": [
    "p_diff = 0.08 #Hoyle set the difference as 4/50 topics\n",
    "corpus = \"nytimes\"\n",
    "# Proposed mean of model 0 has worse performance, Proposed mean of model 1 has better performance \n",
    "model0 = \"dvae\"\n",
    "model1 = \"etm\"\n",
    "n_sim_raters = 20\n",
    "topics_per_r = 40\n",
    "\n",
    "# Setting up dataframe\n",
    "topics = summary_stat[summary_stat[\"param\"]==\"za\"]\n",
    "topics[[\"cordel\", \"topic\"]] = topics[\"param_num\"].str.split(\", \", expand=True)\n",
    "\n",
    "# Fetching model ids\n",
    "cordel0 = cordel_ids[\n",
    "    (cordel_ids[\"model\"]==model0) & \n",
    "    (cordel_ids[\"corpus\"]==corpus)\n",
    "][\"cordel_id\"].item()\n",
    "cordel1  = cordel_ids[\n",
    "    (cordel_ids[\"model\"]==model1) & \n",
    "    (cordel_ids[\"corpus\"]==corpus)\n",
    "][\"cordel_id\"].item()"
   ]
  },
  {
   "cell_type": "code",
   "execution_count": 19,
   "id": "9cee5d73",
   "metadata": {
    "scrolled": false
   },
   "outputs": [
    {
     "ename": "ValueError",
     "evalue": "can only convert an array of size 1 to a Python scalar",
     "output_type": "error",
     "traceback": [
      "\u001b[0;31m---------------------------------------------------------------------------\u001b[0m",
      "\u001b[0;31mValueError\u001b[0m                                Traceback (most recent call last)",
      "Input \u001b[0;32mIn [19]\u001b[0m, in \u001b[0;36m<cell line: 2>\u001b[0;34m()\u001b[0m\n\u001b[1;32m      1\u001b[0m \u001b[38;5;66;03m# Fetching means and simgas\u001b[39;00m\n\u001b[0;32m----> 2\u001b[0m mu \u001b[38;5;241m=\u001b[39m \u001b[43msummary_stat\u001b[49m\u001b[43m[\u001b[49m\u001b[43msummary_stat\u001b[49m\u001b[43m[\u001b[49m\u001b[38;5;124;43m\"\u001b[39;49m\u001b[38;5;124;43mparam\u001b[39;49m\u001b[38;5;124;43m\"\u001b[39;49m\u001b[43m]\u001b[49m\u001b[38;5;241;43m==\u001b[39;49m\u001b[38;5;124;43m\"\u001b[39;49m\u001b[38;5;124;43mmu\u001b[39;49m\u001b[38;5;124;43m\"\u001b[39;49m\u001b[43m]\u001b[49m\u001b[43m[\u001b[49m\u001b[38;5;124;43m\"\u001b[39;49m\u001b[38;5;124;43mmean\u001b[39;49m\u001b[38;5;124;43m\"\u001b[39;49m\u001b[43m]\u001b[49m\u001b[38;5;241;43m.\u001b[39;49m\u001b[43mitem\u001b[49m\u001b[43m(\u001b[49m\u001b[43m)\u001b[49m\n\u001b[1;32m      3\u001b[0m sigma_a \u001b[38;5;241m=\u001b[39m summary_stat[summary_stat[\u001b[38;5;124m\"\u001b[39m\u001b[38;5;124mparam\u001b[39m\u001b[38;5;124m\"\u001b[39m]\u001b[38;5;241m==\u001b[39m\u001b[38;5;124m\"\u001b[39m\u001b[38;5;124msigma_a\u001b[39m\u001b[38;5;124m\"\u001b[39m][\u001b[38;5;124m\"\u001b[39m\u001b[38;5;124mmean\u001b[39m\u001b[38;5;124m\"\u001b[39m]\u001b[38;5;241m.\u001b[39mitem()\n\u001b[1;32m      5\u001b[0m model0_mean \u001b[38;5;241m=\u001b[39m mu \u001b[38;5;241m+\u001b[39m sigma_a\u001b[38;5;241m*\u001b[39mtopics[(topics[\u001b[38;5;124m\"\u001b[39m\u001b[38;5;124mcordel\u001b[39m\u001b[38;5;124m\"\u001b[39m]\u001b[38;5;241m==\u001b[39m\u001b[38;5;28mstr\u001b[39m(cordel0))][\u001b[38;5;124m\"\u001b[39m\u001b[38;5;124mmean\u001b[39m\u001b[38;5;124m\"\u001b[39m]\u001b[38;5;241m.\u001b[39mmean()\n",
      "File \u001b[0;32m~/anaconda3/envs/thesis/lib/python3.10/site-packages/pandas/core/base.py:349\u001b[0m, in \u001b[0;36mIndexOpsMixin.item\u001b[0;34m(self)\u001b[0m\n\u001b[1;32m    347\u001b[0m \u001b[38;5;28;01mif\u001b[39;00m \u001b[38;5;28mlen\u001b[39m(\u001b[38;5;28mself\u001b[39m) \u001b[38;5;241m==\u001b[39m \u001b[38;5;241m1\u001b[39m:\n\u001b[1;32m    348\u001b[0m     \u001b[38;5;28;01mreturn\u001b[39;00m \u001b[38;5;28mnext\u001b[39m(\u001b[38;5;28miter\u001b[39m(\u001b[38;5;28mself\u001b[39m))\n\u001b[0;32m--> 349\u001b[0m \u001b[38;5;28;01mraise\u001b[39;00m \u001b[38;5;167;01mValueError\u001b[39;00m(\u001b[38;5;124m\"\u001b[39m\u001b[38;5;124mcan only convert an array of size 1 to a Python scalar\u001b[39m\u001b[38;5;124m\"\u001b[39m)\n",
      "\u001b[0;31mValueError\u001b[0m: can only convert an array of size 1 to a Python scalar"
     ]
    }
   ],
   "source": [
    "# Fetching means and simgas\n",
    "mu = summary_stat[summary_stat[\"param\"]==\"mu\"][\"mean\"].item()\n",
    "sigma_a = summary_stat[summary_stat[\"param\"]==\"sigma_a\"][\"mean\"].item()\n",
    "\n",
    "model0_mean = mu + sigma_a*topics[(topics[\"cordel\"]==str(cordel0))][\"mean\"].mean()\n",
    "model1_mean = mu + sigma_a*topics[(topics[\"cordel\"]==str(cordel1))][\"mean\"].mean()\n",
    "\n",
    "# Calculating proposed means\n",
    "# https://www.wolframalpha.com/input?i=solve+for+x+and+y%2C+x%2By%3Dc%2C+1%2F%281%2Be%5E-x%29-1%2F%281%2Be%5E-y%29%3Dp\n",
    "c = (model0_mean + model1_mean)\n",
    "C = np.exp(-c)\n",
    "det = p_diff**2-2*C*(p_diff**2-2)+(C**2)*(p_diff**2)\n",
    "quad = (-p_diff*(C+1)+det**0.5)/(2*(p_diff+1))\n",
    "proposed_model1_mean = -np.log(quad)\n",
    "proposed_model0_mean = c-proposed_model1_mean\n",
    "\n",
    "# Add diff to all trace values\n",
    "model0_mean_diff = (proposed_model0_mean-model0_mean)/sigma_a\n",
    "model1_mean_diff = (proposed_model1_mean-model1_mean)/sigma_a\n",
    "\n",
    "# Changing trace values by the difference between proposed and measured means\n",
    "proposed_trace = glm_rater_topic[\"trace\"].copy()\n",
    "proposed_trace.posterior[\"za\"].loc[{\"za_dim_0\":cordel0}] += model0_mean_diff\n",
    "proposed_trace.posterior[\"za\"].loc[{\"za_dim_0\":cordel1}] += model1_mean_diff"
   ]
  },
  {
   "cell_type": "code",
   "execution_count": 18,
   "id": "a855d646",
   "metadata": {},
   "outputs": [],
   "source": [
    "# Sampling raters and topics ------------------------------\n",
    "unique_raters={}\n",
    "unique_raters[\"nytimes\"] = data[data[\"corpus_id\"]==0][\"rater_id\"].unique()\n",
    "unique_raters[\"wikitext\"] = data[data[\"corpus_id\"]==1][\"rater_id\"].unique()\n",
    "\n",
    "ps_data = pd.DataFrame(columns=[\"cordel_id\", \"topic_id\", \"rater_id\"])\n",
    "\n",
    "# Generate 20 random topics per model per rater \n",
    "raters = np.random.choice(unique_raters[corpus], size=n_sim_raters, replace=False)\n",
    "for rater in raters:\n",
    "#     Set the probability. Topics with fewer samples have higher probability\n",
    "    p0 = 1/ps_data[ps_data[\"cordel_id\"]==cordel0][\"topic_id\"].value_counts().sort_index()**10\n",
    "    p0 = np.array(p0/p0.sum())\n",
    "    p1 = 1/ps_data[ps_data[\"cordel_id\"]==cordel1][\"topic_id\"].value_counts().sort_index()**10\n",
    "    p1 = np.array(p1/p1.sum())\n",
    "    \n",
    "    try:\n",
    "        topics0 = np.random.choice(data[data[\"cordel_id\"]==cordel0][\"topic_id\"].unique(), \n",
    "                                   size=topics_per_r//2, replace=False, p=p0)\n",
    "        topics1 = np.random.choice(data[data[\"cordel_id\"]==cordel1][\"topic_id\"].unique(),\n",
    "                                   size=topics_per_r//2, replace=False, p=p1)\n",
    "    except ValueError:\n",
    "        topics0 = np.random.choice(data[data[\"cordel_id\"]==cordel0][\"topic_id\"].unique(), \n",
    "                                   size=topics_per_r//2, replace=False)\n",
    "        topics1 = np.random.choice(data[data[\"cordel_id\"]==cordel1][\"topic_id\"].unique(),\n",
    "                                   size=topics_per_r//2, replace=False)\n",
    "    df0=pd.DataFrame(topics0, columns=[\"topic_id\"])\n",
    "    df1=pd.DataFrame(topics1, columns=[\"topic_id\"])   \n",
    "    df0[\"rater_id\"]=rater\n",
    "    df1[\"rater_id\"]=rater\n",
    "    df0[\"cordel_id\"]=cordel0\n",
    "    df1[\"cordel_id\"]=cordel1\n",
    "    ps_data = pd.concat([ps_data, df0, df1], axis=\"rows\", ignore_index=True)"
   ]
  },
  {
   "cell_type": "code",
   "execution_count": 37,
   "id": "843f0127",
   "metadata": {
    "scrolled": true
   },
   "outputs": [],
   "source": [
    "# Creating NP arrays\n",
    "sim_rater_array = np.array(ps_data[\"rater_id\"], dtype=int)\n",
    "sim_topic_array = np.array([ps_data[\"cordel_id\"], ps_data[\"topic_id\"]], dtype=int)\n",
    "sim_cordel_array = np.array(ps_data[\"cordel_id\"], dtype=int)"
   ]
  },
  {
   "cell_type": "code",
   "execution_count": 20,
   "id": "cdf000e3",
   "metadata": {
    "scrolled": true
   },
   "outputs": [
    {
     "data": {
      "text/html": [
       "\n",
       "<style>\n",
       "    /* Turns off some styling */\n",
       "    progress {\n",
       "        /* gets rid of default border in Firefox and Opera. */\n",
       "        border: none;\n",
       "        /* Needs to be in here for Safari polyfill so background images work as expected. */\n",
       "        background-size: auto;\n",
       "    }\n",
       "    .progress-bar-interrupted, .progress-bar-interrupted::-webkit-progress-bar {\n",
       "        background: #F44336;\n",
       "    }\n",
       "</style>\n"
      ],
      "text/plain": [
       "<IPython.core.display.HTML object>"
      ]
     },
     "metadata": {},
     "output_type": "display_data"
    },
    {
     "data": {
      "text/html": [
       "\n",
       "    <div>\n",
       "      <progress value='2000' class='' max='2000' style='width:300px; height:20px; vertical-align: middle;'></progress>\n",
       "      100.00% [2000/2000 00:00<00:00]\n",
       "    </div>\n",
       "    "
      ],
      "text/plain": [
       "<IPython.core.display.HTML object>"
      ]
     },
     "metadata": {},
     "output_type": "display_data"
    }
   ],
   "source": [
    "# Simulating scores\n",
    "with glm_rater_topic[\"model\"]:\n",
    "    pm.set_data({\n",
    "        \"raters\":ps_rater_array, \n",
    "        \"topics\":ps_topic_array, \n",
    "        \"cordels\":ps_cordel_array})\n",
    "    postrr_sim=pm.sample_posterior_predictive(proposed_trace, predictions=True)"
   ]
  },
  {
   "cell_type": "code",
   "execution_count": 21,
   "id": "e66374ae",
   "metadata": {
    "scrolled": true
   },
   "outputs": [
    {
     "data": {
      "text/plain": [
       "[]"
      ]
     },
     "execution_count": 21,
     "metadata": {},
     "output_type": "execute_result"
    },
    {
     "data": {
      "image/png": "[encoded data removed]",
      "text/plain": [
       "<Figure size 432x288 with 1 Axes>"
      ]
     },
     "metadata": {
      "needs_background": "light"
     },
     "output_type": "display_data"
    }
   ],
   "source": [
    "# Plotting simulated score distributions ------------------------------\n",
    "target=\"s\"\n",
    "postrr_samples = postrr_sim.predictions.sel(chain=0)\n",
    "\n",
    "# Manipulating samples to plot\n",
    "df_postrr, na_s = downcast_df(postrr_samples[target].to_dataframe().reset_index())\n",
    "\n",
    "# Joining rater/topic/model/corpus information\n",
    "data1 = ps_data.copy()\n",
    "data1[\"obs_id\"] = data1.index\n",
    "df_postrr1 = pd.merge(df_postrr, data1, on=\"obs_id\", how=\"left\")\n",
    "\n",
    "# Aggregating \"1s\" and counts by topic\n",
    "postrr_agg0 = df_postrr1[df_postrr1[\"cordel_id\"]==0].groupby(\"topic_id\").agg({target:[\"sum\", \"count\"]}).reset_index()\n",
    "postrr_agg1 = df_postrr1[df_postrr1[\"cordel_id\"]==1].groupby(\"topic_id\").agg({target:[\"sum\", \"count\"]}).reset_index()\n",
    "                                                             \n",
    "# Calculating topic probabilities from sums and counts\n",
    "postrr_topic_prob0 = postrr_agg0[(\"s\",\"sum\")]/postrr_agg0[(\"s\",\"count\")]\n",
    "postrr_topic_prob1 = postrr_agg1[(\"s\",\"sum\")]/postrr_agg1[(\"s\",\"count\")]\n",
    "\n",
    "# Setting up plot\n",
    "ax = az.plot_kde(np.array(postrr_topic_prob0), bw=0.05)\n",
    "ax.get_lines()[0].set_color(\"orange\")\n",
    "ax = az.plot_kde(np.array(postrr_topic_prob1), bw=0.05)\n",
    "ax.get_lines()[0].set_color(\"blue\")\n",
    "ax.legend(ax.get_lines(), [\"model_0\", \"model_1\"])\n",
    "ax.set_title(\"Simulated number of 1's per topic\")\n",
    "ax.set_ylabel(\"Density\")\n",
    "ax.set_xlabel(\"p\")\n",
    "plt.plot()"
   ]
  },
  {
   "cell_type": "code",
   "execution_count": 22,
   "id": "de57e8a7",
   "metadata": {},
   "outputs": [
    {
     "data": {
      "text/plain": [
       "[]"
      ]
     },
     "execution_count": 22,
     "metadata": {},
     "output_type": "execute_result"
    },
    {
     "data": {
      "image/png": "[encoded data removed]",
      "text/plain": [
       "<Figure size 432x288 with 1 Axes>"
      ]
     },
     "metadata": {
      "needs_background": "light"
     },
     "output_type": "display_data"
    }
   ],
   "source": [
    "# Plotting actual score distributions ------------------------------\n",
    "model0obs = data[data[\"cordel_id\"]==0].groupby(\"topic_id\").agg({\"intrusion\":[\"sum\",\"count\"]})\n",
    "model1obs = data[data[\"cordel_id\"]==1].groupby(\"topic_id\").agg({\"intrusion\":[\"sum\",\"count\"]})\n",
    "\n",
    "# Calculating topic probabilities from sums and counts\n",
    "model0p = model0obs[(\"intrusion\",\"sum\")]/model0obs[(\"intrusion\",\"count\")]\n",
    "model1p = model1obs[(\"intrusion\",\"sum\")]/model1obs[(\"intrusion\",\"count\")]\n",
    "\n",
    "# Setting up plot\n",
    "ax = az.plot_kde(np.array(model0p), bw=0.05)\n",
    "ax.get_lines()[0].set_color(\"orange\")\n",
    "ax = az.plot_kde(np.array(model1p), bw=0.05)\n",
    "ax.get_lines()[0].set_color(\"blue\")\n",
    "ax.legend(ax.get_lines(), [\"model_0\", \"model_1\"])\n",
    "ax.set_title(\"Actual number of 1's per topic\")\n",
    "ax.set_ylabel(\"Density\")\n",
    "ax.set_xlabel(\"p\")\n",
    "plt.plot()"
   ]
  },
  {
   "cell_type": "code",
   "execution_count": 23,
   "id": "0e479415",
   "metadata": {},
   "outputs": [
    {
     "name": "stdout",
     "output_type": "stream",
     "text": [
      "model 0 proposed mean:0.991162005301534, actual mean:1.5274225644000001\n",
      "model 1 proposed mean:1.4455807748984664, actual mean:0.9093202158\n"
     ]
    }
   ],
   "source": [
    "print(f\"model 0 proposed mean:{proposed_model0_mean}, actual mean:{model0_mean}\")\n",
    "print(f\"model 1 proposed mean:{proposed_model1_mean}, actual mean:{model1_mean}\")"
   ]
  },
  {
   "cell_type": "markdown",
   "id": "5629fe9a",
   "metadata": {},
   "source": [
    "## Topic Model Difference Inference"
   ]
  },
  {
   "cell_type": "code",
   "execution_count": 25,
   "id": "7a120c83",
   "metadata": {},
   "outputs": [],
   "source": [
    "chain = 0\n",
    "draw = 0"
   ]
  },
  {
   "cell_type": "code",
   "execution_count": 40,
   "id": "e346a9e9",
   "metadata": {},
   "outputs": [],
   "source": [
    "sim_scores_array = np.array(postrr_sim.predictions.loc[{\"chain\":chain, \"draw\":draw}][\"s\"])"
   ]
  },
  {
   "cell_type": "code",
   "execution_count": 83,
   "id": "2163d6c8",
   "metadata": {
    "scrolled": false
   },
   "outputs": [
    {
     "name": "stderr",
     "output_type": "stream",
     "text": [
      "Auto-assigning NUTS sampler...\n",
      "Initializing NUTS using jitter+adapt_diag...\n",
      "Multiprocess sampling (2 chains in 2 jobs)\n",
      "NUTS: [sigma_r, zr, sigma_a, za, mu]\n"
     ]
    },
    {
     "data": {
      "text/html": [
       "\n",
       "<style>\n",
       "    /* Turns off some styling */\n",
       "    progress {\n",
       "        /* gets rid of default border in Firefox and Opera. */\n",
       "        border: none;\n",
       "        /* Needs to be in here for Safari polyfill so background images work as expected. */\n",
       "        background-size: auto;\n",
       "    }\n",
       "    .progress-bar-interrupted, .progress-bar-interrupted::-webkit-progress-bar {\n",
       "        background: #F44336;\n",
       "    }\n",
       "</style>\n"
      ],
      "text/plain": [
       "<IPython.core.display.HTML object>"
      ]
     },
     "metadata": {},
     "output_type": "display_data"
    },
    {
     "data": {
      "text/html": [
       "\n",
       "    <div>\n",
       "      <progress value='4000' class='' max='4000' style='width:300px; height:20px; vertical-align: middle;'></progress>\n",
       "      100.00% [4000/4000 00:37<00:00 Sampling 2 chains, 0 divergences]\n",
       "    </div>\n",
       "    "
      ],
      "text/plain": [
       "<IPython.core.display.HTML object>"
      ]
     },
     "metadata": {},
     "output_type": "display_data"
    },
    {
     "name": "stderr",
     "output_type": "stream",
     "text": [
      "Sampling 2 chains for 1_000 tune and 1_000 draw iterations (2_000 + 2_000 draws total) took 38 seconds.\n"
     ]
    }
   ],
   "source": [
    "# Rater, Topic model\n",
    "\n",
    "with pm.Model() as simulated_model:\n",
    "    # Hyperparameter priors\n",
    "    sim_raters = pm.Data(\"raters\", sim_rater_array, mutable=False, dims=\"obs_id\")\n",
    "    sim_topics = pm.Data(\"topics\", sim_topic_array, mutable=False, dims=[\"cordel\", \"topic\"])\n",
    "    sim_cordels = pm.Data(\"cordels\", sim_cordel_array, mutable=False, dims=\"obs_id\")\n",
    "    sim_scores = pm.Data(\"scores\", sim_scores_array, mutable=True, dims=\"obs_id\")\n",
    "    \n",
    "    sigma_r = pm.Exponential(\"sigma_r\", lam=r_lambda)\n",
    "    zr = pm.Normal(\"zr\",mu=0, sigma=1, shape=n_raters)\n",
    "    sigma_a = pm.Exponential(\"sigma_a\", lam=t_lambda)\n",
    "    za = pm.Normal(\"za\",mu=0, sigma=t_sigma, shape=(n_cordels, n_topics)) \n",
    "    mu = pm.Normal(\"mu\",mu=empirical_mean, sigma=mu_sigma)\n",
    "    \n",
    "    s = pm.Bernoulli(\n",
    "            \"s\", \n",
    "            p=pm.math.invlogit(\n",
    "                mu+\n",
    "                za[sim_topics[0],sim_topics[1]]*sigma_a+\n",
    "                zr[sim_raters]*sigma_r),\n",
    "            observed=sim_scores, \n",
    "            dims=\"obs_id\")\n",
    "\n",
    "    c_mean = pm.Deterministic(\"c_mean\", \n",
    "                              pm.math.invlogit(mu + (za.T*sigma_a).T).mean(axis=1), \n",
    "                              dims=\"obs_id\")\n",
    "    \n",
    "    diff = pm.Deterministic(\"diff\", \n",
    "                            pm.math.invlogit(mu + (za.T*sigma_a).T).mean(axis=1)[cordel1]-\n",
    "                            pm.math.invlogit(mu + (za.T*sigma_a).T).mean(axis=1)[cordel0])\n",
    "    \n",
    "    sim_trace=pm.sample(cores=n_cores)"
   ]
  },
  {
   "cell_type": "code",
   "execution_count": 85,
   "id": "0c7e0278",
   "metadata": {},
   "outputs": [
    {
     "data": {
      "text/html": [
       "<div>\n",
       "<style scoped>\n",
       "    .dataframe tbody tr th:only-of-type {\n",
       "        vertical-align: middle;\n",
       "    }\n",
       "\n",
       "    .dataframe tbody tr th {\n",
       "        vertical-align: top;\n",
       "    }\n",
       "\n",
       "    .dataframe thead th {\n",
       "        text-align: right;\n",
       "    }\n",
       "</style>\n",
       "<table border=\"1\" class=\"dataframe\">\n",
       "  <thead>\n",
       "    <tr style=\"text-align: right;\">\n",
       "      <th></th>\n",
       "      <th>param</th>\n",
       "      <th>param_num</th>\n",
       "      <th>mean</th>\n",
       "      <th>sd</th>\n",
       "      <th>hdi_3%</th>\n",
       "      <th>hdi_97%</th>\n",
       "      <th>mcse_mean</th>\n",
       "      <th>mcse_sd</th>\n",
       "      <th>ess_bulk</th>\n",
       "      <th>ess_tail</th>\n",
       "      <th>r_hat</th>\n",
       "    </tr>\n",
       "  </thead>\n",
       "  <tbody>\n",
       "    <tr>\n",
       "      <th>624</th>\n",
       "      <td>c_mean</td>\n",
       "      <td>0</td>\n",
       "      <td>0.9934</td>\n",
       "      <td>0.0039</td>\n",
       "      <td>0.9861</td>\n",
       "      <td>0.9994</td>\n",
       "      <td>0.0001</td>\n",
       "      <td>0.0001</td>\n",
       "      <td>2042.5300</td>\n",
       "      <td>1888.7443</td>\n",
       "      <td>0.9992</td>\n",
       "    </tr>\n",
       "    <tr>\n",
       "      <th>625</th>\n",
       "      <td>c_mean</td>\n",
       "      <td>1</td>\n",
       "      <td>0.0074</td>\n",
       "      <td>0.0043</td>\n",
       "      <td>0.0009</td>\n",
       "      <td>0.0152</td>\n",
       "      <td>0.0001</td>\n",
       "      <td>0.0001</td>\n",
       "      <td>2095.0029</td>\n",
       "      <td>1858.8748</td>\n",
       "      <td>1.0005</td>\n",
       "    </tr>\n",
       "    <tr>\n",
       "      <th>626</th>\n",
       "      <td>c_mean</td>\n",
       "      <td>2</td>\n",
       "      <td>0.5203</td>\n",
       "      <td>0.0721</td>\n",
       "      <td>0.3929</td>\n",
       "      <td>0.6636</td>\n",
       "      <td>0.0018</td>\n",
       "      <td>0.0013</td>\n",
       "      <td>1600.6043</td>\n",
       "      <td>1341.8270</td>\n",
       "      <td>0.9993</td>\n",
       "    </tr>\n",
       "    <tr>\n",
       "      <th>627</th>\n",
       "      <td>c_mean</td>\n",
       "      <td>3</td>\n",
       "      <td>0.5168</td>\n",
       "      <td>0.0682</td>\n",
       "      <td>0.3863</td>\n",
       "      <td>0.6395</td>\n",
       "      <td>0.0017</td>\n",
       "      <td>0.0012</td>\n",
       "      <td>1619.9936</td>\n",
       "      <td>1336.5753</td>\n",
       "      <td>1.0001</td>\n",
       "    </tr>\n",
       "    <tr>\n",
       "      <th>628</th>\n",
       "      <td>c_mean</td>\n",
       "      <td>4</td>\n",
       "      <td>0.5212</td>\n",
       "      <td>0.0698</td>\n",
       "      <td>0.3900</td>\n",
       "      <td>0.6499</td>\n",
       "      <td>0.0019</td>\n",
       "      <td>0.0013</td>\n",
       "      <td>1336.6375</td>\n",
       "      <td>1483.3362</td>\n",
       "      <td>1.0071</td>\n",
       "    </tr>\n",
       "    <tr>\n",
       "      <th>629</th>\n",
       "      <td>c_mean</td>\n",
       "      <td>5</td>\n",
       "      <td>0.5209</td>\n",
       "      <td>0.0704</td>\n",
       "      <td>0.3913</td>\n",
       "      <td>0.6563</td>\n",
       "      <td>0.0017</td>\n",
       "      <td>0.0012</td>\n",
       "      <td>1732.8051</td>\n",
       "      <td>1507.3171</td>\n",
       "      <td>1.0008</td>\n",
       "    </tr>\n",
       "  </tbody>\n",
       "</table>\n",
       "</div>"
      ],
      "text/plain": [
       "      param param_num    mean      sd  hdi_3%  hdi_97%  mcse_mean  mcse_sd  \\\n",
       "624  c_mean         0  0.9934  0.0039  0.9861   0.9994     0.0001   0.0001   \n",
       "625  c_mean         1  0.0074  0.0043  0.0009   0.0152     0.0001   0.0001   \n",
       "626  c_mean         2  0.5203  0.0721  0.3929   0.6636     0.0018   0.0013   \n",
       "627  c_mean         3  0.5168  0.0682  0.3863   0.6395     0.0017   0.0012   \n",
       "628  c_mean         4  0.5212  0.0698  0.3900   0.6499     0.0019   0.0013   \n",
       "629  c_mean         5  0.5209  0.0704  0.3913   0.6563     0.0017   0.0012   \n",
       "\n",
       "      ess_bulk   ess_tail   r_hat  \n",
       "624  2042.5300  1888.7443  0.9992  \n",
       "625  2095.0029  1858.8748  1.0005  \n",
       "626  1600.6043  1341.8270  0.9993  \n",
       "627  1619.9936  1336.5753  1.0001  \n",
       "628  1336.6375  1483.3362  1.0071  \n",
       "629  1732.8051  1507.3171  1.0008  "
      ]
     },
     "execution_count": 85,
     "metadata": {},
     "output_type": "execute_result"
    }
   ],
   "source": [
    "sim_summary_stat[sim_summary_stat[\"param\"]==\"c_mean\"]"
   ]
  },
  {
   "cell_type": "code",
   "execution_count": 86,
   "id": "fd11c1e3",
   "metadata": {},
   "outputs": [
    {
     "data": {
      "text/plain": [
       "-0.998"
      ]
     },
     "execution_count": 86,
     "metadata": {},
     "output_type": "execute_result"
    }
   ],
   "source": [
    "az.summary(sim_trace, var_names=[\"diff\"], \n",
    "           stat_funcs={\"alpha\":lambda x:np.percentile(x, 0.05)}\n",
    "          )[\"alpha\"].item()"
   ]
  },
  {
   "cell_type": "code",
   "execution_count": 88,
   "id": "567c51b7",
   "metadata": {},
   "outputs": [],
   "source": [
    "def accept_model_diff(model, sim_scores_array):\n",
    "    with model:\n",
    "        pm.set_data({\"scores\":sim_scores_array})\n",
    "        sim_trace=pm.sample(cores=n_cores)\n",
    "    test_stat = az.summary(sim_trace, var_names=[\"diff\"], \n",
    "           stat_funcs={\"alpha\":lambda x:np.percentile(x, 0.05)}\n",
    "          )[\"alpha\"].item()\n",
    "    print(f\"{test_stat=}\")\n",
    "    return test_stat > 0"
   ]
  },
  {
   "cell_type": "code",
   "execution_count": 90,
   "id": "e6d59cb3",
   "metadata": {},
   "outputs": [
    {
     "name": "stderr",
     "output_type": "stream",
     "text": [
      "Auto-assigning NUTS sampler...\n",
      "Initializing NUTS using jitter+adapt_diag...\n",
      "Multiprocess sampling (2 chains in 2 jobs)\n",
      "NUTS: [sigma_r, zr, sigma_a, za, mu]\n"
     ]
    },
    {
     "data": {
      "text/html": [
       "\n",
       "<style>\n",
       "    /* Turns off some styling */\n",
       "    progress {\n",
       "        /* gets rid of default border in Firefox and Opera. */\n",
       "        border: none;\n",
       "        /* Needs to be in here for Safari polyfill so background images work as expected. */\n",
       "        background-size: auto;\n",
       "    }\n",
       "    .progress-bar-interrupted, .progress-bar-interrupted::-webkit-progress-bar {\n",
       "        background: #F44336;\n",
       "    }\n",
       "</style>\n"
      ],
      "text/plain": [
       "<IPython.core.display.HTML object>"
      ]
     },
     "metadata": {},
     "output_type": "display_data"
    },
    {
     "data": {
      "text/html": [
       "\n",
       "    <div>\n",
       "      <progress value='4000' class='' max='4000' style='width:300px; height:20px; vertical-align: middle;'></progress>\n",
       "      100.00% [4000/4000 00:45<00:00 Sampling 2 chains, 0 divergences]\n",
       "    </div>\n",
       "    "
      ],
      "text/plain": [
       "<IPython.core.display.HTML object>"
      ]
     },
     "metadata": {},
     "output_type": "display_data"
    },
    {
     "name": "stderr",
     "output_type": "stream",
     "text": [
      "Sampling 2 chains for 1_000 tune and 1_000 draw iterations (2_000 + 2_000 draws total) took 46 seconds.\n"
     ]
    },
    {
     "name": "stdout",
     "output_type": "stream",
     "text": [
      "-0.998\n"
     ]
    },
    {
     "data": {
      "text/plain": [
       "False"
      ]
     },
     "execution_count": 90,
     "metadata": {},
     "output_type": "execute_result"
    }
   ],
   "source": [
    "sim_scores_array = 1-sim_cordel_array\n",
    "accept_model_diff(simulated_model, sim_scores_array)"
   ]
  },
  {
   "cell_type": "markdown",
   "id": "72657a29",
   "metadata": {},
   "source": [
    "## Putting it all together"
   ]
  },
  {
   "cell_type": "code",
   "execution_count": null,
   "id": "8c66a501",
   "metadata": {},
   "outputs": [],
   "source": [
    "# trial_record\n",
    "sim_id\n",
    "cordel0\n",
    "cordel1\n",
    "p_diff\n",
    "n_sim_rater\n",
    "topics_per_r\n",
    "chain\n",
    "draw\n",
    "diff\n",
    "\n",
    "# score_record\n",
    "sim_id\n",
    "cordel\n",
    "topic\n",
    "rater\n",
    "score"
   ]
  },
  {
   "cell_type": "code",
   "execution_count": null,
   "id": "89d5a720",
   "metadata": {},
   "outputs": [],
   "source": [
    "topics_per_r = 40\n",
    "\n",
    "for p_diff in [0.04, 0.06, 0.08, 0.1, 0.15]:\n",
    "    for cordel0, cordel1 in cordels:\n",
    "        Set n_sim_raters = bayes_opt.next_param_value()\n",
    "            Generate posterior predictive\n",
    "            for trial in 50 random trials wo replacement (chain 0):\n",
    "                calculate test statistic\n",
    "                record results\n",
    "            bayes_opt.feed_statistic(abs(45 - no_accepts))\n",
    "        # n_sim_raters has been approximately found\n",
    "        Set n_sim_raters = bayes_opt.next_param_value(range=)\n",
    "            Generate posterior predictive\n",
    "            for trial in 200 random trials wo replacement (chain 0):\n",
    "                calculate test statistic\n",
    "                record results\n",
    "            bayes_opt.feed_statistic(abs(200 - no_accepts))\n",
    "        return least n_sim_raters such that statistic>180"
   ]
  },
  {
   "cell_type": "code",
   "execution_count": 15,
   "id": "1e7ab3a6",
   "metadata": {},
   "outputs": [],
   "source": [
    "# Parameters\n",
    "\n",
    "p_diff = 0.08 #Hoyle set the difference as 4/50 topics\n",
    "corpus = \"nytimes\"\n",
    "# Proposed mean of model 0 has smaller p, Proposed mean of model 1 has larger p \n",
    "model0 = \"dvae\"\n",
    "model1 = \"etm\" \n",
    "n_sim_raters = 20\n",
    "topics_per_r = 40\n",
    "\n",
    "def p_model_diff(model, sim_scores_array):\n",
    "    with model:\n",
    "        pm.set_data({\"scores\":sim_scores_array})\n",
    "        sim_trace=pm.sample(cores=n_cores)\n",
    "    test_stat = az.summary(sim_trace, var_names=[\"diff\"], \n",
    "           stat_funcs={\"alpha\":lambda x:np.percentile(x, 0.05)}\n",
    "          )[\"alpha\"].item()\n",
    "    return test_statistic"
   ]
  },
  {
   "cell_type": "code",
   "execution_count": 17,
   "id": "14f89ab6",
   "metadata": {},
   "outputs": [
    {
     "name": "stderr",
     "output_type": "stream",
     "text": [
      "/tmp/ipykernel_12276/3471460761.py:3: SettingWithCopyWarning: \n",
      "A value is trying to be set on a copy of a slice from a DataFrame.\n",
      "Try using .loc[row_indexer,col_indexer] = value instead\n",
      "\n",
      "See the caveats in the documentation: https://pandas.pydata.org/pandas-docs/stable/user_guide/indexing.html#returning-a-view-versus-a-copy\n",
      "  topics[[\"cordel\", \"topic\"]] = topics[\"param_num\"].str.split(\", \", expand=True)\n",
      "/tmp/ipykernel_12276/3471460761.py:3: SettingWithCopyWarning: \n",
      "A value is trying to be set on a copy of a slice from a DataFrame.\n",
      "Try using .loc[row_indexer,col_indexer] = value instead\n",
      "\n",
      "See the caveats in the documentation: https://pandas.pydata.org/pandas-docs/stable/user_guide/indexing.html#returning-a-view-versus-a-copy\n",
      "  topics[[\"cordel\", \"topic\"]] = topics[\"param_num\"].str.split(\", \", expand=True)\n"
     ]
    },
    {
     "data": {
      "text/html": [
       "\n",
       "<style>\n",
       "    /* Turns off some styling */\n",
       "    progress {\n",
       "        /* gets rid of default border in Firefox and Opera. */\n",
       "        border: none;\n",
       "        /* Needs to be in here for Safari polyfill so background images work as expected. */\n",
       "        background-size: auto;\n",
       "    }\n",
       "    .progress-bar-interrupted, .progress-bar-interrupted::-webkit-progress-bar {\n",
       "        background: #F44336;\n",
       "    }\n",
       "</style>\n"
      ],
      "text/plain": [
       "<IPython.core.display.HTML object>"
      ]
     },
     "metadata": {},
     "output_type": "display_data"
    },
    {
     "data": {
      "text/html": [
       "\n",
       "    <div>\n",
       "      <progress value='2000' class='' max='2000' style='width:300px; height:20px; vertical-align: middle;'></progress>\n",
       "      100.00% [2000/2000 00:00<00:00]\n",
       "    </div>\n",
       "    "
      ],
      "text/plain": [
       "<IPython.core.display.HTML object>"
      ]
     },
     "metadata": {},
     "output_type": "display_data"
    }
   ],
   "source": [
    "# Setting up dataframe\n",
    "topics = summary_stat[summary_stat[\"param\"]==\"za\"]\n",
    "topics[[\"cordel\", \"topic\"]] = topics[\"param_num\"].str.split(\", \", expand=True)\n",
    "\n",
    "# Fetching model ids\n",
    "cordel0 = cordel_ids[\n",
    "    (cordel_ids[\"model\"]==model0) & \n",
    "    (cordel_ids[\"corpus\"]==corpus)\n",
    "][\"cordel_id\"].item()\n",
    "cordel1  = cordel_ids[\n",
    "    (cordel_ids[\"model\"]==model1) & \n",
    "    (cordel_ids[\"corpus\"]==corpus)\n",
    "][\"cordel_id\"].item()\n",
    "\n",
    "# Fetching sigma and mean for topics by cordel\n",
    "mu = summary_stat[summary_stat[\"param\"]==\"mu\"][\"mean\"].item()\n",
    "sigma_a = summary_stat[summary_stat[\"param\"]==\"sigma_a\"][\"mean\"].item()\n",
    "\n",
    "model0_mean = mu + sigma_a*topics[(topics[\"cordel\"]==str(cordel0))][\"mean\"].mean()\n",
    "model1_mean = mu + sigma_a*topics[(topics[\"cordel\"]==str(cordel1))][\"mean\"].mean()\n",
    "\n",
    "# Calculating proposed topic means\n",
    "# https://www.wolframalpha.com/input?i=solve+for+x+and+y%2C+x%2By%3Dc%2C+1%2F%281%2Be%5E-x%29-1%2F%281%2Be%5E-y%29%3Dp\n",
    "c = (model0_mean + model1_mean)\n",
    "C = np.exp(-c)\n",
    "det = p_diff**2-2*C*(p_diff**2-2)+(C**2)*(p_diff**2)\n",
    "quad = (-p_diff*(C+1)+det**0.5)/(2*(p_diff+1))\n",
    "proposed_model1_mean = -np.log(quad)\n",
    "proposed_model0_mean = c-proposed_model1_mean\n",
    "\n",
    "# Finding the difference in proposed and observed means\n",
    "model0_mean_diff = (proposed_model0_mean-model0_mean)/sigma_a\n",
    "model1_mean_diff = (proposed_model1_mean-model1_mean)/sigma_a\n",
    "\n",
    "# Changing trace values by the difference\n",
    "proposed_trace = glm_rater_topic[\"trace\"].copy()\n",
    "proposed_trace.posterior[\"za\"].loc[{\"za_dim_0\":cordel0}] += model0_mean_diff\n",
    "proposed_trace.posterior[\"za\"].loc[{\"za_dim_0\":cordel1}] += model1_mean_diff\n",
    "\n",
    "# Sampling raters and topics ------------------------------\n",
    "unique_raters={}\n",
    "unique_raters[\"nytimes\"] = data[data[\"corpus_id\"]==0][\"rater_id\"].unique()\n",
    "unique_raters[\"wikitext\"] = data[data[\"corpus_id\"]==1][\"rater_id\"].unique()\n",
    "\n",
    "ps_data = pd.DataFrame(columns=[\"cordel_id\", \"topic_id\", \"rater_id\"])\n",
    "\n",
    "# Generate 20 random topics per model per rater \n",
    "raters = np.random.choice(unique_raters[corpus], size=n_sim_raters, replace=False)\n",
    "for rater in raters:\n",
    "    p0 = 1/ps_data[ps_data[\"cordel_id\"]==cordel0][\"topic_id\"].value_counts().sort_index()**10\n",
    "    p0 = np.array(p0/p0.sum())\n",
    "    p1 = 1/ps_data[ps_data[\"cordel_id\"]==cordel1][\"topic_id\"].value_counts().sort_index()**10\n",
    "    p1 = np.array(p1/p1.sum())\n",
    "    \n",
    "    try:\n",
    "        topics0 = np.random.choice(data[data[\"cordel_id\"]==cordel0][\"topic_id\"].unique(), \n",
    "                                   size=topics_per_r//2, replace=False, p=p0)\n",
    "        topics1 = np.random.choice(data[data[\"cordel_id\"]==cordel1][\"topic_id\"].unique(),\n",
    "                                   size=topics_per_r//2, replace=False, p=p1)\n",
    "    except ValueError:\n",
    "        topics0 = np.random.choice(data[data[\"cordel_id\"]==cordel0][\"topic_id\"].unique(), \n",
    "                                   size=topics_per_r//2, replace=False)\n",
    "        topics1 = np.random.choice(data[data[\"cordel_id\"]==cordel1][\"topic_id\"].unique(),\n",
    "                                   size=topics_per_r//2, replace=False)\n",
    "    df0=pd.DataFrame(topics0, columns=[\"topic_id\"])\n",
    "    df1=pd.DataFrame(topics1, columns=[\"topic_id\"])   \n",
    "    df0[\"rater_id\"]=rater\n",
    "    df1[\"rater_id\"]=rater\n",
    "    df0[\"cordel_id\"]=cordel0\n",
    "    df1[\"cordel_id\"]=cordel1\n",
    "    ps_data = pd.concat([ps_data, df0, df1], axis=\"rows\", ignore_index=True)\n",
    "    \n",
    "# Creating NP arrays\n",
    "sim_rater_array = np.array(ps_data[\"rater_id\"], dtype=int)\n",
    "sim_topic_array = np.array([ps_data[\"cordel_id\"], ps_data[\"topic_id\"]], dtype=int)\n",
    "sim_cordel_array = np.array(ps_data[\"cordel_id\"], dtype=int)\n",
    "    \n",
    "# Simulating scores\n",
    "with glm_rater_topic[\"model\"]:\n",
    "    pm.set_data({\n",
    "        \"raters\":sim_rater_array, \n",
    "        \"topics\":sim_topic_array, \n",
    "        \"cordels\":sim_cordel_array})\n",
    "    ps_sim=pm.sample_posterior_predictive(proposed_trace, predictions=True)"
   ]
  },
  {
   "cell_type": "code",
   "execution_count": 20,
   "id": "4c4cbbd7",
   "metadata": {},
   "outputs": [],
   "source": [
    "# Defining model to fit simulated data\n",
    "sim_scores_array = np.array(ps_sim.predictions.loc[{\"chain\":0, \"draw\":0}][\"s\"])\n",
    "with pm.Model() as simulated_model:\n",
    "    # Hyperparameter priors\n",
    "    sim_raters = pm.Data(\"raters\", sim_rater_array, mutable=False, dims=\"obs_id\")\n",
    "    sim_topics = pm.Data(\"topics\", sim_topic_array, mutable=False, dims=[\"cordel\", \"topic\"])\n",
    "    sim_cordels = pm.Data(\"cordels\", sim_cordel_array, mutable=False, dims=\"obs_id\")\n",
    "    sim_scores = pm.Data(\"scores\", sim_scores_array, mutable=True, dims=\"obs_id\")\n",
    "    \n",
    "    sigma_r = pm.Exponential(\"sigma_r\", lam=r_lambda)\n",
    "    zr = pm.Normal(\"zr\",mu=0, sigma=1, shape=n_raters)\n",
    "    sigma_a = pm.Exponential(\"sigma_a\", lam=t_lambda)\n",
    "    za = pm.Normal(\"za\",mu=0, sigma=t_sigma, shape=(n_cordels, n_topics)) \n",
    "    mu = pm.Normal(\"mu\",mu=empirical_mean, sigma=mu_sigma)\n",
    "    \n",
    "    s = pm.Bernoulli(\n",
    "            \"s\", \n",
    "            p=pm.math.invlogit(\n",
    "                mu+\n",
    "                za[sim_topics[0],sim_topics[1]]*sigma_a+\n",
    "                zr[sim_raters]*sigma_r),\n",
    "            observed=sim_scores, \n",
    "            dims=\"obs_id\")\n",
    "\n",
    "    c_mean = pm.Deterministic(\"c_mean\", \n",
    "                              pm.math.invlogit(mu + (za.T*sigma_a).T).mean(axis=1), \n",
    "                              dims=\"obs_id\")\n",
    "    \n",
    "    diff = pm.Deterministic(\"diff\", \n",
    "                            pm.math.invlogit(mu + (za.T*sigma_a).T).mean(axis=1)[cordel1]-\n",
    "                            pm.math.invlogit(mu + (za.T*sigma_a).T).mean(axis=1)[cordel0])\n"
   ]
  },
  {
   "cell_type": "code",
   "execution_count": 22,
   "id": "82748c28",
   "metadata": {},
   "outputs": [
    {
     "name": "stderr",
     "output_type": "stream",
     "text": [
      "Auto-assigning NUTS sampler...\n",
      "Initializing NUTS using jitter+adapt_diag...\n",
      "Multiprocess sampling (2 chains in 2 jobs)\n",
      "NUTS: [sigma_r, zr, sigma_a, za, mu]\n"
     ]
    },
    {
     "data": {
      "text/html": [
       "\n",
       "<style>\n",
       "    /* Turns off some styling */\n",
       "    progress {\n",
       "        /* gets rid of default border in Firefox and Opera. */\n",
       "        border: none;\n",
       "        /* Needs to be in here for Safari polyfill so background images work as expected. */\n",
       "        background-size: auto;\n",
       "    }\n",
       "    .progress-bar-interrupted, .progress-bar-interrupted::-webkit-progress-bar {\n",
       "        background: #F44336;\n",
       "    }\n",
       "</style>\n"
      ],
      "text/plain": [
       "<IPython.core.display.HTML object>"
      ]
     },
     "metadata": {},
     "output_type": "display_data"
    },
    {
     "data": {
      "text/html": [
       "\n",
       "    <div>\n",
       "      <progress value='4000' class='' max='4000' style='width:300px; height:20px; vertical-align: middle;'></progress>\n",
       "      100.00% [4000/4000 00:18<00:00 Sampling 2 chains, 0 divergences]\n",
       "    </div>\n",
       "    "
      ],
      "text/plain": [
       "<IPython.core.display.HTML object>"
      ]
     },
     "metadata": {},
     "output_type": "display_data"
    },
    {
     "name": "stderr",
     "output_type": "stream",
     "text": [
      "Sampling 2 chains for 1_000 tune and 1_000 draw iterations (2_000 + 2_000 draws total) took 18 seconds.\n"
     ]
    },
    {
     "name": "stdout",
     "output_type": "stream",
     "text": [
      "test_stat=-0.06\n",
      "False\n"
     ]
    },
    {
     "name": "stderr",
     "output_type": "stream",
     "text": [
      "Auto-assigning NUTS sampler...\n",
      "Initializing NUTS using jitter+adapt_diag...\n",
      "Multiprocess sampling (2 chains in 2 jobs)\n",
      "NUTS: [sigma_r, zr, sigma_a, za, mu]\n"
     ]
    },
    {
     "data": {
      "text/html": [
       "\n",
       "<style>\n",
       "    /* Turns off some styling */\n",
       "    progress {\n",
       "        /* gets rid of default border in Firefox and Opera. */\n",
       "        border: none;\n",
       "        /* Needs to be in here for Safari polyfill so background images work as expected. */\n",
       "        background-size: auto;\n",
       "    }\n",
       "    .progress-bar-interrupted, .progress-bar-interrupted::-webkit-progress-bar {\n",
       "        background: #F44336;\n",
       "    }\n",
       "</style>\n"
      ],
      "text/plain": [
       "<IPython.core.display.HTML object>"
      ]
     },
     "metadata": {},
     "output_type": "display_data"
    },
    {
     "data": {
      "text/html": [
       "\n",
       "    <div>\n",
       "      <progress value='4000' class='' max='4000' style='width:300px; height:20px; vertical-align: middle;'></progress>\n",
       "      100.00% [4000/4000 00:17<00:00 Sampling 2 chains, 0 divergences]\n",
       "    </div>\n",
       "    "
      ],
      "text/plain": [
       "<IPython.core.display.HTML object>"
      ]
     },
     "metadata": {},
     "output_type": "display_data"
    },
    {
     "name": "stderr",
     "output_type": "stream",
     "text": [
      "Sampling 2 chains for 1_000 tune and 1_000 draw iterations (2_000 + 2_000 draws total) took 18 seconds.\n"
     ]
    },
    {
     "name": "stdout",
     "output_type": "stream",
     "text": [
      "test_stat=-0.058\n",
      "False\n"
     ]
    },
    {
     "name": "stderr",
     "output_type": "stream",
     "text": [
      "Auto-assigning NUTS sampler...\n",
      "Initializing NUTS using jitter+adapt_diag...\n",
      "Multiprocess sampling (2 chains in 2 jobs)\n",
      "NUTS: [sigma_r, zr, sigma_a, za, mu]\n"
     ]
    },
    {
     "data": {
      "text/html": [
       "\n",
       "<style>\n",
       "    /* Turns off some styling */\n",
       "    progress {\n",
       "        /* gets rid of default border in Firefox and Opera. */\n",
       "        border: none;\n",
       "        /* Needs to be in here for Safari polyfill so background images work as expected. */\n",
       "        background-size: auto;\n",
       "    }\n",
       "    .progress-bar-interrupted, .progress-bar-interrupted::-webkit-progress-bar {\n",
       "        background: #F44336;\n",
       "    }\n",
       "</style>\n"
      ],
      "text/plain": [
       "<IPython.core.display.HTML object>"
      ]
     },
     "metadata": {},
     "output_type": "display_data"
    },
    {
     "data": {
      "text/html": [
       "\n",
       "    <div>\n",
       "      <progress value='4000' class='' max='4000' style='width:300px; height:20px; vertical-align: middle;'></progress>\n",
       "      100.00% [4000/4000 00:17<00:00 Sampling 2 chains, 3 divergences]\n",
       "    </div>\n",
       "    "
      ],
      "text/plain": [
       "<IPython.core.display.HTML object>"
      ]
     },
     "metadata": {},
     "output_type": "display_data"
    },
    {
     "name": "stderr",
     "output_type": "stream",
     "text": [
      "Sampling 2 chains for 1_000 tune and 1_000 draw iterations (2_000 + 2_000 draws total) took 18 seconds.\n",
      "There were 3 divergences after tuning. Increase `target_accept` or reparameterize.\n",
      "The acceptance probability does not match the target. It is 0.7034, but should be close to 0.8. Try to increase the number of tuning steps.\n"
     ]
    },
    {
     "name": "stdout",
     "output_type": "stream",
     "text": [
      "test_stat=-0.074\n",
      "False\n"
     ]
    },
    {
     "name": "stderr",
     "output_type": "stream",
     "text": [
      "Auto-assigning NUTS sampler...\n",
      "Initializing NUTS using jitter+adapt_diag...\n",
      "Multiprocess sampling (2 chains in 2 jobs)\n",
      "NUTS: [sigma_r, zr, sigma_a, za, mu]\n"
     ]
    },
    {
     "data": {
      "text/html": [
       "\n",
       "<style>\n",
       "    /* Turns off some styling */\n",
       "    progress {\n",
       "        /* gets rid of default border in Firefox and Opera. */\n",
       "        border: none;\n",
       "        /* Needs to be in here for Safari polyfill so background images work as expected. */\n",
       "        background-size: auto;\n",
       "    }\n",
       "    .progress-bar-interrupted, .progress-bar-interrupted::-webkit-progress-bar {\n",
       "        background: #F44336;\n",
       "    }\n",
       "</style>\n"
      ],
      "text/plain": [
       "<IPython.core.display.HTML object>"
      ]
     },
     "metadata": {},
     "output_type": "display_data"
    },
    {
     "data": {
      "text/html": [
       "\n",
       "    <div>\n",
       "      <progress value='4000' class='' max='4000' style='width:300px; height:20px; vertical-align: middle;'></progress>\n",
       "      100.00% [4000/4000 00:18<00:00 Sampling 2 chains, 0 divergences]\n",
       "    </div>\n",
       "    "
      ],
      "text/plain": [
       "<IPython.core.display.HTML object>"
      ]
     },
     "metadata": {},
     "output_type": "display_data"
    },
    {
     "name": "stderr",
     "output_type": "stream",
     "text": [
      "Sampling 2 chains for 1_000 tune and 1_000 draw iterations (2_000 + 2_000 draws total) took 18 seconds.\n"
     ]
    },
    {
     "name": "stdout",
     "output_type": "stream",
     "text": [
      "test_stat=-0.022\n",
      "False\n"
     ]
    },
    {
     "name": "stderr",
     "output_type": "stream",
     "text": [
      "Auto-assigning NUTS sampler...\n",
      "Initializing NUTS using jitter+adapt_diag...\n",
      "Multiprocess sampling (2 chains in 2 jobs)\n",
      "NUTS: [sigma_r, zr, sigma_a, za, mu]\n"
     ]
    },
    {
     "data": {
      "text/html": [
       "\n",
       "<style>\n",
       "    /* Turns off some styling */\n",
       "    progress {\n",
       "        /* gets rid of default border in Firefox and Opera. */\n",
       "        border: none;\n",
       "        /* Needs to be in here for Safari polyfill so background images work as expected. */\n",
       "        background-size: auto;\n",
       "    }\n",
       "    .progress-bar-interrupted, .progress-bar-interrupted::-webkit-progress-bar {\n",
       "        background: #F44336;\n",
       "    }\n",
       "</style>\n"
      ],
      "text/plain": [
       "<IPython.core.display.HTML object>"
      ]
     },
     "metadata": {},
     "output_type": "display_data"
    },
    {
     "data": {
      "text/html": [
       "\n",
       "    <div>\n",
       "      <progress value='4000' class='' max='4000' style='width:300px; height:20px; vertical-align: middle;'></progress>\n",
       "      100.00% [4000/4000 00:19<00:00 Sampling 2 chains, 4 divergences]\n",
       "    </div>\n",
       "    "
      ],
      "text/plain": [
       "<IPython.core.display.HTML object>"
      ]
     },
     "metadata": {},
     "output_type": "display_data"
    },
    {
     "name": "stderr",
     "output_type": "stream",
     "text": [
      "Sampling 2 chains for 1_000 tune and 1_000 draw iterations (2_000 + 2_000 draws total) took 20 seconds.\n",
      "There were 4 divergences after tuning. Increase `target_accept` or reparameterize.\n"
     ]
    },
    {
     "name": "stdout",
     "output_type": "stream",
     "text": [
      "test_stat=-0.037\n",
      "False\n"
     ]
    },
    {
     "name": "stderr",
     "output_type": "stream",
     "text": [
      "Auto-assigning NUTS sampler...\n",
      "Initializing NUTS using jitter+adapt_diag...\n",
      "Multiprocess sampling (2 chains in 2 jobs)\n",
      "NUTS: [sigma_r, zr, sigma_a, za, mu]\n"
     ]
    },
    {
     "data": {
      "text/html": [
       "\n",
       "<style>\n",
       "    /* Turns off some styling */\n",
       "    progress {\n",
       "        /* gets rid of default border in Firefox and Opera. */\n",
       "        border: none;\n",
       "        /* Needs to be in here for Safari polyfill so background images work as expected. */\n",
       "        background-size: auto;\n",
       "    }\n",
       "    .progress-bar-interrupted, .progress-bar-interrupted::-webkit-progress-bar {\n",
       "        background: #F44336;\n",
       "    }\n",
       "</style>\n"
      ],
      "text/plain": [
       "<IPython.core.display.HTML object>"
      ]
     },
     "metadata": {},
     "output_type": "display_data"
    },
    {
     "data": {
      "text/html": [
       "\n",
       "    <div>\n",
       "      <progress value='4000' class='' max='4000' style='width:300px; height:20px; vertical-align: middle;'></progress>\n",
       "      100.00% [4000/4000 00:16<00:00 Sampling 2 chains, 0 divergences]\n",
       "    </div>\n",
       "    "
      ],
      "text/plain": [
       "<IPython.core.display.HTML object>"
      ]
     },
     "metadata": {},
     "output_type": "display_data"
    },
    {
     "name": "stderr",
     "output_type": "stream",
     "text": [
      "Sampling 2 chains for 1_000 tune and 1_000 draw iterations (2_000 + 2_000 draws total) took 17 seconds.\n"
     ]
    },
    {
     "name": "stdout",
     "output_type": "stream",
     "text": [
      "test_stat=-0.017\n",
      "False\n"
     ]
    },
    {
     "name": "stderr",
     "output_type": "stream",
     "text": [
      "Auto-assigning NUTS sampler...\n",
      "Initializing NUTS using jitter+adapt_diag...\n",
      "Multiprocess sampling (2 chains in 2 jobs)\n",
      "NUTS: [sigma_r, zr, sigma_a, za, mu]\n"
     ]
    },
    {
     "data": {
      "text/html": [
       "\n",
       "<style>\n",
       "    /* Turns off some styling */\n",
       "    progress {\n",
       "        /* gets rid of default border in Firefox and Opera. */\n",
       "        border: none;\n",
       "        /* Needs to be in here for Safari polyfill so background images work as expected. */\n",
       "        background-size: auto;\n",
       "    }\n",
       "    .progress-bar-interrupted, .progress-bar-interrupted::-webkit-progress-bar {\n",
       "        background: #F44336;\n",
       "    }\n",
       "</style>\n"
      ],
      "text/plain": [
       "<IPython.core.display.HTML object>"
      ]
     },
     "metadata": {},
     "output_type": "display_data"
    },
    {
     "data": {
      "text/html": [
       "\n",
       "    <div>\n",
       "      <progress value='4000' class='' max='4000' style='width:300px; height:20px; vertical-align: middle;'></progress>\n",
       "      100.00% [4000/4000 00:18<00:00 Sampling 2 chains, 4 divergences]\n",
       "    </div>\n",
       "    "
      ],
      "text/plain": [
       "<IPython.core.display.HTML object>"
      ]
     },
     "metadata": {},
     "output_type": "display_data"
    },
    {
     "name": "stderr",
     "output_type": "stream",
     "text": [
      "Sampling 2 chains for 1_000 tune and 1_000 draw iterations (2_000 + 2_000 draws total) took 19 seconds.\n",
      "There were 4 divergences after tuning. Increase `target_accept` or reparameterize.\n"
     ]
    },
    {
     "name": "stdout",
     "output_type": "stream",
     "text": [
      "test_stat=-0.067\n",
      "False\n"
     ]
    },
    {
     "name": "stderr",
     "output_type": "stream",
     "text": [
      "Auto-assigning NUTS sampler...\n",
      "Initializing NUTS using jitter+adapt_diag...\n",
      "Multiprocess sampling (2 chains in 2 jobs)\n",
      "NUTS: [sigma_r, zr, sigma_a, za, mu]\n"
     ]
    },
    {
     "data": {
      "text/html": [
       "\n",
       "<style>\n",
       "    /* Turns off some styling */\n",
       "    progress {\n",
       "        /* gets rid of default border in Firefox and Opera. */\n",
       "        border: none;\n",
       "        /* Needs to be in here for Safari polyfill so background images work as expected. */\n",
       "        background-size: auto;\n",
       "    }\n",
       "    .progress-bar-interrupted, .progress-bar-interrupted::-webkit-progress-bar {\n",
       "        background: #F44336;\n",
       "    }\n",
       "</style>\n"
      ],
      "text/plain": [
       "<IPython.core.display.HTML object>"
      ]
     },
     "metadata": {},
     "output_type": "display_data"
    },
    {
     "data": {
      "text/html": [
       "\n",
       "    <div>\n",
       "      <progress value='4000' class='' max='4000' style='width:300px; height:20px; vertical-align: middle;'></progress>\n",
       "      100.00% [4000/4000 00:17<00:00 Sampling 2 chains, 1 divergences]\n",
       "    </div>\n",
       "    "
      ],
      "text/plain": [
       "<IPython.core.display.HTML object>"
      ]
     },
     "metadata": {},
     "output_type": "display_data"
    },
    {
     "name": "stderr",
     "output_type": "stream",
     "text": [
      "Sampling 2 chains for 1_000 tune and 1_000 draw iterations (2_000 + 2_000 draws total) took 17 seconds.\n",
      "There was 1 divergence after tuning. Increase `target_accept` or reparameterize.\n"
     ]
    },
    {
     "name": "stdout",
     "output_type": "stream",
     "text": [
      "test_stat=-0.078\n",
      "False\n"
     ]
    },
    {
     "name": "stderr",
     "output_type": "stream",
     "text": [
      "Auto-assigning NUTS sampler...\n",
      "Initializing NUTS using jitter+adapt_diag...\n",
      "Multiprocess sampling (2 chains in 2 jobs)\n",
      "NUTS: [sigma_r, zr, sigma_a, za, mu]\n"
     ]
    },
    {
     "data": {
      "text/html": [
       "\n",
       "<style>\n",
       "    /* Turns off some styling */\n",
       "    progress {\n",
       "        /* gets rid of default border in Firefox and Opera. */\n",
       "        border: none;\n",
       "        /* Needs to be in here for Safari polyfill so background images work as expected. */\n",
       "        background-size: auto;\n",
       "    }\n",
       "    .progress-bar-interrupted, .progress-bar-interrupted::-webkit-progress-bar {\n",
       "        background: #F44336;\n",
       "    }\n",
       "</style>\n"
      ],
      "text/plain": [
       "<IPython.core.display.HTML object>"
      ]
     },
     "metadata": {},
     "output_type": "display_data"
    },
    {
     "data": {
      "text/html": [
       "\n",
       "    <div>\n",
       "      <progress value='4000' class='' max='4000' style='width:300px; height:20px; vertical-align: middle;'></progress>\n",
       "      100.00% [4000/4000 00:20<00:00 Sampling 2 chains, 0 divergences]\n",
       "    </div>\n",
       "    "
      ],
      "text/plain": [
       "<IPython.core.display.HTML object>"
      ]
     },
     "metadata": {},
     "output_type": "display_data"
    },
    {
     "name": "stderr",
     "output_type": "stream",
     "text": [
      "Sampling 2 chains for 1_000 tune and 1_000 draw iterations (2_000 + 2_000 draws total) took 21 seconds.\n"
     ]
    },
    {
     "name": "stdout",
     "output_type": "stream",
     "text": [
      "test_stat=-0.031\n",
      "False\n"
     ]
    },
    {
     "name": "stderr",
     "output_type": "stream",
     "text": [
      "Auto-assigning NUTS sampler...\n",
      "Initializing NUTS using jitter+adapt_diag...\n",
      "Multiprocess sampling (2 chains in 2 jobs)\n",
      "NUTS: [sigma_r, zr, sigma_a, za, mu]\n"
     ]
    },
    {
     "data": {
      "text/html": [
       "\n",
       "<style>\n",
       "    /* Turns off some styling */\n",
       "    progress {\n",
       "        /* gets rid of default border in Firefox and Opera. */\n",
       "        border: none;\n",
       "        /* Needs to be in here for Safari polyfill so background images work as expected. */\n",
       "        background-size: auto;\n",
       "    }\n",
       "    .progress-bar-interrupted, .progress-bar-interrupted::-webkit-progress-bar {\n",
       "        background: #F44336;\n",
       "    }\n",
       "</style>\n"
      ],
      "text/plain": [
       "<IPython.core.display.HTML object>"
      ]
     },
     "metadata": {},
     "output_type": "display_data"
    },
    {
     "data": {
      "text/html": [
       "\n",
       "    <div>\n",
       "      <progress value='4000' class='' max='4000' style='width:300px; height:20px; vertical-align: middle;'></progress>\n",
       "      100.00% [4000/4000 00:16<00:00 Sampling 2 chains, 2 divergences]\n",
       "    </div>\n",
       "    "
      ],
      "text/plain": [
       "<IPython.core.display.HTML object>"
      ]
     },
     "metadata": {},
     "output_type": "display_data"
    },
    {
     "name": "stderr",
     "output_type": "stream",
     "text": [
      "Sampling 2 chains for 1_000 tune and 1_000 draw iterations (2_000 + 2_000 draws total) took 17 seconds.\n",
      "There were 2 divergences after tuning. Increase `target_accept` or reparameterize.\n"
     ]
    },
    {
     "name": "stdout",
     "output_type": "stream",
     "text": [
      "test_stat=-0.05\n",
      "False\n"
     ]
    },
    {
     "name": "stderr",
     "output_type": "stream",
     "text": [
      "Auto-assigning NUTS sampler...\n",
      "Initializing NUTS using jitter+adapt_diag...\n",
      "Multiprocess sampling (2 chains in 2 jobs)\n",
      "NUTS: [sigma_r, zr, sigma_a, za, mu]\n"
     ]
    },
    {
     "data": {
      "text/html": [
       "\n",
       "<style>\n",
       "    /* Turns off some styling */\n",
       "    progress {\n",
       "        /* gets rid of default border in Firefox and Opera. */\n",
       "        border: none;\n",
       "        /* Needs to be in here for Safari polyfill so background images work as expected. */\n",
       "        background-size: auto;\n",
       "    }\n",
       "    .progress-bar-interrupted, .progress-bar-interrupted::-webkit-progress-bar {\n",
       "        background: #F44336;\n",
       "    }\n",
       "</style>\n"
      ],
      "text/plain": [
       "<IPython.core.display.HTML object>"
      ]
     },
     "metadata": {},
     "output_type": "display_data"
    },
    {
     "data": {
      "text/html": [
       "\n",
       "    <div>\n",
       "      <progress value='4000' class='' max='4000' style='width:300px; height:20px; vertical-align: middle;'></progress>\n",
       "      100.00% [4000/4000 00:16<00:00 Sampling 2 chains, 0 divergences]\n",
       "    </div>\n",
       "    "
      ],
      "text/plain": [
       "<IPython.core.display.HTML object>"
      ]
     },
     "metadata": {},
     "output_type": "display_data"
    },
    {
     "name": "stderr",
     "output_type": "stream",
     "text": [
      "Sampling 2 chains for 1_000 tune and 1_000 draw iterations (2_000 + 2_000 draws total) took 17 seconds.\n"
     ]
    },
    {
     "name": "stdout",
     "output_type": "stream",
     "text": [
      "test_stat=-0.021\n",
      "False\n"
     ]
    },
    {
     "name": "stderr",
     "output_type": "stream",
     "text": [
      "Auto-assigning NUTS sampler...\n",
      "Initializing NUTS using jitter+adapt_diag...\n",
      "Multiprocess sampling (2 chains in 2 jobs)\n",
      "NUTS: [sigma_r, zr, sigma_a, za, mu]\n"
     ]
    },
    {
     "data": {
      "text/html": [
       "\n",
       "<style>\n",
       "    /* Turns off some styling */\n",
       "    progress {\n",
       "        /* gets rid of default border in Firefox and Opera. */\n",
       "        border: none;\n",
       "        /* Needs to be in here for Safari polyfill so background images work as expected. */\n",
       "        background-size: auto;\n",
       "    }\n",
       "    .progress-bar-interrupted, .progress-bar-interrupted::-webkit-progress-bar {\n",
       "        background: #F44336;\n",
       "    }\n",
       "</style>\n"
      ],
      "text/plain": [
       "<IPython.core.display.HTML object>"
      ]
     },
     "metadata": {},
     "output_type": "display_data"
    },
    {
     "data": {
      "text/html": [
       "\n",
       "    <div>\n",
       "      <progress value='4000' class='' max='4000' style='width:300px; height:20px; vertical-align: middle;'></progress>\n",
       "      100.00% [4000/4000 00:16<00:00 Sampling 2 chains, 0 divergences]\n",
       "    </div>\n",
       "    "
      ],
      "text/plain": [
       "<IPython.core.display.HTML object>"
      ]
     },
     "metadata": {},
     "output_type": "display_data"
    },
    {
     "name": "stderr",
     "output_type": "stream",
     "text": [
      "Sampling 2 chains for 1_000 tune and 1_000 draw iterations (2_000 + 2_000 draws total) took 17 seconds.\n"
     ]
    },
    {
     "name": "stdout",
     "output_type": "stream",
     "text": [
      "test_stat=-0.062\n",
      "False\n"
     ]
    },
    {
     "name": "stderr",
     "output_type": "stream",
     "text": [
      "Auto-assigning NUTS sampler...\n",
      "Initializing NUTS using jitter+adapt_diag...\n",
      "Multiprocess sampling (2 chains in 2 jobs)\n",
      "NUTS: [sigma_r, zr, sigma_a, za, mu]\n"
     ]
    },
    {
     "data": {
      "text/html": [
       "\n",
       "<style>\n",
       "    /* Turns off some styling */\n",
       "    progress {\n",
       "        /* gets rid of default border in Firefox and Opera. */\n",
       "        border: none;\n",
       "        /* Needs to be in here for Safari polyfill so background images work as expected. */\n",
       "        background-size: auto;\n",
       "    }\n",
       "    .progress-bar-interrupted, .progress-bar-interrupted::-webkit-progress-bar {\n",
       "        background: #F44336;\n",
       "    }\n",
       "</style>\n"
      ],
      "text/plain": [
       "<IPython.core.display.HTML object>"
      ]
     },
     "metadata": {},
     "output_type": "display_data"
    },
    {
     "data": {
      "text/html": [
       "\n",
       "    <div>\n",
       "      <progress value='4000' class='' max='4000' style='width:300px; height:20px; vertical-align: middle;'></progress>\n",
       "      100.00% [4000/4000 00:18<00:00 Sampling 2 chains, 0 divergences]\n",
       "    </div>\n",
       "    "
      ],
      "text/plain": [
       "<IPython.core.display.HTML object>"
      ]
     },
     "metadata": {},
     "output_type": "display_data"
    },
    {
     "name": "stderr",
     "output_type": "stream",
     "text": [
      "Sampling 2 chains for 1_000 tune and 1_000 draw iterations (2_000 + 2_000 draws total) took 19 seconds.\n"
     ]
    },
    {
     "name": "stdout",
     "output_type": "stream",
     "text": [
      "test_stat=-0.053\n",
      "False\n"
     ]
    },
    {
     "name": "stderr",
     "output_type": "stream",
     "text": [
      "Auto-assigning NUTS sampler...\n",
      "Initializing NUTS using jitter+adapt_diag...\n",
      "Multiprocess sampling (2 chains in 2 jobs)\n",
      "NUTS: [sigma_r, zr, sigma_a, za, mu]\n"
     ]
    },
    {
     "data": {
      "text/html": [
       "\n",
       "<style>\n",
       "    /* Turns off some styling */\n",
       "    progress {\n",
       "        /* gets rid of default border in Firefox and Opera. */\n",
       "        border: none;\n",
       "        /* Needs to be in here for Safari polyfill so background images work as expected. */\n",
       "        background-size: auto;\n",
       "    }\n",
       "    .progress-bar-interrupted, .progress-bar-interrupted::-webkit-progress-bar {\n",
       "        background: #F44336;\n",
       "    }\n",
       "</style>\n"
      ],
      "text/plain": [
       "<IPython.core.display.HTML object>"
      ]
     },
     "metadata": {},
     "output_type": "display_data"
    },
    {
     "data": {
      "text/html": [
       "\n",
       "    <div>\n",
       "      <progress value='4000' class='' max='4000' style='width:300px; height:20px; vertical-align: middle;'></progress>\n",
       "      100.00% [4000/4000 00:19<00:00 Sampling 2 chains, 0 divergences]\n",
       "    </div>\n",
       "    "
      ],
      "text/plain": [
       "<IPython.core.display.HTML object>"
      ]
     },
     "metadata": {},
     "output_type": "display_data"
    },
    {
     "name": "stderr",
     "output_type": "stream",
     "text": [
      "Sampling 2 chains for 1_000 tune and 1_000 draw iterations (2_000 + 2_000 draws total) took 20 seconds.\n"
     ]
    },
    {
     "name": "stdout",
     "output_type": "stream",
     "text": [
      "test_stat=-0.045\n",
      "False\n"
     ]
    },
    {
     "name": "stderr",
     "output_type": "stream",
     "text": [
      "Auto-assigning NUTS sampler...\n",
      "Initializing NUTS using jitter+adapt_diag...\n",
      "Multiprocess sampling (2 chains in 2 jobs)\n",
      "NUTS: [sigma_r, zr, sigma_a, za, mu]\n"
     ]
    },
    {
     "data": {
      "text/html": [
       "\n",
       "<style>\n",
       "    /* Turns off some styling */\n",
       "    progress {\n",
       "        /* gets rid of default border in Firefox and Opera. */\n",
       "        border: none;\n",
       "        /* Needs to be in here for Safari polyfill so background images work as expected. */\n",
       "        background-size: auto;\n",
       "    }\n",
       "    .progress-bar-interrupted, .progress-bar-interrupted::-webkit-progress-bar {\n",
       "        background: #F44336;\n",
       "    }\n",
       "</style>\n"
      ],
      "text/plain": [
       "<IPython.core.display.HTML object>"
      ]
     },
     "metadata": {},
     "output_type": "display_data"
    },
    {
     "data": {
      "text/html": [
       "\n",
       "    <div>\n",
       "      <progress value='4000' class='' max='4000' style='width:300px; height:20px; vertical-align: middle;'></progress>\n",
       "      100.00% [4000/4000 00:17<00:00 Sampling 2 chains, 0 divergences]\n",
       "    </div>\n",
       "    "
      ],
      "text/plain": [
       "<IPython.core.display.HTML object>"
      ]
     },
     "metadata": {},
     "output_type": "display_data"
    },
    {
     "name": "stderr",
     "output_type": "stream",
     "text": [
      "Sampling 2 chains for 1_000 tune and 1_000 draw iterations (2_000 + 2_000 draws total) took 18 seconds.\n"
     ]
    },
    {
     "name": "stdout",
     "output_type": "stream",
     "text": [
      "test_stat=-0.017\n",
      "False\n"
     ]
    },
    {
     "name": "stderr",
     "output_type": "stream",
     "text": [
      "Auto-assigning NUTS sampler...\n",
      "Initializing NUTS using jitter+adapt_diag...\n",
      "Multiprocess sampling (2 chains in 2 jobs)\n",
      "NUTS: [sigma_r, zr, sigma_a, za, mu]\n"
     ]
    },
    {
     "data": {
      "text/html": [
       "\n",
       "<style>\n",
       "    /* Turns off some styling */\n",
       "    progress {\n",
       "        /* gets rid of default border in Firefox and Opera. */\n",
       "        border: none;\n",
       "        /* Needs to be in here for Safari polyfill so background images work as expected. */\n",
       "        background-size: auto;\n",
       "    }\n",
       "    .progress-bar-interrupted, .progress-bar-interrupted::-webkit-progress-bar {\n",
       "        background: #F44336;\n",
       "    }\n",
       "</style>\n"
      ],
      "text/plain": [
       "<IPython.core.display.HTML object>"
      ]
     },
     "metadata": {},
     "output_type": "display_data"
    },
    {
     "data": {
      "text/html": [
       "\n",
       "    <div>\n",
       "      <progress value='4000' class='' max='4000' style='width:300px; height:20px; vertical-align: middle;'></progress>\n",
       "      100.00% [4000/4000 00:17<00:00 Sampling 2 chains, 0 divergences]\n",
       "    </div>\n",
       "    "
      ],
      "text/plain": [
       "<IPython.core.display.HTML object>"
      ]
     },
     "metadata": {},
     "output_type": "display_data"
    },
    {
     "name": "stderr",
     "output_type": "stream",
     "text": [
      "Sampling 2 chains for 1_000 tune and 1_000 draw iterations (2_000 + 2_000 draws total) took 18 seconds.\n"
     ]
    },
    {
     "name": "stdout",
     "output_type": "stream",
     "text": [
      "test_stat=-0.046\n",
      "False\n"
     ]
    },
    {
     "name": "stderr",
     "output_type": "stream",
     "text": [
      "Auto-assigning NUTS sampler...\n",
      "Initializing NUTS using jitter+adapt_diag...\n",
      "Multiprocess sampling (2 chains in 2 jobs)\n",
      "NUTS: [sigma_r, zr, sigma_a, za, mu]\n"
     ]
    },
    {
     "data": {
      "text/html": [
       "\n",
       "<style>\n",
       "    /* Turns off some styling */\n",
       "    progress {\n",
       "        /* gets rid of default border in Firefox and Opera. */\n",
       "        border: none;\n",
       "        /* Needs to be in here for Safari polyfill so background images work as expected. */\n",
       "        background-size: auto;\n",
       "    }\n",
       "    .progress-bar-interrupted, .progress-bar-interrupted::-webkit-progress-bar {\n",
       "        background: #F44336;\n",
       "    }\n",
       "</style>\n"
      ],
      "text/plain": [
       "<IPython.core.display.HTML object>"
      ]
     },
     "metadata": {},
     "output_type": "display_data"
    },
    {
     "data": {
      "text/html": [
       "\n",
       "    <div>\n",
       "      <progress value='4000' class='' max='4000' style='width:300px; height:20px; vertical-align: middle;'></progress>\n",
       "      100.00% [4000/4000 00:17<00:00 Sampling 2 chains, 3 divergences]\n",
       "    </div>\n",
       "    "
      ],
      "text/plain": [
       "<IPython.core.display.HTML object>"
      ]
     },
     "metadata": {},
     "output_type": "display_data"
    },
    {
     "name": "stderr",
     "output_type": "stream",
     "text": [
      "Sampling 2 chains for 1_000 tune and 1_000 draw iterations (2_000 + 2_000 draws total) took 17 seconds.\n",
      "There were 3 divergences after tuning. Increase `target_accept` or reparameterize.\n"
     ]
    },
    {
     "name": "stdout",
     "output_type": "stream",
     "text": [
      "test_stat=-0.014\n",
      "False\n"
     ]
    },
    {
     "name": "stderr",
     "output_type": "stream",
     "text": [
      "Auto-assigning NUTS sampler...\n",
      "Initializing NUTS using jitter+adapt_diag...\n",
      "Multiprocess sampling (2 chains in 2 jobs)\n",
      "NUTS: [sigma_r, zr, sigma_a, za, mu]\n"
     ]
    },
    {
     "data": {
      "text/html": [
       "\n",
       "<style>\n",
       "    /* Turns off some styling */\n",
       "    progress {\n",
       "        /* gets rid of default border in Firefox and Opera. */\n",
       "        border: none;\n",
       "        /* Needs to be in here for Safari polyfill so background images work as expected. */\n",
       "        background-size: auto;\n",
       "    }\n",
       "    .progress-bar-interrupted, .progress-bar-interrupted::-webkit-progress-bar {\n",
       "        background: #F44336;\n",
       "    }\n",
       "</style>\n"
      ],
      "text/plain": [
       "<IPython.core.display.HTML object>"
      ]
     },
     "metadata": {},
     "output_type": "display_data"
    },
    {
     "data": {
      "text/html": [
       "\n",
       "    <div>\n",
       "      <progress value='4000' class='' max='4000' style='width:300px; height:20px; vertical-align: middle;'></progress>\n",
       "      100.00% [4000/4000 00:17<00:00 Sampling 2 chains, 4 divergences]\n",
       "    </div>\n",
       "    "
      ],
      "text/plain": [
       "<IPython.core.display.HTML object>"
      ]
     },
     "metadata": {},
     "output_type": "display_data"
    },
    {
     "name": "stderr",
     "output_type": "stream",
     "text": [
      "Sampling 2 chains for 1_000 tune and 1_000 draw iterations (2_000 + 2_000 draws total) took 17 seconds.\n",
      "There were 4 divergences after tuning. Increase `target_accept` or reparameterize.\n",
      "The acceptance probability does not match the target. It is 0.7091, but should be close to 0.8. Try to increase the number of tuning steps.\n"
     ]
    },
    {
     "name": "stdout",
     "output_type": "stream",
     "text": [
      "test_stat=-0.004\n",
      "False\n"
     ]
    },
    {
     "name": "stderr",
     "output_type": "stream",
     "text": [
      "Auto-assigning NUTS sampler...\n",
      "Initializing NUTS using jitter+adapt_diag...\n",
      "Multiprocess sampling (2 chains in 2 jobs)\n",
      "NUTS: [sigma_r, zr, sigma_a, za, mu]\n"
     ]
    },
    {
     "data": {
      "text/html": [
       "\n",
       "<style>\n",
       "    /* Turns off some styling */\n",
       "    progress {\n",
       "        /* gets rid of default border in Firefox and Opera. */\n",
       "        border: none;\n",
       "        /* Needs to be in here for Safari polyfill so background images work as expected. */\n",
       "        background-size: auto;\n",
       "    }\n",
       "    .progress-bar-interrupted, .progress-bar-interrupted::-webkit-progress-bar {\n",
       "        background: #F44336;\n",
       "    }\n",
       "</style>\n"
      ],
      "text/plain": [
       "<IPython.core.display.HTML object>"
      ]
     },
     "metadata": {},
     "output_type": "display_data"
    },
    {
     "data": {
      "text/html": [
       "\n",
       "    <div>\n",
       "      <progress value='4000' class='' max='4000' style='width:300px; height:20px; vertical-align: middle;'></progress>\n",
       "      100.00% [4000/4000 00:18<00:00 Sampling 2 chains, 0 divergences]\n",
       "    </div>\n",
       "    "
      ],
      "text/plain": [
       "<IPython.core.display.HTML object>"
      ]
     },
     "metadata": {},
     "output_type": "display_data"
    },
    {
     "name": "stderr",
     "output_type": "stream",
     "text": [
      "Sampling 2 chains for 1_000 tune and 1_000 draw iterations (2_000 + 2_000 draws total) took 19 seconds.\n"
     ]
    },
    {
     "name": "stdout",
     "output_type": "stream",
     "text": [
      "test_stat=-0.012\n",
      "False\n"
     ]
    },
    {
     "name": "stderr",
     "output_type": "stream",
     "text": [
      "Auto-assigning NUTS sampler...\n",
      "Initializing NUTS using jitter+adapt_diag...\n",
      "Multiprocess sampling (2 chains in 2 jobs)\n",
      "NUTS: [sigma_r, zr, sigma_a, za, mu]\n"
     ]
    },
    {
     "data": {
      "text/html": [
       "\n",
       "<style>\n",
       "    /* Turns off some styling */\n",
       "    progress {\n",
       "        /* gets rid of default border in Firefox and Opera. */\n",
       "        border: none;\n",
       "        /* Needs to be in here for Safari polyfill so background images work as expected. */\n",
       "        background-size: auto;\n",
       "    }\n",
       "    .progress-bar-interrupted, .progress-bar-interrupted::-webkit-progress-bar {\n",
       "        background: #F44336;\n",
       "    }\n",
       "</style>\n"
      ],
      "text/plain": [
       "<IPython.core.display.HTML object>"
      ]
     },
     "metadata": {},
     "output_type": "display_data"
    },
    {
     "data": {
      "text/html": [
       "\n",
       "    <div>\n",
       "      <progress value='4000' class='' max='4000' style='width:300px; height:20px; vertical-align: middle;'></progress>\n",
       "      100.00% [4000/4000 00:17<00:00 Sampling 2 chains, 0 divergences]\n",
       "    </div>\n",
       "    "
      ],
      "text/plain": [
       "<IPython.core.display.HTML object>"
      ]
     },
     "metadata": {},
     "output_type": "display_data"
    },
    {
     "name": "stderr",
     "output_type": "stream",
     "text": [
      "Sampling 2 chains for 1_000 tune and 1_000 draw iterations (2_000 + 2_000 draws total) took 18 seconds.\n"
     ]
    },
    {
     "name": "stdout",
     "output_type": "stream",
     "text": [
      "test_stat=-0.027\n",
      "False\n"
     ]
    }
   ],
   "source": [
    "for chain, draw in itertools.product(range(2), range(10)):\n",
    "    sim_scores_array = np.array(ps_sim.predictions.loc[{\"chain\":chain, \"draw\":draw}][\"s\"])\n",
    "    p_model_diff(simulated_model, sim_scores_array)"
   ]
  },
  {
   "cell_type": "code",
   "execution_count": null,
   "id": "ba7bcaa9",
   "metadata": {},
   "outputs": [],
   "source": []
  }
 ],
 "metadata": {
  "kernelspec": {
   "display_name": "thesis",
   "language": "python",
   "name": "thesis"
  },
  "language_info": {
   "codemirror_mode": {
    "name": "ipython",
    "version": 3
   },
   "file_extension": ".py",
   "mimetype": "text/x-python",
   "name": "python",
   "nbconvert_exporter": "python",
   "pygments_lexer": "ipython3",
   "version": "3.10.4"
  }
 },
 "nbformat": 4,
 "nbformat_minor": 5
}
