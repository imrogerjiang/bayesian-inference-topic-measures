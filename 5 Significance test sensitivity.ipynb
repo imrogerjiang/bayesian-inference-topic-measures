{
 "cells": [
  {
   "cell_type": "code",
   "execution_count": 2,
   "id": "fcdaa434",
   "metadata": {},
   "outputs": [],
   "source": [
    "# from getopt import getopt\n",
    "# import cloudpickle\n",
    "# import pickle\n",
    "# import sys\n",
    "# import os\n",
    "import numpy as np\n",
    "import pandas as pd\n",
    "# import seaborn as sns\n",
    "# from scipy.special import logit, expit\n",
    "# from scipy.stats import uniform, norm, bernoulli, betabinom\n",
    "# from statsmodels.stats.proportion import proportions_ztest\n",
    "# from matplotlib import pyplot as plt\n",
    "# import pymc as pm\n",
    "# import arviz as az\n",
    "# from modeltools import mcmc_diagnostics, create_summary_stat\n",
    "from downcast import downcast_df\n",
    "# import jax\n",
    "# from pymc.sampling_jax import sample_numpyro_nuts\n",
    "# from time import time, sleep\n",
    "# from datetime import timedelta"
   ]
  },
  {
   "cell_type": "code",
   "execution_count": 3,
   "id": "b58c3e9e",
   "metadata": {},
   "outputs": [],
   "source": [
    "# Reading in data\n",
    "raw_data = pd.read_csv(\"data/unit_level_ratings.csv\",index_col = 0)\n",
    "raw_data = raw_data.sort_values(by=[\"corpus\", \"model\", \"topic\"])\n",
    "\n",
    "# Creating identifier for each corpus, model, and topic\n",
    "# Identifier is unique for topic \n",
    "corpus_ids = (raw_data.groupby([\"corpus\"], as_index=False)\n",
    "    .agg({\"intrusion\":\"count\"})\n",
    "    .drop(columns=\"intrusion\"))\n",
    "corpus_ids[\"corpus_id\"] = corpus_ids.index\n",
    "\n",
    "model_ids = (raw_data.groupby([\"model\"], as_index=False)\n",
    "    .agg({\"intrusion\":\"count\"})\n",
    "    .drop(columns=\"intrusion\"))\n",
    "model_ids[\"model_id\"] = model_ids.index\n",
    "\n",
    "cordel_ids = (raw_data.groupby([\"corpus\", \"model\"], as_index=False)\n",
    "    .agg({\"intrusion\":\"count\"})\n",
    "    .drop(columns=\"intrusion\"))\n",
    "cordel_ids[\"cordel_id\"] = cordel_ids.index \n",
    "\n",
    "topic_ids = (raw_data.groupby([\"corpus\", \"model\", \"topic\"], as_index=False)\n",
    "    .agg({\"intrusion\":\"count\"})\n",
    "    .drop(columns=\"intrusion\"))\n",
    "topic_ids[\"topic_id\"] = topic_ids[\"topic\"].astype(np.int16)\n",
    "\n",
    "rater_ids = (raw_data.groupby([\"corpus\", \"rater\"], as_index=False)\n",
    "    .agg({\"intrusion\":\"count\"})\n",
    "    .drop(columns=\"intrusion\"))\n",
    "rater_ids[\"rater_id\"] = rater_ids.index \n",
    "\n",
    "d1 = pd.merge(raw_data, corpus_ids, on=[\"corpus\"], how=\"left\")\n",
    "d2 = pd.merge(d1, model_ids, on=[\"model\"], how=\"left\")\n",
    "d3 = pd.merge(d2, cordel_ids, on=[\"corpus\",\"model\"], how=\"left\")\n",
    "d4 = pd.merge(d3, rater_ids, on=[\"corpus\", \"rater\"], how=\"left\")\n",
    "data = pd.merge(d4, topic_ids, on=[\"corpus\", \"model\", \"topic\"], how=\"left\")\n",
    "data = data[[\"corpus_id\", \"model_id\", \"cordel_id\", \"topic_id\", \"rater_id\", \"intrusion\", \"confidence\"]]\n",
    "data, na_s = downcast_df(data)"
   ]
  },
  {
   "cell_type": "code",
   "execution_count": 4,
   "id": "bca83e90",
   "metadata": {},
   "outputs": [],
   "source": [
    "a = (data.groupby([\"cordel_id\", \"topic_id\"])\n",
    "         .agg({\"intrusion\":\"sum\"})\n",
    "         .reset_index()\n",
    "         .rename(columns={\"intrusion\":\"sum\"}))\n",
    "b = (data.groupby([\"cordel_id\", \"topic_id\"])\n",
    "         .agg({\"intrusion\":\"count\"})\n",
    "         .reset_index()\n",
    "         .rename(columns={\"intrusion\":\"count\"}))\n",
    "c = pd.merge(a, b, on=[\"cordel_id\", \"topic_id\"])\n",
    "c[\"model_precision\"] = c[\"sum\"]/c[\"count\"]"
   ]
  },
  {
   "cell_type": "code",
   "execution_count": 5,
   "id": "662b66cc",
   "metadata": {},
   "outputs": [],
   "source": [
    "avg_model_prec = np.array(c.groupby(\"cordel_id\").agg({\"model_precision\":\"mean\"})[\"model_precision\"]).round(4)"
   ]
  },
  {
   "cell_type": "code",
   "execution_count": 8,
   "id": "d23fcdd1",
   "metadata": {},
   "outputs": [
    {
     "name": "stdout",
     "output_type": "stream",
     "text": [
      "Difference in average model precision of corpus/topic model pairs\n",
      "[[ 0.     -0.1219 -0.0506 -0.0079 -0.0625 -0.0395]\n",
      " [ 0.1219  0.      0.0713  0.114   0.0594  0.0824]\n",
      " [ 0.0506 -0.0713  0.      0.0427 -0.0119  0.0111]\n",
      " [ 0.0079 -0.114  -0.0427  0.     -0.0546 -0.0316]\n",
      " [ 0.0625 -0.0594  0.0119  0.0546  0.      0.023 ]\n",
      " [ 0.0395 -0.0824 -0.0111  0.0316 -0.023   0.    ]]\n"
     ]
    }
   ],
   "source": [
    "print(\"Difference in average model precision of corpus/topic model pairs\")\n",
    "print(avg_model_prec.reshape(1,-1) - avg_model_prec.reshape(-1,1))"
   ]
  },
  {
   "cell_type": "code",
   "execution_count": 7,
   "id": "494c6681",
   "metadata": {},
   "outputs": [
    {
     "name": "stdout",
     "output_type": "stream",
     "text": [
      "0.05883333333333333\n",
      "Average difference between topic models. Conducting simulations using 0.055 is perfectly valid\n"
     ]
    }
   ],
   "source": [
    "print(\"Average difference between topic models. Conducting simulations using 0.055 is perfectly valid\")\n",
    "print(sum([0.122, 0.050, 0.071, 0.055, 0.032, 0.023])/6)"
   ]
  },
  {
   "cell_type": "markdown",
   "id": "7cae9442",
   "metadata": {},
   "source": [
    "## Simulating test power"
   ]
  },
  {
   "cell_type": "code",
   "execution_count": null,
   "id": "edc987ae",
   "metadata": {},
   "outputs": [],
   "source": []
  }
 ],
 "metadata": {
  "kernelspec": {
   "display_name": "bayes_topic_measures",
   "language": "python",
   "name": "bayes_topic_measures"
  },
  "language_info": {
   "codemirror_mode": {
    "name": "ipython",
    "version": 3
   },
   "file_extension": ".py",
   "mimetype": "text/x-python",
   "name": "python",
   "nbconvert_exporter": "python",
   "pygments_lexer": "ipython3",
   "version": "3.10.12"
  }
 },
 "nbformat": 4,
 "nbformat_minor": 5
}
