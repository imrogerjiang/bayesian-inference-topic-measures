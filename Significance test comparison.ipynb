{
 "cells": [
  {
   "cell_type": "code",
   "execution_count": 1,
   "id": "ba189535",
   "metadata": {},
   "outputs": [
    {
     "name": "stderr",
     "output_type": "stream",
     "text": [
      "WARNING (aesara.tensor.blas): Using NumPy C-API based implementation for BLAS functions.\n",
      "/home/roger/.local/lib/python3.10/site-packages/pkg_resources/__init__.py:123: PkgResourcesDeprecationWarning: 0.1.43ubuntu1 is an invalid version and will not be supported in a future release\n",
      "  warnings.warn(\n",
      "/home/roger/.local/lib/python3.10/site-packages/pkg_resources/__init__.py:123: PkgResourcesDeprecationWarning: 1.1build1 is an invalid version and will not be supported in a future release\n",
      "  warnings.warn(\n",
      "2022-10-24 14:34:52.190676: W external/org_tensorflow/tensorflow/compiler/xla/stream_executor/platform/default/dso_loader.cc:64] Could not load dynamic library 'libcudart.so.11.0'; dlerror: libcudart.so.11.0: cannot open shared object file: No such file or directory\n",
      "2022-10-24 14:34:52.216635: W external/org_tensorflow/tensorflow/compiler/xla/stream_executor/platform/default/dso_loader.cc:64] Could not load dynamic library 'libcudart.so.11.0'; dlerror: libcudart.so.11.0: cannot open shared object file: No such file or directory\n",
      "2022-10-24 14:34:52.218188: W external/org_tensorflow/tensorflow/compiler/xla/stream_executor/platform/default/dso_loader.cc:64] Could not load dynamic library 'libcudart.so.11.0'; dlerror: libcudart.so.11.0: cannot open shared object file: No such file or directory\n",
      "/home/roger/.local/lib/python3.10/site-packages/pymc/sampling_jax.py:37: UserWarning: This module is experimental.\n",
      "  warnings.warn(\"This module is experimental.\")\n"
     ]
    }
   ],
   "source": [
    "import numpy as np\n",
    "import pandas as pd\n",
    "import seaborn as sns\n",
    "from scipy.special import logit, expit\n",
    "from scipy.stats import uniform, norm, bernoulli\n",
    "from statsmodels.stats.proportion import proportions_ztest\n",
    "from matplotlib import pyplot as plt\n",
    "import pymc as pm\n",
    "import arviz as az\n",
    "import jax\n",
    "from pymc.sampling_jax import sample_numpyro_nuts\n",
    "from time import time\n",
    "import pickle\n",
    "\n",
    "from modeltools import mcmc_diagnostics, create_summary_stat\n",
    "from downcast import downcast_df\n",
    "from simulatescores import simulate_scores"
   ]
  },
  {
   "cell_type": "code",
   "execution_count": 2,
   "id": "b0dabadf",
   "metadata": {},
   "outputs": [],
   "source": [
    "#  Setting up seeds\n",
    "seed = 42\n",
    "\n",
    "# Setting numpy seed\n",
    "np.random.seed(seed)\n",
    "\n",
    "# GPU setting\n",
    "SAMPLE_JAX = True"
   ]
  },
  {
   "cell_type": "code",
   "execution_count": 3,
   "id": "695a17bb",
   "metadata": {},
   "outputs": [],
   "source": [
    "import sys\n",
    "import importlib\n",
    "importlib.reload(sys.modules['simulatescores'])\n",
    "from simulatescores import simulate_scores"
   ]
  },
  {
   "cell_type": "code",
   "execution_count": 4,
   "id": "4b95cc7b",
   "metadata": {},
   "outputs": [],
   "source": [
    "raw_data = pd.read_csv(\"data/unit_level_ratings.csv\",index_col = 0)\n",
    "raw_data = raw_data.sort_values(by=[\"corpus\", \"model\", \"topic\"])"
   ]
  },
  {
   "cell_type": "code",
   "execution_count": 5,
   "id": "0b4958d0",
   "metadata": {},
   "outputs": [],
   "source": [
    "# Creating identifier for each corpus, model, and topic\n",
    "# Identifier is unique for topic \n",
    "corpus_ids = (raw_data.groupby([\"corpus\"], as_index=False)\n",
    "    .agg({\"intrusion\":\"count\"})\n",
    "    .drop(columns=\"intrusion\"))\n",
    "corpus_ids[\"corpus_id\"] = corpus_ids.index\n",
    "\n",
    "model_ids = (raw_data.groupby([\"model\"], as_index=False)\n",
    "    .agg({\"intrusion\":\"count\"})\n",
    "    .drop(columns=\"intrusion\"))\n",
    "model_ids[\"model_id\"] = model_ids.index\n",
    "\n",
    "cordel_ids = (raw_data.groupby([\"corpus\", \"model\"], as_index=False)\n",
    "    .agg({\"intrusion\":\"count\"})\n",
    "    .drop(columns=\"intrusion\"))\n",
    "cordel_ids[\"cordel_id\"] = cordel_ids.index \n",
    "\n",
    "topic_ids = (raw_data.groupby([\"corpus\", \"model\", \"topic\"], as_index=False)\n",
    "    .agg({\"intrusion\":\"count\"})\n",
    "    .drop(columns=\"intrusion\"))\n",
    "topic_ids[\"topic_id\"] = topic_ids[\"topic\"].astype(np.int16)\n",
    "\n",
    "rater_ids = (raw_data.groupby([\"corpus\", \"rater\"], as_index=False)\n",
    "    .agg({\"intrusion\":\"count\"})\n",
    "    .drop(columns=\"intrusion\"))\n",
    "rater_ids[\"rater_id\"] = rater_ids.index \n",
    "\n",
    "\n",
    "d1 = pd.merge(raw_data, corpus_ids, on=[\"corpus\"], how=\"left\")\n",
    "d2 = pd.merge(d1, model_ids, on=[\"model\"], how=\"left\")\n",
    "d3 = pd.merge(d2, cordel_ids, on=[\"corpus\",\"model\"], how=\"left\")\n",
    "d4 = pd.merge(d3, rater_ids, on=[\"corpus\", \"rater\"], how=\"left\")\n",
    "data = pd.merge(d4, topic_ids, on=[\"corpus\", \"model\", \"topic\"], how=\"left\")\n",
    "data = data[[\"corpus_id\", \"model_id\", \"cordel_id\", \"topic_id\", \"rater_id\", \"intrusion\", \"confidence\"]]\n",
    "data, na_s = downcast_df(data)"
   ]
  },
  {
   "cell_type": "code",
   "execution_count": 6,
   "id": "a19cd14c",
   "metadata": {},
   "outputs": [],
   "source": [
    "# Setting up numpy arrays for pymc\n",
    "corpus_array = np.array(data[\"corpus_id\"])\n",
    "n_corpora = data[\"corpus_id\"].nunique()\n",
    "\n",
    "model_array = np.array(data[\"model_id\"])\n",
    "n_models = data[\"model_id\"].nunique()\n",
    "\n",
    "cordel_array = np.array(data[\"cordel_id\"])\n",
    "n_cordels = data[\"cordel_id\"].nunique()\n",
    "\n",
    "topic_array = np.array([data[\"cordel_id\"], data[\"topic_id\"]])\n",
    "n_topics = data[\"topic_id\"].nunique()\n",
    "\n",
    "rater_array = np.array(data[\"rater_id\"])\n",
    "obs_n_raters = data[\"rater_id\"].nunique()\n",
    "\n",
    "score_array = np.array(data[\"intrusion\"])\n",
    "\n"
   ]
  },
  {
   "cell_type": "code",
   "execution_count": 7,
   "id": "086102aa",
   "metadata": {},
   "outputs": [],
   "source": [
    "# Adding cordel id to topic_ids dataframe\n",
    "topic_cordel_ids = pd.merge(topic_ids, cordel_ids, on=[\"corpus\", \"model\"], how=\"left\")"
   ]
  },
  {
   "cell_type": "markdown",
   "id": "a11c66c9",
   "metadata": {},
   "source": [
    "## Bayesian Model"
   ]
  },
  {
   "cell_type": "code",
   "execution_count": 8,
   "id": "240c952c",
   "metadata": {},
   "outputs": [],
   "source": [
    "# Model and MCMC specifications\n",
    "\n",
    "n_chains = 6\n",
    "empirical_mean = logit(0.75)\n",
    "r_lambda = 2\n",
    "t_lambda = 1\n",
    "t_sigma = 1\n",
    "# cm_lambda = 2\n",
    "# cm_sigma = 1\n",
    "mu_sigma = 1\n",
    "\n",
    "glm_rater_topic_cordel = {\"model\":pm.Model()}"
   ]
  },
  {
   "cell_type": "code",
   "execution_count": 9,
   "id": "6092d3d8",
   "metadata": {
    "scrolled": true
   },
   "outputs": [
    {
     "name": "stdout",
     "output_type": "stream",
     "text": [
      "Compiling...\n"
     ]
    },
    {
     "name": "stderr",
     "output_type": "stream",
     "text": [
      "2022-10-24 14:34:55.055400: W external/org_tensorflow/tensorflow/compiler/xla/stream_executor/platform/default/dso_loader.cc:64] Could not load dynamic library 'libcuda.so.1'; dlerror: libcuda.so.1: cannot open shared object file: No such file or directory\n",
      "2022-10-24 14:34:55.055422: W external/org_tensorflow/tensorflow/compiler/xla/stream_executor/cuda/cuda_driver.cc:265] failed call to cuInit: UNKNOWN ERROR (303)\n"
     ]
    },
    {
     "name": "stdout",
     "output_type": "stream",
     "text": [
      "Compilation time =  0:00:02.088853\n",
      "Sampling...\n"
     ]
    },
    {
     "data": {
      "application/vnd.jupyter.widget-view+json": {
       "model_id": "440c3eeddc7c420a9e679c2ba0a0aa17",
       "version_major": 2,
       "version_minor": 0
      },
      "text/plain": [
       "  0%|          | 0/2000 [00:00<?, ?it/s]"
      ]
     },
     "metadata": {},
     "output_type": "display_data"
    },
    {
     "data": {
      "application/vnd.jupyter.widget-view+json": {
       "model_id": "494122d2c97b45afbba6f8975ebbfd78",
       "version_major": 2,
       "version_minor": 0
      },
      "text/plain": [
       "  0%|          | 0/2000 [00:00<?, ?it/s]"
      ]
     },
     "metadata": {},
     "output_type": "display_data"
    },
    {
     "data": {
      "application/vnd.jupyter.widget-view+json": {
       "model_id": "5d97750ef6834bcdb537ee87193826ba",
       "version_major": 2,
       "version_minor": 0
      },
      "text/plain": [
       "  0%|          | 0/2000 [00:00<?, ?it/s]"
      ]
     },
     "metadata": {},
     "output_type": "display_data"
    },
    {
     "data": {
      "application/vnd.jupyter.widget-view+json": {
       "model_id": "5d83f85113ec4e42baccdd3ad64d8f79",
       "version_major": 2,
       "version_minor": 0
      },
      "text/plain": [
       "  0%|          | 0/2000 [00:00<?, ?it/s]"
      ]
     },
     "metadata": {},
     "output_type": "display_data"
    },
    {
     "data": {
      "application/vnd.jupyter.widget-view+json": {
       "model_id": "93900f55336c4334a488c5e57ac74dea",
       "version_major": 2,
       "version_minor": 0
      },
      "text/plain": [
       "  0%|          | 0/2000 [00:00<?, ?it/s]"
      ]
     },
     "metadata": {},
     "output_type": "display_data"
    },
    {
     "data": {
      "application/vnd.jupyter.widget-view+json": {
       "model_id": "560ac62e0b8b47ca92874f0d0fa4f248",
       "version_major": 2,
       "version_minor": 0
      },
      "text/plain": [
       "  0%|          | 0/2000 [00:00<?, ?it/s]"
      ]
     },
     "metadata": {},
     "output_type": "display_data"
    },
    {
     "name": "stdout",
     "output_type": "stream",
     "text": [
      "Sampling time =  0:01:06.957784\n",
      "Transforming variables...\n",
      "Transformation time =  0:00:00.580019\n",
      "Computing Log Likelihood...\n",
      "Log Likelihood time =  0:00:06.463737\n"
     ]
    }
   ],
   "source": [
    "# Rater, Topic, Cordel model\n",
    "\n",
    "glm_rater_topic_cordel[\"model\"] = pm.Model()\n",
    "with glm_rater_topic_cordel[\"model\"]:\n",
    "    # Hyperparameter priors\n",
    "    raters = pm.Data(\"raters\", rater_array, mutable=True, dims=\"obs_id\")\n",
    "    topics = pm.Data(\"topics\", topic_array, mutable=True, dims=[\"cordel\", \"topic\"])\n",
    "    cordels = pm.Data(\"cordels\", cordel_array, mutable=True, dims=\"obs_id\")\n",
    "    \n",
    "    sigma_r = pm.Exponential(\"sigma_r\", lam=r_lambda)\n",
    "    zr = pm.Normal(\"zr\",mu=0, sigma=1, shape=obs_n_raters)\n",
    "    sigma_a = pm.Exponential(\"sigma_a\", lam=t_lambda)\n",
    "    za = pm.Normal(\"za\",mu=0, sigma=t_sigma, shape=(n_cordels, n_topics)) \n",
    "    mu = pm.Normal(\"mu\",mu=empirical_mean, sigma=mu_sigma, shape=n_cordels)\n",
    "    \n",
    "    s = pm.Bernoulli(\n",
    "            \"s\", \n",
    "            p=pm.math.invlogit(\n",
    "                mu[cordels]+\n",
    "                za[topics[0],topics[1]]*sigma_a+\n",
    "                zr[raters]*sigma_r),\n",
    "            observed=score_array, \n",
    "            dims=\"obs_id\")\n",
    "\n",
    "    c_mean = pm.Deterministic(\"c_mean\", \n",
    "                              pm.math.invlogit(mu + (za.T*sigma_a)).mean(axis=0), \n",
    "                              dims=\"obs_id\")\n",
    "    \n",
    "    if SAMPLE_JAX:\n",
    "        glm_rater_topic_cordel[\"trace\"]=sample_numpyro_nuts(chains=n_chains, random_seed=seed)#, chain_method=\"vectorized\")\n",
    "    else:\n",
    "        glm_rater_topic_cordel[\"trace\"]=pm.sample(chains=n_chains, random_seed=seed)"
   ]
  },
  {
   "cell_type": "code",
   "execution_count": 10,
   "id": "e37739dd",
   "metadata": {},
   "outputs": [],
   "source": [
    "glm_rater_topic_cordel[\"summary_stat\"] = create_summary_stat(glm_rater_topic_cordel[\"trace\"])"
   ]
  },
  {
   "cell_type": "markdown",
   "id": "3cbfdda3",
   "metadata": {},
   "source": [
    "## Functions"
   ]
  },
  {
   "cell_type": "code",
   "execution_count": 11,
   "id": "2ae275ce",
   "metadata": {},
   "outputs": [],
   "source": [
    "def calculate_raters(n_raters=None, scores_per_r=None, total_scores=None):\n",
    "#     Calculate if missing one and only one argument\n",
    "    count_none = sum([n_raters ==None, scores_per_r ==None, total_scores ==None])\n",
    "    assert(count_none == 1)\n",
    "    \n",
    "    if n_raters == None:\n",
    "        n_raters = total_scores//scores_per_r + 1\n",
    "    \n",
    "    if scores_per_r == None:\n",
    "        scores_per_r = total_scores//n_raters + 1\n",
    "    \n",
    "    if total_scores == None:\n",
    "        total_scores = n_raters*scores_per_r\n",
    "    \n",
    "    return n_raters, scores_per_r, total_scores\n",
    "         "
   ]
  },
  {
   "cell_type": "code",
   "execution_count": 12,
   "id": "eaa7def9",
   "metadata": {},
   "outputs": [],
   "source": [
    "def simulate_scores(model, p_diff=0.08, n_raters=40, scores_per_r=40, n_trials=1_000):\n",
    "    \n",
    "    def resample(all_ids, param, size, bound=0.1):\n",
    "        # resampling raters and topics such that effects sum to 0.\n",
    "\n",
    "        s = model[\"summary_stat\"][model[\"summary_stat\"][\"param\"]==param].copy(deep=True)\n",
    "\n",
    "        if param == \"za\":\n",
    "            s[[\"a\", \"b\"]] = s[\"param_num\"].str.split(\", \", expand=True)\n",
    "            s[\"param_num\"] = (s[\"a\"].astype(int)*50 + s[\"b\"].astype(int)).astype(str)\n",
    "\n",
    "        mean_sum = 9999\n",
    "        while mean_sum < -bound or mean_sum > bound:\n",
    "            ids = np.random.choice(all_ids, size=size, replace=True)\n",
    "            mean_sum = sum([s[(s[\"param_num\"]==str(i))][\"mean\"].item() for i in ids])\n",
    "    \n",
    "        return ids\n",
    "\n",
    "    start_time = time()\n",
    "  \n",
    "    ps_data = pd.DataFrame(columns=[\"trial_id\", \"sim_cordel_id\", \"sim_topic_id\", \"sim_rater_id\", \n",
    "                                    \"cordel_id\", \"topic_id\", \"rater_id\"], dtype=np.int16)\n",
    "\n",
    "    for trial_id in range(n_trials):\n",
    "\n",
    "        # data template\n",
    "        sim_data = pd.DataFrame(columns=[\"trial_id\", \"cordel_id\", \"topic_id\", \"rater_id\"])  \n",
    "\n",
    "        # Raters in this simulation\n",
    "        raters = resample(data[\"rater_id\"].unique(), param=\"zr\", size=n_raters, bound=1)\n",
    "\n",
    "\n",
    "        # Topics in this simulation (topic_cordel_ids index values)\n",
    "        sim_topics_0 = resample(range(len(topic_cordel_ids)), param=\"za\", size=50, bound=1)\n",
    "        sim_topics_1 = resample(range(len(topic_cordel_ids)), param=\"za\", size=50, bound=1)\n",
    "        sim_topics = np.concatenate((sim_topics_0, sim_topics_1))\n",
    "\n",
    "        # Count of scores for each topic\n",
    "        counts = np.zeros(100)\n",
    "\n",
    "        for sim_rater_id, rater in enumerate(raters):\n",
    "        #     Set the probability. Topics with fewer samples have higher probability\n",
    "            counts = counts-counts.min()+1\n",
    "            p = 1/counts**20\n",
    "            p = p/p.sum()\n",
    "\n",
    "        #     Sample according to probability\n",
    "            rated_topics = np.random.choice(range(100), size=scores_per_r, replace=False, p=p)\n",
    "            rated_topics_idx = sim_topics[rated_topics]\n",
    "            counts[rated_topics] += 1\n",
    "\n",
    "        #     Append topics to simulation\n",
    "            d=topic_cordel_ids.loc[rated_topics_idx, [\"topic_id\", \"cordel_id\"]]\n",
    "            d[\"sim_rater_id\"]=sim_rater_id\n",
    "            d[\"sim_topic_id\"]=rated_topics\n",
    "            d[\"rater_id\"]=rater\n",
    "\n",
    "            sim_data = pd.concat([sim_data, d], axis=\"rows\", ignore_index=True)\n",
    "\n",
    "    #     Adding one topic/rater interaction into df\n",
    "        sim_data[\"trial_id\"] = trial_id\n",
    "        sim_data.loc[sim_data[\"sim_topic_id\"].isin(range(0,50)),[\"sim_cordel_id\"]] = 0\n",
    "        sim_data.loc[sim_data[\"sim_topic_id\"].isin(range(50,100)),[\"sim_cordel_id\"]] = 1\n",
    "    #     sim_data = pd.merge(sim_data, topic_counts[[\"cordel_id\", \"topic_id\", \"sim_cordel_id\"]]\n",
    "    #                         ,on=[\"cordel_id\", \"topic_id\"], how=\"left\")\n",
    "        sim_data=sim_data.astype(np.int16)\n",
    "\n",
    "    #     Appending interaction to ds.\n",
    "        ps_data = pd.concat([ps_data, sim_data], ignore_index=True)\n",
    "    \n",
    "    print(f\"Completed simulating topic/rater interactions in {time() - start_time:.2f}s\")\n",
    "    \n",
    "#     Simulating Scores\n",
    "    pymc_model = model[\"model\"]\n",
    "    trace = model[\"trace\"].copy()\n",
    "\n",
    "    # Calculating proposed logodds means\n",
    "    # model1 = model0 + p\n",
    "    # https://www.wolframalpha.com/input?i=solve+for+x+and+y%2C+x%2By%3Dc%2C+1%2F%281%2Be%5E-x%29-1%2F%281%2Be%5E-y%29%3Dp\n",
    "    mean_model_logodds = model[\"summary_stat\"][model[\"summary_stat\"][\"param\"]==\"mu\"][\"mean\"].mean()\n",
    "    c = 2*mean_model_logodds\n",
    "    C = np.exp(-c)\n",
    "    det = p_diff**2-2*C*(p_diff**2-2)+(C**2)*(p_diff**2)\n",
    "    quad = (-p_diff*(C+1)+det**0.5)/(2*(p_diff+1))\n",
    "    proposed_model1_mean = -np.log(quad)\n",
    "    proposed_model0_mean = c-proposed_model1_mean\n",
    "    \n",
    "    # Setting trace of cordel 0 and cordel 1 to proposed values\n",
    "    trace.posterior[\"mu\"].loc[dict(mu_dim_0=0)] = proposed_model0_mean\n",
    "    trace.posterior[\"mu\"].loc[dict(mu_dim_0=1)] = proposed_model1_mean\n",
    "    \n",
    "    sim_scores = pd.DataFrame(columns=[\"trial_id\", \"sim_cordel_id\", \"sim_topic_id\", \"sim_rater_id\", \"cordel_id\", \"topic_id\", \"rater_id\", \"intrusion\", ]\n",
    "                       ,dtype=np.int16)\n",
    "    \n",
    "# TODO: add chain options\n",
    "    for trial_id in range(n_trials):\n",
    "        # Setting data containing rater/topic interaction\n",
    "        sim_data = ps_data[ps_data[\"trial_id\"]==trial_id]\n",
    "        sim_rater_array = np.array(sim_data[\"rater_id\"], dtype=int)\n",
    "        topic_array = np.array([sim_data[\"cordel_id\"], sim_data[\"topic_id\"]], dtype=int)\n",
    "        cordel_array = np.array(sim_data[\"sim_cordel_id\"], dtype=int)\n",
    "\n",
    "        # Running simulation\n",
    "        with pymc_model:\n",
    "            pm.set_data({\n",
    "                \"raters\":sim_rater_array, \n",
    "                \"topics\":topic_array, \n",
    "                \"cordels\":cordel_array})\n",
    "            postrr_sim=pm.sample_posterior_predictive(trace.posterior.sel(\n",
    "                {\"chain\":[0], \"draw\":[np.random.randint(n_trials) if n_trials==1 else trial_id]})\n",
    "                ,predictions=True, progressbar=False, random_seed=np.random.randint(2**20))\n",
    "\n",
    "        # Adding results to sim_scores\n",
    "        s = (postrr_sim.predictions.to_dataframe().reset_index()\n",
    "              .rename(columns={\"s\":\"intrusion\"}))\n",
    "        this_sim_scores = pd.concat([sim_data.reset_index(drop=True)\n",
    "                                     ,s[\"intrusion\"]], axis=\"columns\").astype(np.int16)\n",
    "        sim_scores = pd.concat([sim_scores, this_sim_scores], axis=\"index\", ignore_index=True)\n",
    "    \n",
    "    print(f\"Completed simulating scores in {time() - start_time:.2f}s\")\n",
    "    return sim_scores"
   ]
  },
  {
   "cell_type": "code",
   "execution_count": 13,
   "id": "6bdc55cf",
   "metadata": {},
   "outputs": [],
   "source": [
    "def generate_sim_settings(n_sims, p_diff, n_raters=None, scores_per_r=None, total_scores=None):\n",
    "#     n_sims = 10\n",
    "#     p_diff = (0.02, 0.2)\n",
    "#     n_raters = (20, 100)\n",
    "#     scores_per_r = 40\n",
    "#     total_scores = 1300\n",
    "    # Checking only 2 of 3 score and rater variables is declared\n",
    "    count_none = sum([n_raters == None, scores_per_r == None, total_scores == None])\n",
    "    assert count_none == 1, \"There should be 2 score/rater variables declared\"\n",
    "\n",
    "    # Sampling uniform random variables\n",
    "    if type(p_diff) == tuple:\n",
    "        col_p_diff = uniform.rvs(loc = p_diff[0], scale=p_diff[1]-p_diff[0], size=n_sims)\n",
    "    else:\n",
    "        col_p_diff = np.array([p_diff]*n_sims)\n",
    "\n",
    "    if type(n_raters) == tuple:\n",
    "        col_n_raters = np.random.randint(n_raters[0], high=n_raters[1], size=n_sims)\n",
    "    else:\n",
    "        col_n_raters = np.array([n_raters]*n_sims)\n",
    "\n",
    "    if type(scores_per_r) == tuple:\n",
    "        col_scores_per_r = np.random.randint(scores_per_r[0], high=scores_per_r[1], size=n_sims)\n",
    "    else:\n",
    "        col_scores_per_r = np.array([scores_per_r]*n_sims)\n",
    "    \n",
    "    if type(total_scores) == tuple:\n",
    "        col_total_scores = np.random.randint(total_scores[0], high=total_scores[1], size=n_sims)\n",
    "    else:\n",
    "        col_total_scores = np.array([total_scores]*n_sims)\n",
    "\n",
    "    # Calculating remaining column\n",
    "    if n_raters == None:\n",
    "        col_n_raters = (col_total_scores-1)//col_scores_per_r + 1\n",
    "    elif scores_per_r == None:\n",
    "        col_scores_per_r = (col_total_scores-1)//col_n_raters + 1\n",
    "    elif total_scores == None:\n",
    "        col_total_scores = col_scores_per_r * col_n_raters\n",
    "    else:\n",
    "        raise Exception(\"How did you even get this exception? Should've been impossible, but congratulations\")\n",
    "        \n",
    "    df = pd.DataFrame(\n",
    "        np.array([col_p_diff, col_n_raters, col_scores_per_r, col_total_scores]).T,\n",
    "        columns=[\"p_diff\", \"n_raters\", \"scores_per_r\", \"total_scores\"])\n",
    "    \n",
    "    df = df.astype({\n",
    "        \"p_diff\":float,\n",
    "        \"n_raters\":np.uint16,\n",
    "        \"scores_per_r\":np.uint16,\n",
    "        \"total_scores\":np.uint16\n",
    "    })\n",
    "\n",
    "      \n",
    "    return df"
   ]
  },
  {
   "cell_type": "code",
   "execution_count": 14,
   "id": "787b562f",
   "metadata": {},
   "outputs": [],
   "source": [
    "def propz_pval(scores):\n",
    "    # Utests whether the two distributions in the scores are statisticaly significant\n",
    "    # returns 1 if cordel 1 intrusion scores is statistically higher\n",
    "    # returns 0 if no statistical difference\n",
    "    # returns -1 if cordel 2 intrusion scores are statistically higher \n",
    "\n",
    "    \n",
    "    sum_df = scores.groupby([\"sim_cordel_id\"]).agg({\"intrusion\":\"sum\"}).reset_index()\n",
    "    cordel0_sums = sum_df[sum_df[\"sim_cordel_id\"]==0][\"intrusion\"]\n",
    "    cordel1_sums = sum_df[sum_df[\"sim_cordel_id\"]==1][\"intrusion\"]\n",
    "    \n",
    "    count_df = scores.groupby([\"sim_cordel_id\"]).agg({\"intrusion\":\"count\"}).reset_index()\n",
    "    cordel0_counts = count_df[count_df[\"sim_cordel_id\"]==0][\"intrusion\"]\n",
    "    cordel1_counts = count_df[count_df[\"sim_cordel_id\"]==1][\"intrusion\"]\n",
    "    \n",
    "    _, p_val = proportions_ztest([cordel0_sums, cordel1_sums],\n",
    "                                 [cordel0_counts, cordel1_counts],\n",
    "                                 alternative=\"smaller\")\n",
    "    \n",
    "    return p_val\n"
   ]
  },
  {
   "cell_type": "code",
   "execution_count": 15,
   "id": "7870aa66",
   "metadata": {},
   "outputs": [],
   "source": [
    "def bht_pval(sample, n_chains):\n",
    "# sample = scores[scores[\"trial_id\"]==0]\n",
    "\n",
    "# Bayesian hypothesis tests whether the two distributions in the sample are statisticaly significant\n",
    "# Setting up numpy arrays for pymc\n",
    "# Only 2 models and 1 corpus in simulation\n",
    "    corpus_array = np.array([0]*len(sample))\n",
    "    n_corpora = 1\n",
    "\n",
    "    model_array = np.array(sample[\"sim_cordel_id\"])\n",
    "    n_models = sample[\"sim_cordel_id\"].nunique()\n",
    "\n",
    "    cordel_array = np.array(sample[\"sim_cordel_id\"])\n",
    "    n_cordels = sample[\"sim_cordel_id\"].nunique()\n",
    "\n",
    "    topic_array = np.array([sample[\"sim_cordel_id\"], sample[\"sim_topic_id\"]])\n",
    "    n_topics = sample[\"sim_topic_id\"].nunique()\n",
    "\n",
    "    rater_array = np.array(sample[\"sim_rater_id\"])\n",
    "    n_raters = sample[\"sim_rater_id\"].nunique()\n",
    "\n",
    "    score_array = np.array(sample[\"intrusion\"])\n",
    "\n",
    "\n",
    "    # Model and MCMC specifications\n",
    "    empirical_mean = logit(0.75)\n",
    "    r_lambda = 2\n",
    "    t_lambda = 1\n",
    "    t_sigma = 1\n",
    "    # cm_lambda = 2\n",
    "    # cm_sigma = 1\n",
    "    mu_sigma = 1\n",
    "\n",
    "    glm = {\"model\":pm.Model()}\n",
    "\n",
    "    # Rater, Topic, Cordel model\n",
    "\n",
    "    glm[\"model\"] = pm.Model()\n",
    "    with glm[\"model\"]:\n",
    "        # Hyperparameter priors\n",
    "        raters = pm.Data(\"raters\", rater_array, mutable=True, dims=\"obs_id\")\n",
    "        topics = pm.Data(\"topics\", topic_array, mutable=True, dims=[\"cordel\", \"topic\"])\n",
    "        cordels = pm.Data(\"cordels\", cordel_array, mutable=True, dims=\"obs_id\")\n",
    "\n",
    "        sigma_r = pm.Exponential(\"sigma_r\", lam=r_lambda)\n",
    "        zr = pm.Normal(\"zr\",mu=0, sigma=1, shape=n_raters)\n",
    "        sigma_a = pm.Exponential(\"sigma_a\", lam=t_lambda)\n",
    "        za = pm.Normal(\"za\",mu=0, sigma=t_sigma, shape=(n_cordels, n_topics)) \n",
    "        mu = pm.Normal(\"mu\",mu=empirical_mean, sigma=mu_sigma, shape=n_cordels)\n",
    "\n",
    "        s = pm.Bernoulli(\n",
    "                \"s\", \n",
    "                p=pm.math.invlogit(\n",
    "                    mu[cordels]+\n",
    "                    za[topics[0],topics[1]]*sigma_a+\n",
    "                    zr[raters]*sigma_r),\n",
    "                observed=score_array, \n",
    "                dims=\"obs_id\")\n",
    "\n",
    "        c_mean = pm.Deterministic(\"c_mean\", \n",
    "                                  pm.math.invlogit(mu + (za.T*sigma_a)).mean(axis=0), \n",
    "                                  dims=\"obs_id\")\n",
    "        c_diff = pm.Deterministic(\"c_diff\", c_mean.reshape([n_cordels,1]) - c_mean.reshape([1,n_cordels]), dims=\"obs_id\")\n",
    "\n",
    "        if SAMPLE_JAX:\n",
    "            glm[\"trace\"]=sample_numpyro_nuts(chains=n_chains, random_seed=np.random.randint(2**20))#, chain_method=\"vectorized\")\n",
    "        else:\n",
    "            glm[\"trace\"]=pm.sample(chains=n_chains, random_seed=np.random.randint(2**20))\n",
    "\n",
    "    n_negatives = (glm[\"trace\"].posterior[\"c_diff\"].sel({\"obs_id\":1, \"c_diff_dim_1\":0}) < 0).sum().item()\n",
    "    \n",
    "    return  n_negatives/len(sample)"
   ]
  },
  {
   "cell_type": "code",
   "execution_count": 16,
   "id": "95c6d270",
   "metadata": {},
   "outputs": [],
   "source": [
    "def simulate_sig_tests(n_sims, p_diff, n_raters=None, scores_per_r=None, \n",
    "                       total_scores=None, trials_per_sim=1, np_random_state=None, n_chains=1):\n",
    "# Bug: Random_state only reproduces scores. Does not reproduce bayesian inference.\n",
    "# Reproduce usage: set np_random_state to index of simulation/trial (sim_id*trials_per_sim + trial_id)\n",
    "\n",
    "    if np_random_state!=None:\n",
    "        n_sims=1\n",
    "        trials_per_sim=1\n",
    "\n",
    "    # Checking only 2 of 3 score and rater variables is declared\n",
    "    count_none = sum([n_raters == None, scores_per_r == None, total_scores == None])\n",
    "    assert(count_none == 1)\n",
    "\n",
    "    # Generate settings for each simulation\n",
    "    settings_df = generate_sim_settings(n_sims=n_sims, p_diff=p_diff, n_raters=n_raters, \n",
    "                                        scores_per_r=scores_per_r, total_scores=total_scores)\n",
    "    \n",
    "    for sim_id in range(n_sims):\n",
    "        # Reading settings\n",
    "        p_diff = settings_df.loc[sim_id, \"p_diff\"].item()\n",
    "        n_raters = settings_df.loc[sim_id, \"n_raters\"].item()\n",
    "        scores_per_r = settings_df.loc[sim_id, \"scores_per_r\"].item()\n",
    "        total_scores = settings_df.loc[sim_id, \"total_scores\"].item()\n",
    "        \n",
    "        # Reading or dumping np.random.RandomState\n",
    "        if np_random_state==None:\n",
    "            with open(f\"data/{out}/{sim_id*trials_per_sim}.pickle\", \"wb\") as f:\n",
    "                pickle.dump(np.random.get_state(), f)\n",
    "        else:\n",
    "            with open(f\"data/{out}/{np_random_state}.pickle\", \"rb\") as f:\n",
    "                np.random.set_state(pickle.load(f))\n",
    "        \n",
    "        scores = simulate_scores(\n",
    "            glm_rater_topic_cordel,\n",
    "            p_diff=p_diff,\n",
    "            n_raters=n_raters,\n",
    "            scores_per_r=scores_per_r,\n",
    "            n_trials=trials_per_sim)\n",
    "\n",
    "        for trial_id in range(trials_per_sim):\n",
    "            if trial_id != 0:\n",
    "                with open(f\"data/{out}/{sim_id*trials_per_sim+trial_id}.pickle\", \"wb\") as f:\n",
    "                        pickle.dump(np.random.get_state(), f)\n",
    "            \n",
    "            sim_results = pd.DataFrame(\n",
    "                [[sim_id, p_diff, n_raters, scores_per_r, total_scores, trial_id, \n",
    "                 propz_pval(scores[scores[\"trial_id\"]==trial_id]),\n",
    "                 bht_pval(scores[scores[\"trial_id\"]==trial_id], n_chains=n_chains)]],\n",
    "                columns=[\"sim_id\", \"p_diff\", \"n_raters\",  \"scores_per_r\", \"total_scores\", \"trial_id\", \n",
    "                         \"propz_pval\", \"bht_pval\"])\n",
    "\n",
    "            sim_results = sim_results.astype({\n",
    "                \"sim_id\":int,\n",
    "                \"trial_id\":int,\n",
    "                \"p_diff\":float,\n",
    "                \"n_raters\":np.uint16,\n",
    "                \"scores_per_r\":np.uint16, \n",
    "                \"total_scores\":np.uint16,\n",
    "                \"propz_pval\":float, \n",
    "                \"bht_pval\":float,\n",
    "            })\n",
    "            \n",
    "\n",
    "            if np_random_state==None:\n",
    "                with open(f\"data/{out}/{out}.csv\", mode=\"a\") as f:\n",
    "                    f.write(sim_results.to_csv(None, index=False, header=False))\n",
    "                print(f\"Simulation:{sim_id}, Trial:{trial_id}\")\n",
    "            else:\n",
    "                return scores, sim_results\n",
    "    \n",
    "    return"
   ]
  },
  {
   "cell_type": "markdown",
   "id": "0cbb88e8",
   "metadata": {},
   "source": [
    "## Simulation"
   ]
  },
  {
   "cell_type": "raw",
   "id": "5ac15045",
   "metadata": {},
   "source": [
    "scatter. colour is two significance tests\n",
    "p values vs n_raters\n",
    "p values vs scores_per_r (holding number of total ratings constant)\n",
    "\n",
    "n_raters vs p_diff\n",
    "\n",
    "\n",
    "Settings used in hoyle's significance simulation:\n",
    "Total ratings: 50 topics * 26 ratings per topic\n",
    "\n",
    "Topic quality diff \n",
    "- Better model (x+4)*0.85 + 50-(x+4)*(1/6)\n",
    "- Worse model x*0.85 + 50-x*(1/6)\n",
    "Average topic difference = 0.054666 or 0.55\n",
    "\n",
    "Settings used in Hoyle's actual surveys\n",
    "n_raters = 38\n"
   ]
  },
  {
   "cell_type": "code",
   "execution_count": 17,
   "id": "4aaf7606",
   "metadata": {},
   "outputs": [],
   "source": [
    "# Settings for hoyle's significance testing\n",
    "hoyle_total_scores = 50*26\n",
    "hoyle_p_diff = 0.055\n",
    "hoyle_n_raters = 38\n",
    "hoyle_scores_per_r = hoyle_total_scores//hoyle_n_raters + 1"
   ]
  },
  {
   "cell_type": "code",
   "execution_count": 18,
   "id": "2fdb72e8",
   "metadata": {
    "scrolled": true
   },
   "outputs": [
    {
     "name": "stderr",
     "output_type": "stream",
     "text": [
      "Sampling: [s]\n",
      "INFO:pymc:Sampling: [s]\n"
     ]
    },
    {
     "name": "stdout",
     "output_type": "stream",
     "text": [
      "Completed simulating topic/rater interactions in 0.83s\n",
      "Completed simulating scores in 1.02s\n",
      "Compiling...\n",
      "Compilation time =  0:00:00.622816\n",
      "Sampling...\n"
     ]
    },
    {
     "name": "stderr",
     "output_type": "stream",
     "text": [
      "sample: 100%|██████████████████████████████████████████████████████████████████████████████████████████████████████████████| 2000/2000 [00:08<00:00, 223.56it/s, 15 steps of size 3.15e-01. acc. prob=0.84]\n"
     ]
    },
    {
     "name": "stdout",
     "output_type": "stream",
     "text": [
      "Sampling time =  0:00:11.524169\n",
      "Transforming variables...\n",
      "Transformation time =  0:00:00.474518\n",
      "Computing Log Likelihood...\n",
      "Log Likelihood time =  0:00:00.844997\n",
      "Simulation:0, Trial:0\n"
     ]
    },
    {
     "name": "stderr",
     "output_type": "stream",
     "text": [
      "Sampling: [s]\n",
      "INFO:pymc:Sampling: [s]\n"
     ]
    },
    {
     "name": "stdout",
     "output_type": "stream",
     "text": [
      "Completed simulating topic/rater interactions in 0.63s\n",
      "Completed simulating scores in 0.79s\n",
      "Compiling...\n",
      "Compilation time =  0:00:00.614142\n",
      "Sampling...\n"
     ]
    },
    {
     "name": "stderr",
     "output_type": "stream",
     "text": [
      "sample: 100%|██████████████████████████████████████████████████████████████████████████████████████████████████████████████| 2000/2000 [00:08<00:00, 234.90it/s, 15 steps of size 3.23e-01. acc. prob=0.84]\n"
     ]
    },
    {
     "name": "stdout",
     "output_type": "stream",
     "text": [
      "Sampling time =  0:00:10.057235\n",
      "Transforming variables...\n",
      "Transformation time =  0:00:00.074357\n",
      "Computing Log Likelihood...\n",
      "Log Likelihood time =  0:00:00.759085\n",
      "Simulation:1, Trial:0\n"
     ]
    }
   ],
   "source": [
    "# total ratings between 400 and 2400\n",
    "# Hoyle used 1300 total ratings\n",
    "out = \"test\"\n",
    "try:\n",
    "    with open(f\"data/simulations/{out}.csv\", mode=\"w\") as f:\n",
    "        f.write('sim_id,p_diff,n_raters, scores_per_r,total_scores,trial_id,propz_pval,bht_pval\\n')\n",
    "except FileExistsError:\n",
    "    pass\n",
    "\n",
    "sim_n_raters = simulate_sig_tests(\n",
    "    p_diff = hoyle_p_diff,\n",
    "    n_raters = (10, 60),\n",
    "    scores_per_r = hoyle_scores_per_r,\n",
    "    n_sims = 2,\n",
    "    trials_per_sim = 1\n",
    ")"
   ]
  },
  {
   "cell_type": "code",
   "execution_count": null,
   "id": "f195bbf0",
   "metadata": {
    "scrolled": true
   },
   "outputs": [],
   "source": [
    "sim_scores_per_r = simulate_sig_tests(\n",
    "    p_diff = hoyle_p_diff,\n",
    "    scores_per_r = (10, 100),\n",
    "    total_scores = hoyle_total_scores,\n",
    "    trials_per_sim = 1,\n",
    "    n_sims = 10\n",
    ")"
   ]
  },
  {
   "cell_type": "code",
   "execution_count": null,
   "id": "9eb06d60",
   "metadata": {
    "scrolled": true
   },
   "outputs": [],
   "source": [
    "# total ratings between 400 and 2400\n",
    "# Hoyle used 1300 total ratings\n",
    "sim_p_n_raters = simulate_sig_tests(\n",
    "    p_diff = (0.02, 0.2),\n",
    "    n_raters = (10, 60),\n",
    "    scores_per_r = hoyle_scores_per_r,\n",
    "    trials_per_sim = 1,\n",
    "    n_sims = 10\n",
    ")"
   ]
  },
  {
   "cell_type": "code",
   "execution_count": null,
   "id": "a9e6c54a",
   "metadata": {},
   "outputs": [],
   "source": [
    "sim_p_scores_per_r = simulate_sig_tests(\n",
    "    p_diff = (0.02, 0.2),\n",
    "    scores_per_r = (10, 100),\n",
    "    total_scores = hoyle_total_scores,\n",
    "    trials_per_sim = 1,\n",
    "    n_sims = 10\n",
    ")"
   ]
  },
  {
   "cell_type": "markdown",
   "id": "924041e0",
   "metadata": {},
   "source": [
    "## Plots"
   ]
  },
  {
   "cell_type": "code",
   "execution_count": 152,
   "id": "2b348b30",
   "metadata": {},
   "outputs": [],
   "source": [
    "alpha = 0.05\n",
    "sim_results[\"utest\"] = sim_results[\"utest_pval\"] < alpha\n",
    "sim_results[\"bht\"] = sim_results[\"bht_pval\"] < alpha\n",
    "\n",
    "# (utest, bht)\n",
    "# Neither significant: orange\n",
    "# bht significant: yellow\n",
    "# utest significant: blue\n",
    "# both significant: green\n",
    "\n",
    "sim_results[\"c\"] = np.select(\n",
    "    condlist=[\n",
    "        ~sim_results[\"utest\"] & ~sim_results[\"bht\"],\n",
    "        ~sim_results[\"utest\"] & sim_results[\"bht\"],\n",
    "        sim_results[\"utest\"] & ~sim_results[\"bht\"],\n",
    "        sim_results[\"utest\"] & sim_results[\"bht\"]\n",
    "    ],\n",
    "    choicelist=[\"orangered\", \"yellow\", \"blue\", \"green\"],\n",
    "    default=\"black\")\n",
    "\n",
    "legend = {\n",
    "    \"orangered\":\"Neither significant\",\n",
    "    \"yellow\":\"BHT significant\",\n",
    "    \"blue\": \"utest significant\",\n",
    "    \"green\": \"Both signficant\"\n",
    "}"
   ]
  },
  {
   "cell_type": "code",
   "execution_count": 156,
   "id": "7f8add19",
   "metadata": {
    "scrolled": true
   },
   "outputs": [
    {
     "data": {
      "image/png": "[encoded data removed]",
      "text/plain": [
       "<Figure size 1000x600 with 1 Axes>"
      ]
     },
     "metadata": {},
     "output_type": "display_data"
    }
   ],
   "source": [
    "fig, ax = plt.subplots(1, 1, figsize=(10,6))\n",
    "for colour in legend:\n",
    "    df = sim_results[sim_results[\"c\"]==colour]\n",
    "    ax.scatter(df[\"utest_pval\"], df[\"bht_pval\"], c=colour, label=legend[colour])\n",
    "ax.set_xscale('log')\n",
    "ax.set_yscale('log')\n",
    "ax.set_xlabel(\"Proportions Z test - p value\")\n",
    "ax.set_ylabel(\"Bayesian Hypothesis test - p value\")\n",
    "ax.legend()\n",
    "plt.show()"
   ]
  },
  {
   "cell_type": "markdown",
   "id": "f27b79c6",
   "metadata": {},
   "source": [
    ". \\\n",
    ". \\\n",
    ". \\\n",
    ". \\\n",
    ". \\\n",
    ". \\\n",
    ". \\\n",
    ". \n",
    "## Checking score simulation script"
   ]
  },
  {
   "cell_type": "code",
   "execution_count": null,
   "id": "8bd8f8b2",
   "metadata": {},
   "outputs": [],
   "source": [
    "# Simulating scores\n",
    "p_diff = 0.08\n",
    "n_raters = 40\n",
    "scores_per_r = 40\n",
    "n_sims = 1_000\n",
    "np.random.seed(seed)"
   ]
  },
  {
   "cell_type": "code",
   "execution_count": null,
   "id": "db1a0dd7",
   "metadata": {},
   "outputs": [],
   "source": [
    "scores = simulate_scores(\n",
    "    glm_rater_topic_cordel,\n",
    "    p_diff=p_diff,\n",
    "    n_raters=n_raters,\n",
    "    scores_per_r=scores_per_r)"
   ]
  },
  {
   "cell_type": "code",
   "execution_count": null,
   "id": "e8920b36",
   "metadata": {},
   "outputs": [],
   "source": [
    "sim_scores = scores.copy(deep=True)"
   ]
  },
  {
   "cell_type": "code",
   "execution_count": null,
   "id": "f75b6ab2",
   "metadata": {},
   "outputs": [],
   "source": [
    "# Checking scores\n",
    "\n",
    "_, ax = plt.subplots(2,1,figsize=(10,10))\n",
    "\n",
    "n_ratings_per_cordel = n_raters*scores_per_r/2\n",
    "\n",
    "sns.kdeplot(sim_scores[sim_scores[\"sim_cordel_id\"]==0].groupby([\"sim_id\"]).agg({\"intrusion\":\"sum\"})[\"intrusion\"]/n_ratings_per_cordel, ax=ax[0])\n",
    "sns.kdeplot(sim_scores[sim_scores[\"sim_cordel_id\"]==1].groupby([\"sim_id\"]).agg({\"intrusion\":\"sum\"})[\"intrusion\"]/n_ratings_per_cordel, ax=ax[0])\n",
    "ax[0].legend(ax[0].get_lines(), [\"Cordel 0 means\", \"Cordel 1 means\"])\n",
    "ax[0].set_xlabel(\"Cordel means (probability)\")\n",
    "ax[0].set_title(f\"Simulated means by cordel\")\n",
    "\n",
    "diff = sim_scores[sim_scores[\"sim_cordel_id\"]==1].groupby([\"sim_id\"]).agg({\"intrusion\":\"sum\"}) \\\n",
    "        - sim_scores[sim_scores[\"sim_cordel_id\"]==0].groupby([\"sim_id\"]).agg({\"intrusion\":\"sum\"})\n",
    "\n",
    "sns.kdeplot(diff[\"intrusion\"]/n_ratings_per_cordel, ax=ax[1])\n",
    "ax[1].set_title(f\"Difference in cordel means\")\n",
    "plt.plot()\n",
    "\n",
    "print(f\"Perc of simulations with mean1 < mean0 (n raters={n_raters}): {(diff['intrusion']<=0).sum()/1000:.1%}\")"
   ]
  },
  {
   "cell_type": "code",
   "execution_count": null,
   "id": "26f1dbc0",
   "metadata": {},
   "outputs": [],
   "source": [
    "size=100\n",
    "\n",
    "_, ax = plt.subplots(1,1,figsize=(10,5))\n",
    "\n",
    "\n",
    "# Selecting 100 random simulations\n",
    "rand_ids = np.random.choice(range(1000), size=size, replace=False)\n",
    "\n",
    "# Calculating topic proportions\n",
    "samples = (sim_scores[sim_scores[\"sim_id\"].isin(rand_ids)].groupby([\"sim_id\", \"sim_topic_id\"])\n",
    "           .agg({\"intrusion\":[\"sum\", \"count\"]}).reset_index())\n",
    "samples[\"p\"] = samples[(\"intrusion\", \"sum\")]/samples[(\"intrusion\", \"count\")]\n",
    "# Plotting proportions\n",
    "for sim_id in rand_ids:\n",
    "    sns.kdeplot(samples[samples[\"sim_id\"]==sim_id][\"p\"], ax=ax, color=\"navy\", alpha=7/size**0.9)\n",
    "\n",
    "# Repeat calculations and plots for actual data\n",
    "actuals = (data.groupby([\"cordel_id\", \"topic_id\"])\n",
    "           .agg({\"intrusion\":[\"sum\", \"count\"]}).reset_index())\n",
    "actuals[\"p\"]=actuals[(\"intrusion\", \"sum\")]/actuals[(\"intrusion\", \"count\")]\n",
    "for cordel_id in range(6):\n",
    "    sns.kdeplot(actuals[actuals[\"cordel_id\"]==cordel_id][\"p\"], ax=ax, color=\"orange\", alpha=0.7)\n",
    "\n",
    "ax.set_title(\"Simulated topic probabilities (blue) vs actual topic probabilities (orange)\")\n",
    "plt.show()"
   ]
  },
  {
   "cell_type": "code",
   "execution_count": null,
   "id": "7d942143",
   "metadata": {
    "scrolled": true
   },
   "outputs": [],
   "source": [
    "size=100\n",
    "\n",
    "_, ax = plt.subplots(1,1,figsize=(10,5))\n",
    "\n",
    "\n",
    "# Selecting 100 random simulations\n",
    "rand_ids = np.random.choice(range(1000), size=size, replace=False)\n",
    "\n",
    "# Calculating rater proportions\n",
    "samples = (sim_scores[sim_scores[\"sim_id\"].isin(rand_ids)].groupby([\"sim_id\", \"sim_rater_id\"])\n",
    "           .agg({\"intrusion\":[\"sum\", \"count\"]}).reset_index())\n",
    "samples[\"p\"] = samples[(\"intrusion\", \"sum\")]/samples[(\"intrusion\", \"count\")]\n",
    "# Plotting proportions\n",
    "for sim_id in rand_ids:\n",
    "    sns.kdeplot(samples[samples[\"sim_id\"]==sim_id][\"p\"], ax=ax, color=\"navy\", alpha=0.05)\n",
    "\n",
    "# Repeat calculations and plots for actual data\n",
    "actuals = (data.groupby([\"corpus_id\", \"rater_id\"])\n",
    "           .agg({\"intrusion\":[\"sum\", \"count\"]}).reset_index())\n",
    "actuals[\"p\"]=actuals[(\"intrusion\", \"sum\")]/actuals[(\"intrusion\", \"count\")]\n",
    "for corpus_id in range(2):\n",
    "    sns.kdeplot(actuals[actuals[\"corpus_id\"]==corpus_id][\"p\"], ax=ax, color=\"orange\", alpha=1)\n",
    "\n",
    "ax.set_title(\"Simulated rater probabilities (blue) vs actual rater probabilities (orange)\")\n",
    "plt.show()"
   ]
  }
 ],
 "metadata": {
  "kernelspec": {
   "display_name": "bayes_topic_measures",
   "language": "python",
   "name": "bayes_topic_measures"
  },
  "language_info": {
   "codemirror_mode": {
    "name": "ipython",
    "version": 3
   },
   "file_extension": ".py",
   "mimetype": "text/x-python",
   "name": "python",
   "nbconvert_exporter": "python",
   "pygments_lexer": "ipython3",
   "version": "3.10.6"
  }
 },
 "nbformat": 4,
 "nbformat_minor": 5
}
