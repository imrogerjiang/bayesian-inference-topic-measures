{
 "cells": [
  {
   "cell_type": "code",
   "execution_count": 1,
   "id": "62800121",
   "metadata": {},
   "outputs": [],
   "source": [
    "import pandas as pd"
   ]
  },
  {
   "cell_type": "code",
   "execution_count": 12,
   "id": "804c1fdc",
   "metadata": {},
   "outputs": [],
   "source": [
    "files = [\n",
    "    \"oa0_test.csv\",\n",
    "    \"oa1_test.csv\",\n",
    "    \"power_power040.csv\",\n",
    "    \"power_power055.csv\",\n",
    "    \"power_power075.csv\",\n",
    "    \"sig_n_raters2.csv\",\n",
    "    \"sig_n_raters.csv\",\n",
    "    \"sigOA_n_raters2.csv\",\n",
    "    \"sigOA_p_diff.csv\",\n",
    "    \"sig_p_diff.csv\",\n",
    "    \"sig_p_n_raters.csv\",\n",
    "    \"sig_p_scores_per_r.csv\",\n",
    "    \"sig_scores_per_r.csv\",]"
   ]
  },
  {
   "cell_type": "code",
   "execution_count": 13,
   "id": "4850ab82",
   "metadata": {},
   "outputs": [],
   "source": [
    "for f in files:\n",
    "    df = pd.read_csv(\"data/simulations/\"+f)\n",
    "    df[\"bht_pval\"]=df[\"bht_pval\"]*df[\"total_scores\"]/1000\n",
    "    df.to_csv(\"data/simulations/\"+f, index=False)"
   ]
  }
 ],
 "metadata": {
  "kernelspec": {
   "display_name": "bayes_topic_measures",
   "language": "python",
   "name": "bayes_topic_measures"
  },
  "language_info": {
   "codemirror_mode": {
    "name": "ipython",
    "version": 3
   },
   "file_extension": ".py",
   "mimetype": "text/x-python",
   "name": "python",
   "nbconvert_exporter": "python",
   "pygments_lexer": "ipython3",
   "version": "3.10.6"
  }
 },
 "nbformat": 4,
 "nbformat_minor": 5
}
