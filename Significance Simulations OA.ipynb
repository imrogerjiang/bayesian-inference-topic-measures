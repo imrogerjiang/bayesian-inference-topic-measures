{
 "cells": [
  {
   "cell_type": "code",
   "execution_count": 1,
   "id": "91549b37",
   "metadata": {},
   "outputs": [],
   "source": [
    "import os\n",
    "from time import sleep"
   ]
  },
  {
   "cell_type": "code",
   "execution_count": 2,
   "id": "7505ed56",
   "metadata": {},
   "outputs": [],
   "source": [
    "# Generate and save inferred model if does not exist\n",
    "if not os.path.isfile(f\"bayesian_model/glmm.pickle\"):\n",
    "    os.system(\"python3 infer_bayesian_model.py\")"
   ]
  },
  {
   "cell_type": "code",
   "execution_count": 3,
   "id": "c71e9b05",
   "metadata": {},
   "outputs": [],
   "source": [
    "def run_command_gnome(command, title=\"test\", keep_window=False, test=False):\n",
    "    if keep_window:\n",
    "        command_suffix = \"; $SHELL\"\n",
    "    else:\n",
    "        command_suffix = \"\"\n",
    "        \n",
    "    if test:\n",
    "        return f\"\"\"gnome-terminal --title=\"{title}\" --command=\"bash -c '{command} {command_suffix}'\" \"\"\"\n",
    "    else:\n",
    "        os.system(f\"\"\"gnome-terminal --title=\"{title}\" --command=\"bash -c '{command} {command_suffix}'\" \"\"\")"
   ]
  },
  {
   "cell_type": "code",
   "execution_count": 4,
   "id": "bacfc73e",
   "metadata": {
    "scrolled": true
   },
   "outputs": [],
   "source": [
    "# Run simulations\n",
    "def run_simulations():\n",
    "    setting_files = [os.path.isfile(f\"data/{sim_name}/sim_settings_{i}.csv\") for i in range(N_PROCESSES)]\n",
    "    while sum(setting_files)>0:\n",
    "        setting_files = [os.path.isfile(f\"data/{sim_name}/sim_settings_{i}.csv\") for i in range(N_PROCESSES)]\n",
    "        process_active = [os.path.isfile(f\"data/{sim_name}/process_{i}_running\") for i in range(N_PROCESSES)]\n",
    "\n",
    "        for i in range(N_PROCESSES):\n",
    "            if setting_files[i] and not process_active[i]:\n",
    "                c = f\"\"\"python3 perform_sig_test.py --trials_per_sim {trials_per_sim} --process {i} --sim_name {sim_name}\"\"\"\n",
    "                run_command_gnome(c, title=f\"p{i}\", keep_window=False)\n",
    "\n",
    "        sleep(10)"
   ]
  },
  {
   "cell_type": "code",
   "execution_count": 5,
   "id": "e8c4a20f",
   "metadata": {},
   "outputs": [],
   "source": [
    "# Settings for hoyle's significance testing\n",
    "hoyle_total_scores = 50*26\n",
    "hoyle_p_diff = 0.055\n",
    "hoyle_n_raters = 38\n",
    "hoyle_scores_per_r = hoyle_total_scores//hoyle_n_raters + 1"
   ]
  },
  {
   "cell_type": "code",
   "execution_count": 6,
   "id": "5b7bb20e",
   "metadata": {
    "scrolled": true
   },
   "outputs": [
    {
     "name": "stdout",
     "output_type": "stream",
     "text": [
      "\n",
      "    p_diff=0.055, <class 'float'>\n",
      "    n_raters=(20, 150), <class 'tuple'>\n",
      "    scores_per_r=35, <class 'int'>\n",
      "    total_scores=None, <class 'NoneType'>\n",
      "    n_sims=1000, <class 'int'>\n",
      "    trials_per_sim=1\n",
      "    seed=42, <class 'int'>\n",
      "    sim_name=sig_n_raters, <class 'str'>\n",
      "    chain_method=vectorized, <class 'str'>\n",
      "    clean_dir=True, <class 'bool'>\n",
      "    \n"
     ]
    },
    {
     "name": "stderr",
     "output_type": "stream",
     "text": [
      "# Option “--command” is deprecated and might be removed in a later version of gnome-terminal.\n",
      "# Use “-- ” to terminate the options and put the command line to execute after it.\n",
      "# Option “--command” is deprecated and might be removed in a later version of gnome-terminal.\n",
      "# Use “-- ” to terminate the options and put the command line to execute after it.\n",
      "# Option “--command” is deprecated and might be removed in a later version of gnome-terminal.\n",
      "# Use “-- ” to terminate the options and put the command line to execute after it.\n",
      "# Option “--command” is deprecated and might be removed in a later version of gnome-terminal.\n",
      "# Use “-- ” to terminate the options and put the command line to execute after it.\n",
      "# Option “--command” is deprecated and might be removed in a later version of gnome-terminal.\n",
      "# Use “-- ” to terminate the options and put the command line to execute after it.\n",
      "# Option “--command” is deprecated and might be removed in a later version of gnome-terminal.\n",
      "# Use “-- ” to terminate the options and put the command line to execute after it.\n"
     ]
    },
    {
     "ename": "KeyboardInterrupt",
     "evalue": "",
     "output_type": "error",
     "traceback": [
      "\u001b[0;31m---------------------------------------------------------------------------\u001b[0m",
      "\u001b[0;31mKeyboardInterrupt\u001b[0m                         Traceback (most recent call last)",
      "Cell \u001b[0;32mIn [6], line 20\u001b[0m\n\u001b[1;32m     14\u001b[0m \u001b[38;5;66;03m# Generate settings file\u001b[39;00m\n\u001b[1;32m     15\u001b[0m os\u001b[38;5;241m.\u001b[39msystem(\u001b[38;5;124mf\u001b[39m\u001b[38;5;124m\"\"\"\u001b[39m\n\u001b[1;32m     16\u001b[0m \u001b[38;5;124m    python3 generate_sim_settings.py --n_raters \u001b[39m\u001b[38;5;124m\"\u001b[39m\u001b[38;5;132;01m{\u001b[39;00mn_raters\u001b[38;5;132;01m}\u001b[39;00m\u001b[38;5;124m\"\u001b[39m\u001b[38;5;124m --scores_per_r \u001b[39m\u001b[38;5;132;01m{\u001b[39;00mscores_per_r\u001b[38;5;132;01m}\u001b[39;00m\u001b[38;5;124m \u001b[39m\u001b[38;5;130;01m\\\u001b[39;00m\n\u001b[1;32m     17\u001b[0m \u001b[38;5;124m    --n_sims \u001b[39m\u001b[38;5;132;01m{\u001b[39;00mn_sims\u001b[38;5;132;01m}\u001b[39;00m\u001b[38;5;124m --trials_per_sim \u001b[39m\u001b[38;5;132;01m{\u001b[39;00mtrials_per_sim\u001b[38;5;132;01m}\u001b[39;00m\u001b[38;5;124m --sim_name \u001b[39m\u001b[38;5;132;01m{\u001b[39;00msim_name\u001b[38;5;132;01m}\u001b[39;00m\n\u001b[1;32m     18\u001b[0m \u001b[38;5;124m\"\"\"\u001b[39m)\n\u001b[0;32m---> 20\u001b[0m \u001b[43mrun_simulations\u001b[49m\u001b[43m(\u001b[49m\u001b[43m)\u001b[49m\n",
      "Cell \u001b[0;32mIn [4], line 13\u001b[0m, in \u001b[0;36mrun_simulations\u001b[0;34m()\u001b[0m\n\u001b[1;32m     10\u001b[0m         c \u001b[38;5;241m=\u001b[39m \u001b[38;5;124mf\u001b[39m\u001b[38;5;124m\"\"\"\u001b[39m\u001b[38;5;124mpython3 perform_sig_test.py --trials_per_sim \u001b[39m\u001b[38;5;132;01m{\u001b[39;00mtrials_per_sim\u001b[38;5;132;01m}\u001b[39;00m\u001b[38;5;124m --process \u001b[39m\u001b[38;5;132;01m{\u001b[39;00mi\u001b[38;5;132;01m}\u001b[39;00m\u001b[38;5;124m --sim_name \u001b[39m\u001b[38;5;132;01m{\u001b[39;00msim_name\u001b[38;5;132;01m}\u001b[39;00m\u001b[38;5;124m\"\"\"\u001b[39m\n\u001b[1;32m     11\u001b[0m         run_command_gnome(c, title\u001b[38;5;241m=\u001b[39m\u001b[38;5;124mf\u001b[39m\u001b[38;5;124m\"\u001b[39m\u001b[38;5;124mp\u001b[39m\u001b[38;5;132;01m{\u001b[39;00mi\u001b[38;5;132;01m}\u001b[39;00m\u001b[38;5;124m\"\u001b[39m, keep_window\u001b[38;5;241m=\u001b[39m\u001b[38;5;28;01mFalse\u001b[39;00m)\n\u001b[0;32m---> 13\u001b[0m \u001b[43msleep\u001b[49m\u001b[43m(\u001b[49m\u001b[38;5;241;43m10\u001b[39;49m\u001b[43m)\u001b[49m\n",
      "\u001b[0;31mKeyboardInterrupt\u001b[0m: "
     ]
    }
   ],
   "source": [
    "# Varying the number of raters\n",
    "N_PROCESSES = 6\n",
    "sim_name = \"sig_n_raters\"\n",
    "n_sims = 1_000\n",
    "trials_per_sim = 1\n",
    "\n",
    "p_diff = hoyle_p_diff\n",
    "n_raters = \"(20, 150)\"\n",
    "scores_per_r = hoyle_scores_per_r\n",
    "\n",
    "# Removing all produced files\n",
    "os.system(f\"\"\"rm data/{sim_name}/*\"\"\")\n",
    "\n",
    "# Generate settings file\n",
    "os.system(f\"\"\"\n",
    "    python3 generate_sim_settings.py --n_raters \"{n_raters}\" --scores_per_r {scores_per_r} \\\n",
    "    --n_sims {n_sims} --trials_per_sim {trials_per_sim} --sim_name {sim_name}\n",
    "\"\"\")\n",
    "\n",
    "run_simulations()"
   ]
  },
  {
   "cell_type": "code",
   "execution_count": null,
   "id": "6d408131",
   "metadata": {},
   "outputs": [],
   "source": [
    "# Varying the topics_per_r\n",
    "N_PROCESSES = 6\n",
    "sim_name = \"sig_scores_per_r\"\n",
    "n_sims = 1_000\n",
    "trials_per_sim = 1\n",
    "\n",
    "p_diff = hoyle_p_diff\n",
    "scores_per_r = \"(10, 100)\"\n",
    "total_scores = hoyle_total_scores\n",
    "\n",
    "# Removing all produced files\n",
    "if os.path.isfile(f\"data/{sim_name}/sim_settings.csv\"):\n",
    "    os.system(f\"\"\"rm data/{sim_name}/*\"\"\")\n",
    "\n",
    "# Generate settings file\n",
    "os.system(f\"\"\"\n",
    "    python3 generate_sim_settings.py --scores_per_r \"{scores_per_r}\" --total_scores {total_scores}\\\n",
    "    --n_sims {n_sims} --trials_per_sim {trials_per_sim} --sim_name {sim_name}\n",
    "\"\"\")\n",
    "\n",
    "run_simulations()"
   ]
  },
  {
   "cell_type": "code",
   "execution_count": 16,
   "id": "55d262c0",
   "metadata": {
    "collapsed": true
   },
   "outputs": [
    {
     "name": "stdout",
     "output_type": "stream",
     "text": [
      "\n",
      "    p_diff=0.055, <class 'float'>\n",
      "    n_raters=None, <class 'NoneType'>\n",
      "    scores_per_r=(10, 100), <class 'tuple'>\n",
      "    total_scores=1300, <class 'int'>\n",
      "    n_sims=1000, <class 'int'>\n",
      "    trials_per_sim=1\n",
      "    seed=42, <class 'int'>\n",
      "    sim_name=sig_scores_per_r, <class 'str'>\n",
      "    chain_method=vectorized, <class 'str'>\n",
      "    clean_dir=True, <class 'bool'>\n",
      "    \n"
     ]
    },
    {
     "name": "stderr",
     "output_type": "stream",
     "text": [
      "# Option “--command” is deprecated and might be removed in a later version of gnome-terminal.\n",
      "# Use “-- ” to terminate the options and put the command line to execute after it.\n",
      "# Option “--command” is deprecated and might be removed in a later version of gnome-terminal.\n",
      "# Use “-- ” to terminate the options and put the command line to execute after it.\n",
      "# Option “--command” is deprecated and might be removed in a later version of gnome-terminal.\n",
      "# Use “-- ” to terminate the options and put the command line to execute after it.\n",
      "# Option “--command” is deprecated and might be removed in a later version of gnome-terminal.\n",
      "# Use “-- ” to terminate the options and put the command line to execute after it.\n",
      "# Option “--command” is deprecated and might be removed in a later version of gnome-terminal.\n",
      "# Use “-- ” to terminate the options and put the command line to execute after it.\n",
      "# Option “--command” is deprecated and might be removed in a later version of gnome-terminal.\n",
      "# Use “-- ” to terminate the options and put the command line to execute after it.\n",
      "# Option “--command” is deprecated and might be removed in a later version of gnome-terminal.\n",
      "# Use “-- ” to terminate the options and put the command line to execute after it.\n",
      "# Option “--command” is deprecated and might be removed in a later version of gnome-terminal.\n",
      "# Use “-- ” to terminate the options and put the command line to execute after it.\n",
      "# Option “--command” is deprecated and might be removed in a later version of gnome-terminal.\n",
      "# Use “-- ” to terminate the options and put the command line to execute after it.\n",
      "# Option “--command” is deprecated and might be removed in a later version of gnome-terminal.\n",
      "# Use “-- ” to terminate the options and put the command line to execute after it.\n",
      "# Option “--command” is deprecated and might be removed in a later version of gnome-terminal.\n",
      "# Use “-- ” to terminate the options and put the command line to execute after it.\n",
      "# Option “--command” is deprecated and might be removed in a later version of gnome-terminal.\n",
      "# Use “-- ” to terminate the options and put the command line to execute after it.\n",
      "# Option “--command” is deprecated and might be removed in a later version of gnome-terminal.\n",
      "# Use “-- ” to terminate the options and put the command line to execute after it.\n",
      "# Option “--command” is deprecated and might be removed in a later version of gnome-terminal.\n",
      "# Use “-- ” to terminate the options and put the command line to execute after it.\n",
      "# Option “--command” is deprecated and might be removed in a later version of gnome-terminal.\n",
      "# Use “-- ” to terminate the options and put the command line to execute after it.\n",
      "# Option “--command” is deprecated and might be removed in a later version of gnome-terminal.\n",
      "# Use “-- ” to terminate the options and put the command line to execute after it.\n",
      "# Option “--command” is deprecated and might be removed in a later version of gnome-terminal.\n",
      "# Use “-- ” to terminate the options and put the command line to execute after it.\n",
      "# Option “--command” is deprecated and might be removed in a later version of gnome-terminal.\n",
      "# Use “-- ” to terminate the options and put the command line to execute after it.\n",
      "# Option “--command” is deprecated and might be removed in a later version of gnome-terminal.\n",
      "# Use “-- ” to terminate the options and put the command line to execute after it.\n",
      "# Option “--command” is deprecated and might be removed in a later version of gnome-terminal.\n",
      "# Use “-- ” to terminate the options and put the command line to execute after it.\n",
      "# Option “--command” is deprecated and might be removed in a later version of gnome-terminal.\n",
      "# Use “-- ” to terminate the options and put the command line to execute after it.\n",
      "# Option “--command” is deprecated and might be removed in a later version of gnome-terminal.\n",
      "# Use “-- ” to terminate the options and put the command line to execute after it.\n",
      "# Option “--command” is deprecated and might be removed in a later version of gnome-terminal.\n",
      "# Use “-- ” to terminate the options and put the command line to execute after it.\n",
      "# Option “--command” is deprecated and might be removed in a later version of gnome-terminal.\n",
      "# Use “-- ” to terminate the options and put the command line to execute after it.\n",
      "# Option “--command” is deprecated and might be removed in a later version of gnome-terminal.\n",
      "# Use “-- ” to terminate the options and put the command line to execute after it.\n",
      "# Option “--command” is deprecated and might be removed in a later version of gnome-terminal.\n",
      "# Use “-- ” to terminate the options and put the command line to execute after it.\n",
      "# Option “--command” is deprecated and might be removed in a later version of gnome-terminal.\n",
      "# Use “-- ” to terminate the options and put the command line to execute after it.\n",
      "# Option “--command” is deprecated and might be removed in a later version of gnome-terminal.\n",
      "# Use “-- ” to terminate the options and put the command line to execute after it.\n",
      "# Option “--command” is deprecated and might be removed in a later version of gnome-terminal.\n",
      "# Use “-- ” to terminate the options and put the command line to execute after it.\n",
      "# Option “--command” is deprecated and might be removed in a later version of gnome-terminal.\n",
      "# Use “-- ” to terminate the options and put the command line to execute after it.\n",
      "# Option “--command” is deprecated and might be removed in a later version of gnome-terminal.\n",
      "# Use “-- ” to terminate the options and put the command line to execute after it.\n",
      "# Option “--command” is deprecated and might be removed in a later version of gnome-terminal.\n",
      "# Use “-- ” to terminate the options and put the command line to execute after it.\n",
      "# Option “--command” is deprecated and might be removed in a later version of gnome-terminal.\n",
      "# Use “-- ” to terminate the options and put the command line to execute after it.\n",
      "# Option “--command” is deprecated and might be removed in a later version of gnome-terminal.\n",
      "# Use “-- ” to terminate the options and put the command line to execute after it.\n",
      "# Option “--command” is deprecated and might be removed in a later version of gnome-terminal.\n",
      "# Use “-- ” to terminate the options and put the command line to execute after it.\n",
      "# Option “--command” is deprecated and might be removed in a later version of gnome-terminal.\n",
      "# Use “-- ” to terminate the options and put the command line to execute after it.\n"
     ]
    }
   ],
   "source": [
    "# Varying the topics_per_r\n",
    "N_PROCESSES = 6\n",
    "sim_name = \"test\"\n",
    "n_sims = 100\n",
    "trials_per_sim = 1\n",
    "\n",
    "p_diff = hoyle_p_diff\n",
    "scores_per_r = \"(10, 100)\"\n",
    "total_scores = hoyle_total_scores\n",
    "\n",
    "# Removing all produced files\n",
    "if os.path.isfile(f\"data/{sim_name}/sim_settings.csv\"):\n",
    "    os.system(f\"\"\"rm data/{sim_name}/*\"\"\")\n",
    "\n",
    "# Generate settings file\n",
    "os.system(f\"\"\"\n",
    "    python3 generate_sim_settings.py --scores_per_r \"{scores_per_r}\" --total_scores {total_scores}\\\n",
    "    --n_sims {n_sims} --trials_per_sim {trials_per_sim} --sim_name {sim_name}\n",
    "\"\"\")\n",
    "\n",
    "run_simulations()"
   ]
  },
  {
   "cell_type": "code",
   "execution_count": 20,
   "id": "c66e4adc",
   "metadata": {
    "collapsed": true
   },
   "outputs": [
    {
     "name": "stdout",
     "output_type": "stream",
     "text": [
      "\n",
      "    p_diff=(0.02, 0.2), <class 'tuple'>\n",
      "    n_raters=(15, 70), <class 'tuple'>\n",
      "    scores_per_r=35, <class 'int'>\n",
      "    total_scores=None, <class 'NoneType'>\n",
      "    n_sims=1000, <class 'int'>\n",
      "    trials_per_sim=1\n",
      "    seed=42, <class 'int'>\n",
      "    sim_name=sig_p_n_raters, <class 'str'>\n",
      "    chain_method=vectorized, <class 'str'>\n",
      "    clean_dir=True, <class 'bool'>\n",
      "    \n"
     ]
    },
    {
     "name": "stderr",
     "output_type": "stream",
     "text": [
      "# Option “--command” is deprecated and might be removed in a later version of gnome-terminal.\n",
      "# Use “-- ” to terminate the options and put the command line to execute after it.\n",
      "# Option “--command” is deprecated and might be removed in a later version of gnome-terminal.\n",
      "# Use “-- ” to terminate the options and put the command line to execute after it.\n",
      "# Option “--command” is deprecated and might be removed in a later version of gnome-terminal.\n",
      "# Use “-- ” to terminate the options and put the command line to execute after it.\n",
      "# Option “--command” is deprecated and might be removed in a later version of gnome-terminal.\n",
      "# Use “-- ” to terminate the options and put the command line to execute after it.\n",
      "# Option “--command” is deprecated and might be removed in a later version of gnome-terminal.\n",
      "# Use “-- ” to terminate the options and put the command line to execute after it.\n",
      "# Option “--command” is deprecated and might be removed in a later version of gnome-terminal.\n",
      "# Use “-- ” to terminate the options and put the command line to execute after it.\n",
      "# Option “--command” is deprecated and might be removed in a later version of gnome-terminal.\n",
      "# Use “-- ” to terminate the options and put the command line to execute after it.\n",
      "# Option “--command” is deprecated and might be removed in a later version of gnome-terminal.\n",
      "# Use “-- ” to terminate the options and put the command line to execute after it.\n",
      "# Option “--command” is deprecated and might be removed in a later version of gnome-terminal.\n",
      "# Use “-- ” to terminate the options and put the command line to execute after it.\n",
      "# Option “--command” is deprecated and might be removed in a later version of gnome-terminal.\n",
      "# Use “-- ” to terminate the options and put the command line to execute after it.\n",
      "# Option “--command” is deprecated and might be removed in a later version of gnome-terminal.\n",
      "# Use “-- ” to terminate the options and put the command line to execute after it.\n",
      "# Option “--command” is deprecated and might be removed in a later version of gnome-terminal.\n",
      "# Use “-- ” to terminate the options and put the command line to execute after it.\n",
      "# Option “--command” is deprecated and might be removed in a later version of gnome-terminal.\n",
      "# Use “-- ” to terminate the options and put the command line to execute after it.\n",
      "# Option “--command” is deprecated and might be removed in a later version of gnome-terminal.\n",
      "# Use “-- ” to terminate the options and put the command line to execute after it.\n",
      "# Option “--command” is deprecated and might be removed in a later version of gnome-terminal.\n",
      "# Use “-- ” to terminate the options and put the command line to execute after it.\n",
      "# Option “--command” is deprecated and might be removed in a later version of gnome-terminal.\n",
      "# Use “-- ” to terminate the options and put the command line to execute after it.\n",
      "# Option “--command” is deprecated and might be removed in a later version of gnome-terminal.\n",
      "# Use “-- ” to terminate the options and put the command line to execute after it.\n",
      "# Option “--command” is deprecated and might be removed in a later version of gnome-terminal.\n",
      "# Use “-- ” to terminate the options and put the command line to execute after it.\n",
      "# Option “--command” is deprecated and might be removed in a later version of gnome-terminal.\n",
      "# Use “-- ” to terminate the options and put the command line to execute after it.\n",
      "# Option “--command” is deprecated and might be removed in a later version of gnome-terminal.\n",
      "# Use “-- ” to terminate the options and put the command line to execute after it.\n",
      "# Option “--command” is deprecated and might be removed in a later version of gnome-terminal.\n",
      "# Use “-- ” to terminate the options and put the command line to execute after it.\n",
      "# Option “--command” is deprecated and might be removed in a later version of gnome-terminal.\n",
      "# Use “-- ” to terminate the options and put the command line to execute after it.\n",
      "# Option “--command” is deprecated and might be removed in a later version of gnome-terminal.\n",
      "# Use “-- ” to terminate the options and put the command line to execute after it.\n",
      "# Option “--command” is deprecated and might be removed in a later version of gnome-terminal.\n",
      "# Use “-- ” to terminate the options and put the command line to execute after it.\n",
      "# Option “--command” is deprecated and might be removed in a later version of gnome-terminal.\n",
      "# Use “-- ” to terminate the options and put the command line to execute after it.\n",
      "# Option “--command” is deprecated and might be removed in a later version of gnome-terminal.\n",
      "# Use “-- ” to terminate the options and put the command line to execute after it.\n",
      "# Option “--command” is deprecated and might be removed in a later version of gnome-terminal.\n",
      "# Use “-- ” to terminate the options and put the command line to execute after it.\n",
      "# Option “--command” is deprecated and might be removed in a later version of gnome-terminal.\n",
      "# Use “-- ” to terminate the options and put the command line to execute after it.\n",
      "# Option “--command” is deprecated and might be removed in a later version of gnome-terminal.\n",
      "# Use “-- ” to terminate the options and put the command line to execute after it.\n",
      "# Option “--command” is deprecated and might be removed in a later version of gnome-terminal.\n",
      "# Use “-- ” to terminate the options and put the command line to execute after it.\n",
      "# Option “--command” is deprecated and might be removed in a later version of gnome-terminal.\n",
      "# Use “-- ” to terminate the options and put the command line to execute after it.\n",
      "# Option “--command” is deprecated and might be removed in a later version of gnome-terminal.\n",
      "# Use “-- ” to terminate the options and put the command line to execute after it.\n",
      "# Option “--command” is deprecated and might be removed in a later version of gnome-terminal.\n",
      "# Use “-- ” to terminate the options and put the command line to execute after it.\n",
      "# Option “--command” is deprecated and might be removed in a later version of gnome-terminal.\n",
      "# Use “-- ” to terminate the options and put the command line to execute after it.\n",
      "# Option “--command” is deprecated and might be removed in a later version of gnome-terminal.\n",
      "# Use “-- ” to terminate the options and put the command line to execute after it.\n",
      "# Option “--command” is deprecated and might be removed in a later version of gnome-terminal.\n",
      "# Use “-- ” to terminate the options and put the command line to execute after it.\n"
     ]
    }
   ],
   "source": [
    "# Varying the number of raters\n",
    "N_PROCESSES = 6\n",
    "sim_name = \"sig_p_n_raters\"\n",
    "n_sims = 1_000\n",
    "trials_per_sim = 1\n",
    "\n",
    "p_diff = \"(0.02, 0.2)\"\n",
    "n_raters = \"(15, 70)\"\n",
    "scores_per_r = hoyle_scores_per_r\n",
    "\n",
    "# Removing all produced files\n",
    "if os.path.isfile(f\"data/{sim_name}/sim_settings.csv\"):\n",
    "    os.system(f\"\"\"rm data/{sim_name}/*\"\"\")\n",
    "\n",
    "# Generate settings file\n",
    "os.system(f\"\"\"\n",
    "    python3 generate_sim_settings.py --p_diff \"{p_diff}\" --n_raters \"{n_raters}\" \\\n",
    "    --scores_per_r {scores_per_r} --n_sims {n_sims} --trials_per_sim {trials_per_sim} \\\n",
    "    --sim_name {sim_name}\n",
    "\"\"\")\n",
    "\n",
    "run_simulations()"
   ]
  },
  {
   "cell_type": "code",
   "execution_count": 21,
   "id": "833adfeb",
   "metadata": {
    "collapsed": true
   },
   "outputs": [
    {
     "name": "stdout",
     "output_type": "stream",
     "text": [
      "\n",
      "    p_diff=(0.02, 0.2), <class 'tuple'>\n",
      "    n_raters=None, <class 'NoneType'>\n",
      "    scores_per_r=(10, 100), <class 'tuple'>\n",
      "    total_scores=1300, <class 'int'>\n",
      "    n_sims=1000, <class 'int'>\n",
      "    trials_per_sim=1\n",
      "    seed=42, <class 'int'>\n",
      "    sim_name=sig_p_scores_per_r, <class 'str'>\n",
      "    chain_method=vectorized, <class 'str'>\n",
      "    clean_dir=True, <class 'bool'>\n",
      "    \n"
     ]
    },
    {
     "name": "stderr",
     "output_type": "stream",
     "text": [
      "# Option “--command” is deprecated and might be removed in a later version of gnome-terminal.\n",
      "# Use “-- ” to terminate the options and put the command line to execute after it.\n",
      "# Option “--command” is deprecated and might be removed in a later version of gnome-terminal.\n",
      "# Use “-- ” to terminate the options and put the command line to execute after it.\n",
      "# Option “--command” is deprecated and might be removed in a later version of gnome-terminal.\n",
      "# Use “-- ” to terminate the options and put the command line to execute after it.\n",
      "# Option “--command” is deprecated and might be removed in a later version of gnome-terminal.\n",
      "# Use “-- ” to terminate the options and put the command line to execute after it.\n",
      "# Option “--command” is deprecated and might be removed in a later version of gnome-terminal.\n",
      "# Use “-- ” to terminate the options and put the command line to execute after it.\n",
      "# Option “--command” is deprecated and might be removed in a later version of gnome-terminal.\n",
      "# Use “-- ” to terminate the options and put the command line to execute after it.\n",
      "# Option “--command” is deprecated and might be removed in a later version of gnome-terminal.\n",
      "# Use “-- ” to terminate the options and put the command line to execute after it.\n",
      "# Option “--command” is deprecated and might be removed in a later version of gnome-terminal.\n",
      "# Use “-- ” to terminate the options and put the command line to execute after it.\n",
      "# Option “--command” is deprecated and might be removed in a later version of gnome-terminal.\n",
      "# Use “-- ” to terminate the options and put the command line to execute after it.\n",
      "# Option “--command” is deprecated and might be removed in a later version of gnome-terminal.\n",
      "# Use “-- ” to terminate the options and put the command line to execute after it.\n",
      "# Option “--command” is deprecated and might be removed in a later version of gnome-terminal.\n",
      "# Use “-- ” to terminate the options and put the command line to execute after it.\n",
      "# Option “--command” is deprecated and might be removed in a later version of gnome-terminal.\n",
      "# Use “-- ” to terminate the options and put the command line to execute after it.\n",
      "# Option “--command” is deprecated and might be removed in a later version of gnome-terminal.\n",
      "# Use “-- ” to terminate the options and put the command line to execute after it.\n",
      "# Option “--command” is deprecated and might be removed in a later version of gnome-terminal.\n",
      "# Use “-- ” to terminate the options and put the command line to execute after it.\n",
      "# Option “--command” is deprecated and might be removed in a later version of gnome-terminal.\n",
      "# Use “-- ” to terminate the options and put the command line to execute after it.\n",
      "# Option “--command” is deprecated and might be removed in a later version of gnome-terminal.\n",
      "# Use “-- ” to terminate the options and put the command line to execute after it.\n",
      "# Option “--command” is deprecated and might be removed in a later version of gnome-terminal.\n",
      "# Use “-- ” to terminate the options and put the command line to execute after it.\n",
      "# Option “--command” is deprecated and might be removed in a later version of gnome-terminal.\n",
      "# Use “-- ” to terminate the options and put the command line to execute after it.\n",
      "# Option “--command” is deprecated and might be removed in a later version of gnome-terminal.\n",
      "# Use “-- ” to terminate the options and put the command line to execute after it.\n",
      "# Option “--command” is deprecated and might be removed in a later version of gnome-terminal.\n",
      "# Use “-- ” to terminate the options and put the command line to execute after it.\n",
      "# Option “--command” is deprecated and might be removed in a later version of gnome-terminal.\n",
      "# Use “-- ” to terminate the options and put the command line to execute after it.\n",
      "# Option “--command” is deprecated and might be removed in a later version of gnome-terminal.\n",
      "# Use “-- ” to terminate the options and put the command line to execute after it.\n",
      "# Option “--command” is deprecated and might be removed in a later version of gnome-terminal.\n",
      "# Use “-- ” to terminate the options and put the command line to execute after it.\n",
      "# Option “--command” is deprecated and might be removed in a later version of gnome-terminal.\n",
      "# Use “-- ” to terminate the options and put the command line to execute after it.\n",
      "# Option “--command” is deprecated and might be removed in a later version of gnome-terminal.\n",
      "# Use “-- ” to terminate the options and put the command line to execute after it.\n",
      "# Option “--command” is deprecated and might be removed in a later version of gnome-terminal.\n",
      "# Use “-- ” to terminate the options and put the command line to execute after it.\n",
      "# Option “--command” is deprecated and might be removed in a later version of gnome-terminal.\n",
      "# Use “-- ” to terminate the options and put the command line to execute after it.\n",
      "# Option “--command” is deprecated and might be removed in a later version of gnome-terminal.\n",
      "# Use “-- ” to terminate the options and put the command line to execute after it.\n",
      "# Option “--command” is deprecated and might be removed in a later version of gnome-terminal.\n",
      "# Use “-- ” to terminate the options and put the command line to execute after it.\n",
      "# Option “--command” is deprecated and might be removed in a later version of gnome-terminal.\n",
      "# Use “-- ” to terminate the options and put the command line to execute after it.\n",
      "# Option “--command” is deprecated and might be removed in a later version of gnome-terminal.\n",
      "# Use “-- ” to terminate the options and put the command line to execute after it.\n",
      "# Option “--command” is deprecated and might be removed in a later version of gnome-terminal.\n",
      "# Use “-- ” to terminate the options and put the command line to execute after it.\n",
      "# Option “--command” is deprecated and might be removed in a later version of gnome-terminal.\n",
      "# Use “-- ” to terminate the options and put the command line to execute after it.\n",
      "# Option “--command” is deprecated and might be removed in a later version of gnome-terminal.\n",
      "# Use “-- ” to terminate the options and put the command line to execute after it.\n",
      "# Option “--command” is deprecated and might be removed in a later version of gnome-terminal.\n",
      "# Use “-- ” to terminate the options and put the command line to execute after it.\n",
      "# Option “--command” is deprecated and might be removed in a later version of gnome-terminal.\n",
      "# Use “-- ” to terminate the options and put the command line to execute after it.\n"
     ]
    }
   ],
   "source": [
    "# Varying the topics_per_r and p_diff\n",
    "N_PROCESSES = 6\n",
    "sim_name = \"sig_p_scores_per_r\"\n",
    "n_sims = 1_000\n",
    "trials_per_sim = 1\n",
    "\n",
    "p_diff = \"(0.02, 0.2)\"\n",
    "scores_per_r = \"(10, 100)\"\n",
    "total_scores = hoyle_total_scores\n",
    "\n",
    "# Removing all produced files\n",
    "if os.path.isfile(f\"data/{sim_name}/sim_settings.csv\"):\n",
    "    os.system(f\"\"\"rm data/{sim_name}/*\"\"\")\n",
    "\n",
    "# Generate settings file\n",
    "os.system(f\"\"\"\n",
    "    python3 generate_sim_settings.py --p_diff \"{p_diff}\" --scores_per_r \"{scores_per_r}\" \\\n",
    "    --total_scores {total_scores} --n_sims {n_sims} --trials_per_sim {trials_per_sim} \\\n",
    "    --sim_name {sim_name}\n",
    "\"\"\")\n",
    "\n",
    "run_simulations()"
   ]
  },
  {
   "cell_type": "markdown",
   "id": "a2c64328",
   "metadata": {},
   "source": [
    "## Optimal Allocation"
   ]
  },
  {
   "cell_type": "code",
   "execution_count": 12,
   "id": "f9aee113",
   "metadata": {
    "scrolled": true
   },
   "outputs": [],
   "source": [
    "# Run simulations\n",
    "def run_simulations():\n",
    "    setting_files = [os.path.isfile(f\"data/{sim_name}/sim_settings_{i}.csv\") for i in range(N_PROCESSES)]\n",
    "    process_active = [os.path.isfile(f\"data/{sim_name}/process_{i}_running\") for i in range(N_PROCESSES)]\n",
    "    while sum(setting_files)>0:\n",
    "        for i in range(N_PROCESSES):\n",
    "            if setting_files[i] and not process_active[i]:\n",
    "                source = \"source ~/anaconda3/etc/profile.d/conda.sh\\n\"\n",
    "                conda = \"conda activate bayes_topic_measures\\n\"\n",
    "                c = f\"\"\"python3 perform_sig_test.py --trials_per_sim {trials_per_sim} --process {i} --sim_name {sim_name} --optimal_alloc {optimal_alloc}\"\"\"\n",
    "#                 run_command_gnome(source+conda+c, title=f\"p{i}\", keep_window=False)\n",
    "                run_command_gnome(c, title=f\"p{i}\", keep_window=False)\n",
    "\n",
    "        sleep(10)\n",
    "        setting_files = [os.path.isfile(f\"data/{sim_name}/sim_settings_{i}.csv\") for i in range(N_PROCESSES)]\n",
    "        process_active = [os.path.isfile(f\"data/{sim_name}/process_{i}_running\") for i in range(N_PROCESSES)]"
   ]
  },
  {
   "cell_type": "code",
   "execution_count": 11,
   "id": "f016a8b8",
   "metadata": {
    "scrolled": false
   },
   "outputs": [
    {
     "name": "stdout",
     "output_type": "stream",
     "text": [
      "\n",
      "    p_diff=0.055, <class 'float'>\n",
      "    n_raters=(20, 150), <class 'tuple'>\n",
      "    scores_per_r=35, <class 'int'>\n",
      "    total_scores=None, <class 'NoneType'>\n",
      "    n_sims=12, <class 'int'>\n",
      "    trials_per_sim=1\n",
      "    seed=42, <class 'int'>\n",
      "    sim_name=oa0_test, <class 'str'>\n",
      "    chain_method=vectorized, <class 'str'>\n",
      "    clean_dir=True, <class 'bool'>\n",
      "    \n"
     ]
    },
    {
     "data": {
      "text/plain": [
       "0"
      ]
     },
     "execution_count": 11,
     "metadata": {},
     "output_type": "execute_result"
    }
   ],
   "source": [
    "# Varying the number of raters\n",
    "N_PROCESSES = 6\n",
    "sim_name0 = \"oa0_test\"\n",
    "sim_name1 = \"oa1_test\"\n",
    "n_sims = 12\n",
    "trials_per_sim = 1\n",
    "\n",
    "p_diff = hoyle_p_diff\n",
    "n_raters = \"(20, 150)\"\n",
    "scores_per_r = hoyle_scores_per_r\n",
    "\n",
    "# Removing all produced files\n",
    "os.system(f\"\"\"rm data/simulations/{sim_name0}.csv\"\"\")\n",
    "os.system(f\"\"\"rm data/simulations/{sim_name1}.csv\"\"\")\n",
    "os.system(f\"\"\"rm data/{sim_name0}/*\"\"\")\n",
    "os.system(f\"\"\"rm -rf data/{sim_name1}\"\"\")\n",
    "\n",
    "# Generate settings file\n",
    "os.system(f\"\"\"\n",
    "    python3 generate_sim_settings.py --n_raters \"{n_raters}\" --scores_per_r {scores_per_r} \\\n",
    "    --n_sims {n_sims} --trials_per_sim {trials_per_sim} --sim_name {sim_name0} \n",
    "\"\"\")\n",
    "\n",
    "os.system(f\"cp -r data/{sim_name0} data/{sim_name1}\")\n",
    "os.system(f\"cp data/simulations/{sim_name0}.csv data/simulations/{sim_name1}.csv\")"
   ]
  },
  {
   "cell_type": "code",
   "execution_count": 13,
   "id": "117c9b59",
   "metadata": {},
   "outputs": [
    {
     "name": "stderr",
     "output_type": "stream",
     "text": [
      "# Option “--command” is deprecated and might be removed in a later version of gnome-terminal.\n",
      "# Use “-- ” to terminate the options and put the command line to execute after it.\n",
      "# Option “--command” is deprecated and might be removed in a later version of gnome-terminal.\n",
      "# Use “-- ” to terminate the options and put the command line to execute after it.\n",
      "# Option “--command” is deprecated and might be removed in a later version of gnome-terminal.\n",
      "# Use “-- ” to terminate the options and put the command line to execute after it.\n",
      "# Option “--command” is deprecated and might be removed in a later version of gnome-terminal.\n",
      "# Use “-- ” to terminate the options and put the command line to execute after it.\n",
      "# Option “--command” is deprecated and might be removed in a later version of gnome-terminal.\n",
      "# Use “-- ” to terminate the options and put the command line to execute after it.\n",
      "# Option “--command” is deprecated and might be removed in a later version of gnome-terminal.\n",
      "# Use “-- ” to terminate the options and put the command line to execute after it.\n"
     ]
    }
   ],
   "source": [
    "sim_name = sim_name0\n",
    "optimal_alloc = False\n",
    "run_simulations()"
   ]
  },
  {
   "cell_type": "code",
   "execution_count": 14,
   "id": "3350525a",
   "metadata": {},
   "outputs": [
    {
     "name": "stderr",
     "output_type": "stream",
     "text": [
      "# Option “--command” is deprecated and might be removed in a later version of gnome-terminal.\n",
      "# Use “-- ” to terminate the options and put the command line to execute after it.\n",
      "# Option “--command” is deprecated and might be removed in a later version of gnome-terminal.\n",
      "# Use “-- ” to terminate the options and put the command line to execute after it.\n",
      "# Option “--command” is deprecated and might be removed in a later version of gnome-terminal.\n",
      "# Use “-- ” to terminate the options and put the command line to execute after it.\n",
      "# Option “--command” is deprecated and might be removed in a later version of gnome-terminal.\n",
      "# Use “-- ” to terminate the options and put the command line to execute after it.\n",
      "# Option “--command” is deprecated and might be removed in a later version of gnome-terminal.\n",
      "# Use “-- ” to terminate the options and put the command line to execute after it.\n",
      "# Option “--command” is deprecated and might be removed in a later version of gnome-terminal.\n",
      "# Use “-- ” to terminate the options and put the command line to execute after it.\n"
     ]
    }
   ],
   "source": [
    "sim_name = sim_name1\n",
    "optimal_alloc = True\n",
    "run_simulations()"
   ]
  }
 ],
 "metadata": {
  "kernelspec": {
   "display_name": "bayes_topic_measures",
   "language": "python",
   "name": "bayes_topic_measures"
  },
  "language_info": {
   "codemirror_mode": {
    "name": "ipython",
    "version": 3
   },
   "file_extension": ".py",
   "mimetype": "text/x-python",
   "name": "python",
   "nbconvert_exporter": "python",
   "pygments_lexer": "ipython3",
   "version": "3.10.12"
  }
 },
 "nbformat": 4,
 "nbformat_minor": 5
}
