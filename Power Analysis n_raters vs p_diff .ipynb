{
 "cells": [
  {
   "cell_type": "code",
   "execution_count": 1,
   "id": "1caad171",
   "metadata": {},
   "outputs": [
    {
     "name": "stderr",
     "output_type": "stream",
     "text": [
      "/home/roger/anaconda3/envs/bayes_topic_measures/lib/python3.10/site-packages/tqdm/auto.py:22: TqdmWarning: IProgress not found. Please update jupyter and ipywidgets. See https://ipywidgets.readthedocs.io/en/stable/user_install.html\n",
      "  from .autonotebook import tqdm as notebook_tqdm\n"
     ]
    }
   ],
   "source": [
    "import os\n",
    "import optuna\n",
    "import pandas as pd\n",
    "from time import sleep\n",
    "from scipy.special import logit\n",
    "from scipy.stats import beta"
   ]
  },
  {
   "cell_type": "code",
   "execution_count": 2,
   "id": "7c6a73ad",
   "metadata": {},
   "outputs": [],
   "source": [
    "# Generate and save inferred model if does not exist\n",
    "if not os.path.isfile(f\"bayesian_model/glmm.pickle\"):\n",
    "    os.system(\"python3 infer_bayesian_model.py\")"
   ]
  },
  {
   "cell_type": "code",
   "execution_count": 3,
   "id": "2cf96904",
   "metadata": {},
   "outputs": [],
   "source": [
    "def run_command_gnome(command, title=\"test\", keep_window=False, test=False):\n",
    "    if keep_window:\n",
    "        command_suffix = \"; $SHELL\"\n",
    "    else:\n",
    "        command_suffix = \"\"\n",
    "        \n",
    "    if test:\n",
    "        return f\"\"\"gnome-terminal --title=\"{title}\" --command=\"bash -c '{command} {command_suffix}'\" \"\"\"\n",
    "    else:\n",
    "        os.system(f\"\"\"gnome-terminal --title=\"{title}\" --command=\"bash -c '{command} {command_suffix}'\" \"\"\")"
   ]
  },
  {
   "cell_type": "code",
   "execution_count": 4,
   "id": "b219e7bf",
   "metadata": {},
   "outputs": [],
   "source": [
    "def beta_ci(n_success, n_fail, level=0.95):\n",
    "    a = n_success + 1\n",
    "    b = n_fail+1\n",
    "    l_perc = (1-level)/2\n",
    "    u_perc = 1-(1-level)/2\n",
    "    return beta.ppf(l_perc, a, b), beta.ppf(u_perc, a, b)"
   ]
  },
  {
   "cell_type": "code",
   "execution_count": 80,
   "id": "7769e992",
   "metadata": {},
   "outputs": [],
   "source": [
    "def generate_sim_settings(p_diff, n_raters, scores_per_r, total_scores, trials_per_sim=100):\n",
    "    os.system(f\"\"\"\n",
    "        python3 generate_sim_settings.py --p_diff \"{p_diff}\" --n_raters \"{n_raters}\" \\\n",
    "        --scores_per_r {scores_per_r} --total_scores {total_scores} --n_sims 1 \\\n",
    "        --trials_per_sim {trials_per_sim} --sim_name {sim_name}\n",
    "    \"\"\")\n",
    "    return()"
   ]
  },
  {
   "cell_type": "code",
   "execution_count": 45,
   "id": "67f72c1e",
   "metadata": {},
   "outputs": [],
   "source": [
    "def collate_results(sim_name, test=\"bht\", crit_val=0.05):\n",
    "    try:\n",
    "        df = pd.read_csv(f\"data/simulations/{sim_name}.csv\")\n",
    "        success = (df[f\"{test}_pval\"] < crit_val).sum()\n",
    "        fail = (df[f\"{test}_pval\"] >= crit_val).sum()\n",
    "        return success, fail\n",
    "    except FileNotFoundError:\n",
    "        return 0, 0"
   ]
  },
  {
   "cell_type": "code",
   "execution_count": 103,
   "id": "7fe24af8",
   "metadata": {},
   "outputs": [],
   "source": [
    "def transfer_log(sim_name, power_id, sim_id):\n",
    "    df = pd.read_csv(f\"data/simulations/{sim_name}.csv\")\n",
    "    df.insert(0, \"power_id\", power_id)\n",
    "    df[\"sim_id\"] = sim_id\n",
    "    \n",
    "    # Overwrite file if start of a new power analysis\n",
    "    if sim_id == power_id == 0:\n",
    "        df.to_csv(f\"data/simulations/power_{sim_name}.csv\", index=False)\n",
    "    else:\n",
    "        log = pd.read_csv(f\"data/simulations/power_{sim_name}.csv\")\n",
    "        pd.concat([log, df]).to_csv(f\"data/simulations/power_{sim_name}.csv\", index=False)\n",
    "        \n",
    "    return"
   ]
  },
  {
   "cell_type": "code",
   "execution_count": 105,
   "id": "ec55fa24",
   "metadata": {},
   "outputs": [],
   "source": [
    "def objective(trial):\n",
    "#         Function to optimise\n",
    "        n_raters = trial.suggest_int(\"n_raters\", 30, 200)\n",
    "\n",
    "        generate_sim_settings(p_diff, n_raters, scores_per_r, total_scores)\n",
    "\n",
    "        # Run simulations\n",
    "        setting_files = [os.path.isfile(f\"data/{sim_name}/sim_settings_{i}.csv\") for i in range(N_PROCESSES)]\n",
    "        while sum(setting_files)>0:\n",
    "            setting_files = [os.path.isfile(f\"data/{sim_name}/sim_settings_{i}.csv\") for i in range(N_PROCESSES)]\n",
    "            process_active = [os.path.isfile(f\"data/{sim_name}/process_{i}_running\") for i in range(N_PROCESSES)]\n",
    "\n",
    "            for i in range(N_PROCESSES):\n",
    "                if setting_files[i] and not process_active[i]:\n",
    "                    source = \"source ~/anaconda3/etc/profile.d/conda.sh\\n\"\n",
    "                    conda = \"conda activate bayes_topic_measures\\n\"\n",
    "                    c = f\"\"\"python3 perform_sig_test.py --trials_per_sim {trials_per_sim} --process {i} --sim_name {sim_name} --n_runs {N_RUNS}\"\"\"\n",
    "                    print(c)\n",
    "                    run_command_gnome(source+conda+c, title=f\"p{i}\", keep_window=False)\n",
    "\n",
    "            n_success, n_fail = collate_results(sim_name)\n",
    "            lower_ci, upper_ci = beta_ci(n_success, n_fail)\n",
    "            \n",
    "            if 0.9 < lower_ci or upper_ci < 0.9:\n",
    "                # Waits for all processes to complete\n",
    "                while sum(process_active) > 0:\n",
    "                    process_active = [os.path.isfile(f\"data/{sim_name}/process_{i}_running\") for i in range(N_PROCESSES)]\n",
    "                    sleep(1)\n",
    "                transfer_log(sim_name, power_id, sim_id[0])\n",
    "                sim_id[0] += 1\n",
    "                return abs(logit(0.9) - logit(n_success/(n_success+n_fail)))\n",
    "            \n",
    "            sleep(5)\n",
    "\n",
    "        transfer_log(sim_name, power_id, sim_id[0])\n",
    "        sim_id[0] += 1\n",
    "        return abs(logit(0.9) - logit(n_success/(n_success+n_fail)))"
   ]
  },
  {
   "cell_type": "code",
   "execution_count": 94,
   "id": "95f57696",
   "metadata": {},
   "outputs": [],
   "source": [
    "# Settings for hoyle's significance testing\n",
    "hoyle_total_scores = 50*26\n",
    "hoyle_p_diff = 0.055\n",
    "hoyle_scores_per_r = 38"
   ]
  },
  {
   "cell_type": "code",
   "execution_count": 110,
   "id": "12a9bb4f",
   "metadata": {},
   "outputs": [],
   "source": [
    "# Simulation settings\n",
    "N_PROCESSES = 2\n",
    "sim_name = \"test\"\n",
    "trials_per_sim = 100\n",
    "\n",
    "p_diff = hoyle_p_diff\n",
    "n_raters = None # Variable to be optimised by optuna \n",
    "scores_per_r = hoyle_scores_per_r\n",
    "total_scores = None\n",
    "\n",
    "# Power settings\n",
    "N_RUNS = 2\n",
    "# sim_id = [0] # list is used so that sim_id can be incremented in objective func  \n",
    "# power_id = 0"
   ]
  },
  {
   "cell_type": "code",
   "execution_count": 111,
   "id": "e46d387d",
   "metadata": {
    "scrolled": true
   },
   "outputs": [
    {
     "name": "stderr",
     "output_type": "stream",
     "text": [
      "\u001b[32m[I 2022-10-30 13:54:12,143]\u001b[0m A new study created in memory with name: no-name-4c742820-f125-4038-88df-0b0d35e7f0e5\u001b[0m\n"
     ]
    },
    {
     "name": "stdout",
     "output_type": "stream",
     "text": [
      "\n",
      "    p_diff=0.055, <class 'float'>\n",
      "    n_raters=39, <class 'int'>\n",
      "    scores_per_r=38, <class 'int'>\n",
      "    total_scores=None, <class 'NoneType'>\n",
      "    n_sims=1, <class 'int'>\n",
      "    trials_per_sim=100\n",
      "    seed=42, <class 'int'>\n",
      "    sim_name=test, <class 'str'>\n",
      "    chain_method=vectorized, <class 'str'>\n",
      "    clean_dir=True, <class 'bool'>\n",
      "    \n",
      "python3 perform_sig_test.py --trials_per_sim 100 --process 0 --sim_name test --n_runs 2\n"
     ]
    },
    {
     "name": "stderr",
     "output_type": "stream",
     "text": [
      "# Option “--command” is deprecated and might be removed in a later version of gnome-terminal.\n",
      "# Use “-- ” to terminate the options and put the command line to execute after it.\n"
     ]
    },
    {
     "name": "stdout",
     "output_type": "stream",
     "text": [
      "python3 perform_sig_test.py --trials_per_sim 100 --process 1 --sim_name test --n_runs 2\n"
     ]
    },
    {
     "name": "stderr",
     "output_type": "stream",
     "text": [
      "# Option “--command” is deprecated and might be removed in a later version of gnome-terminal.\n",
      "# Use “-- ” to terminate the options and put the command line to execute after it.\n",
      "\u001b[32m[I 2022-10-30 13:54:54,647]\u001b[0m Trial 0 finished with value: inf and parameters: {'n_raters': 39}. Best is trial 0 with value: inf.\u001b[0m\n"
     ]
    },
    {
     "name": "stdout",
     "output_type": "stream",
     "text": [
      "\n",
      "    p_diff=0.055, <class 'float'>\n",
      "    n_raters=87, <class 'int'>\n",
      "    scores_per_r=38, <class 'int'>\n",
      "    total_scores=None, <class 'NoneType'>\n",
      "    n_sims=1, <class 'int'>\n",
      "    trials_per_sim=100\n",
      "    seed=42, <class 'int'>\n",
      "    sim_name=test, <class 'str'>\n",
      "    chain_method=vectorized, <class 'str'>\n",
      "    clean_dir=True, <class 'bool'>\n",
      "    \n",
      "python3 perform_sig_test.py --trials_per_sim 100 --process 0 --sim_name test --n_runs 2\n"
     ]
    },
    {
     "name": "stderr",
     "output_type": "stream",
     "text": [
      "# Option “--command” is deprecated and might be removed in a later version of gnome-terminal.\n",
      "# Use “-- ” to terminate the options and put the command line to execute after it.\n"
     ]
    },
    {
     "name": "stdout",
     "output_type": "stream",
     "text": [
      "python3 perform_sig_test.py --trials_per_sim 100 --process 1 --sim_name test --n_runs 2\n"
     ]
    },
    {
     "name": "stderr",
     "output_type": "stream",
     "text": [
      "# Option “--command” is deprecated and might be removed in a later version of gnome-terminal.\n",
      "# Use “-- ” to terminate the options and put the command line to execute after it.\n"
     ]
    },
    {
     "name": "stdout",
     "output_type": "stream",
     "text": [
      "python3 perform_sig_test.py --trials_per_sim 100 --process 0 --sim_name test --n_runs 2\n"
     ]
    },
    {
     "name": "stderr",
     "output_type": "stream",
     "text": [
      "# Option “--command” is deprecated and might be removed in a later version of gnome-terminal.\n",
      "# Use “-- ” to terminate the options and put the command line to execute after it.\n"
     ]
    },
    {
     "name": "stdout",
     "output_type": "stream",
     "text": [
      "python3 perform_sig_test.py --trials_per_sim 100 --process 1 --sim_name test --n_runs 2\n"
     ]
    },
    {
     "name": "stderr",
     "output_type": "stream",
     "text": [
      "# Option “--command” is deprecated and might be removed in a later version of gnome-terminal.\n",
      "# Use “-- ” to terminate the options and put the command line to execute after it.\n"
     ]
    },
    {
     "name": "stdout",
     "output_type": "stream",
     "text": [
      "python3 perform_sig_test.py --trials_per_sim 100 --process 0 --sim_name test --n_runs 2\n"
     ]
    },
    {
     "name": "stderr",
     "output_type": "stream",
     "text": [
      "# Option “--command” is deprecated and might be removed in a later version of gnome-terminal.\n",
      "# Use “-- ” to terminate the options and put the command line to execute after it.\n"
     ]
    },
    {
     "name": "stdout",
     "output_type": "stream",
     "text": [
      "python3 perform_sig_test.py --trials_per_sim 100 --process 1 --sim_name test --n_runs 2\n"
     ]
    },
    {
     "name": "stderr",
     "output_type": "stream",
     "text": [
      "# Option “--command” is deprecated and might be removed in a later version of gnome-terminal.\n",
      "# Use “-- ” to terminate the options and put the command line to execute after it.\n"
     ]
    },
    {
     "name": "stdout",
     "output_type": "stream",
     "text": [
      "python3 perform_sig_test.py --trials_per_sim 100 --process 1 --sim_name test --n_runs 2\n"
     ]
    },
    {
     "name": "stderr",
     "output_type": "stream",
     "text": [
      "# Option “--command” is deprecated and might be removed in a later version of gnome-terminal.\n",
      "# Use “-- ” to terminate the options and put the command line to execute after it.\n"
     ]
    },
    {
     "name": "stdout",
     "output_type": "stream",
     "text": [
      "python3 perform_sig_test.py --trials_per_sim 100 --process 0 --sim_name test --n_runs 2\n"
     ]
    },
    {
     "name": "stderr",
     "output_type": "stream",
     "text": [
      "# Option “--command” is deprecated and might be removed in a later version of gnome-terminal.\n",
      "# Use “-- ” to terminate the options and put the command line to execute after it.\n"
     ]
    },
    {
     "name": "stdout",
     "output_type": "stream",
     "text": [
      "python3 perform_sig_test.py --trials_per_sim 100 --process 1 --sim_name test --n_runs 2\n"
     ]
    },
    {
     "name": "stderr",
     "output_type": "stream",
     "text": [
      "# Option “--command” is deprecated and might be removed in a later version of gnome-terminal.\n",
      "# Use “-- ” to terminate the options and put the command line to execute after it.\n"
     ]
    },
    {
     "name": "stdout",
     "output_type": "stream",
     "text": [
      "python3 perform_sig_test.py --trials_per_sim 100 --process 0 --sim_name test --n_runs 2\n"
     ]
    },
    {
     "name": "stderr",
     "output_type": "stream",
     "text": [
      "# Option “--command” is deprecated and might be removed in a later version of gnome-terminal.\n",
      "# Use “-- ” to terminate the options and put the command line to execute after it.\n"
     ]
    },
    {
     "name": "stdout",
     "output_type": "stream",
     "text": [
      "python3 perform_sig_test.py --trials_per_sim 100 --process 1 --sim_name test --n_runs 2\n"
     ]
    },
    {
     "name": "stderr",
     "output_type": "stream",
     "text": [
      "# Option “--command” is deprecated and might be removed in a later version of gnome-terminal.\n",
      "# Use “-- ” to terminate the options and put the command line to execute after it.\n"
     ]
    },
    {
     "name": "stdout",
     "output_type": "stream",
     "text": [
      "python3 perform_sig_test.py --trials_per_sim 100 --process 0 --sim_name test --n_runs 2\n"
     ]
    },
    {
     "name": "stderr",
     "output_type": "stream",
     "text": [
      "# Option “--command” is deprecated and might be removed in a later version of gnome-terminal.\n",
      "# Use “-- ” to terminate the options and put the command line to execute after it.\n"
     ]
    },
    {
     "name": "stdout",
     "output_type": "stream",
     "text": [
      "python3 perform_sig_test.py --trials_per_sim 100 --process 1 --sim_name test --n_runs 2\n"
     ]
    },
    {
     "name": "stderr",
     "output_type": "stream",
     "text": [
      "# Option “--command” is deprecated and might be removed in a later version of gnome-terminal.\n",
      "# Use “-- ” to terminate the options and put the command line to execute after it.\n"
     ]
    },
    {
     "name": "stdout",
     "output_type": "stream",
     "text": [
      "python3 perform_sig_test.py --trials_per_sim 100 --process 0 --sim_name test --n_runs 2\n"
     ]
    },
    {
     "name": "stderr",
     "output_type": "stream",
     "text": [
      "# Option “--command” is deprecated and might be removed in a later version of gnome-terminal.\n",
      "# Use “-- ” to terminate the options and put the command line to execute after it.\n"
     ]
    },
    {
     "name": "stdout",
     "output_type": "stream",
     "text": [
      "python3 perform_sig_test.py --trials_per_sim 100 --process 1 --sim_name test --n_runs 2\n"
     ]
    },
    {
     "name": "stderr",
     "output_type": "stream",
     "text": [
      "# Option “--command” is deprecated and might be removed in a later version of gnome-terminal.\n",
      "# Use “-- ” to terminate the options and put the command line to execute after it.\n"
     ]
    },
    {
     "name": "stdout",
     "output_type": "stream",
     "text": [
      "python3 perform_sig_test.py --trials_per_sim 100 --process 0 --sim_name test --n_runs 2\n"
     ]
    },
    {
     "name": "stderr",
     "output_type": "stream",
     "text": [
      "# Option “--command” is deprecated and might be removed in a later version of gnome-terminal.\n",
      "# Use “-- ” to terminate the options and put the command line to execute after it.\n"
     ]
    },
    {
     "name": "stdout",
     "output_type": "stream",
     "text": [
      "python3 perform_sig_test.py --trials_per_sim 100 --process 1 --sim_name test --n_runs 2\n"
     ]
    },
    {
     "name": "stderr",
     "output_type": "stream",
     "text": [
      "# Option “--command” is deprecated and might be removed in a later version of gnome-terminal.\n",
      "# Use “-- ” to terminate the options and put the command line to execute after it.\n",
      "\u001b[32m[I 2022-10-30 14:03:19,568]\u001b[0m Trial 1 finished with value: 0.9650808960435875 and parameters: {'n_raters': 87}. Best is trial 1 with value: 0.9650808960435875.\u001b[0m\n"
     ]
    },
    {
     "name": "stdout",
     "output_type": "stream",
     "text": [
      "\n",
      "    p_diff=0.055, <class 'float'>\n",
      "    n_raters=32, <class 'int'>\n",
      "    scores_per_r=38, <class 'int'>\n",
      "    total_scores=None, <class 'NoneType'>\n",
      "    n_sims=1, <class 'int'>\n",
      "    trials_per_sim=100\n",
      "    seed=42, <class 'int'>\n",
      "    sim_name=test, <class 'str'>\n",
      "    chain_method=vectorized, <class 'str'>\n",
      "    clean_dir=True, <class 'bool'>\n",
      "    \n",
      "python3 perform_sig_test.py --trials_per_sim 100 --process 0 --sim_name test --n_runs 2\n"
     ]
    },
    {
     "name": "stderr",
     "output_type": "stream",
     "text": [
      "# Option “--command” is deprecated and might be removed in a later version of gnome-terminal.\n",
      "# Use “-- ” to terminate the options and put the command line to execute after it.\n"
     ]
    },
    {
     "name": "stdout",
     "output_type": "stream",
     "text": [
      "python3 perform_sig_test.py --trials_per_sim 100 --process 1 --sim_name test --n_runs 2\n"
     ]
    },
    {
     "name": "stderr",
     "output_type": "stream",
     "text": [
      "# Option “--command” is deprecated and might be removed in a later version of gnome-terminal.\n",
      "# Use “-- ” to terminate the options and put the command line to execute after it.\n"
     ]
    },
    {
     "name": "stdout",
     "output_type": "stream",
     "text": [
      "python3 perform_sig_test.py --trials_per_sim 100 --process 0 --sim_name test --n_runs 2\n"
     ]
    },
    {
     "name": "stderr",
     "output_type": "stream",
     "text": [
      "# Option “--command” is deprecated and might be removed in a later version of gnome-terminal.\n",
      "# Use “-- ” to terminate the options and put the command line to execute after it.\n"
     ]
    },
    {
     "name": "stdout",
     "output_type": "stream",
     "text": [
      "python3 perform_sig_test.py --trials_per_sim 100 --process 1 --sim_name test --n_runs 2\n"
     ]
    },
    {
     "name": "stderr",
     "output_type": "stream",
     "text": [
      "# Option “--command” is deprecated and might be removed in a later version of gnome-terminal.\n",
      "# Use “-- ” to terminate the options and put the command line to execute after it.\n",
      "\u001b[32m[I 2022-10-30 14:04:43,726]\u001b[0m Trial 2 finished with value: 2.1972245773362196 and parameters: {'n_raters': 32}. Best is trial 1 with value: 0.9650808960435875.\u001b[0m\n"
     ]
    },
    {
     "name": "stdout",
     "output_type": "stream",
     "text": [
      "\n",
      "    p_diff=0.055, <class 'float'>\n",
      "    n_raters=194, <class 'int'>\n",
      "    scores_per_r=38, <class 'int'>\n",
      "    total_scores=None, <class 'NoneType'>\n",
      "    n_sims=1, <class 'int'>\n",
      "    trials_per_sim=100\n",
      "    seed=42, <class 'int'>\n",
      "    sim_name=test, <class 'str'>\n",
      "    chain_method=vectorized, <class 'str'>\n",
      "    clean_dir=True, <class 'bool'>\n",
      "    \n",
      "python3 perform_sig_test.py --trials_per_sim 100 --process 0 --sim_name test --n_runs 2\n"
     ]
    },
    {
     "name": "stderr",
     "output_type": "stream",
     "text": [
      "# Option “--command” is deprecated and might be removed in a later version of gnome-terminal.\n",
      "# Use “-- ” to terminate the options and put the command line to execute after it.\n"
     ]
    },
    {
     "name": "stdout",
     "output_type": "stream",
     "text": [
      "python3 perform_sig_test.py --trials_per_sim 100 --process 1 --sim_name test --n_runs 2\n"
     ]
    },
    {
     "name": "stderr",
     "output_type": "stream",
     "text": [
      "# Option “--command” is deprecated and might be removed in a later version of gnome-terminal.\n",
      "# Use “-- ” to terminate the options and put the command line to execute after it.\n"
     ]
    },
    {
     "name": "stdout",
     "output_type": "stream",
     "text": [
      "python3 perform_sig_test.py --trials_per_sim 100 --process 0 --sim_name test --n_runs 2\n"
     ]
    },
    {
     "name": "stderr",
     "output_type": "stream",
     "text": [
      "# Option “--command” is deprecated and might be removed in a later version of gnome-terminal.\n",
      "# Use “-- ” to terminate the options and put the command line to execute after it.\n"
     ]
    },
    {
     "name": "stdout",
     "output_type": "stream",
     "text": [
      "python3 perform_sig_test.py --trials_per_sim 100 --process 1 --sim_name test --n_runs 2\n"
     ]
    },
    {
     "name": "stderr",
     "output_type": "stream",
     "text": [
      "# Option “--command” is deprecated and might be removed in a later version of gnome-terminal.\n",
      "# Use “-- ” to terminate the options and put the command line to execute after it.\n"
     ]
    },
    {
     "name": "stdout",
     "output_type": "stream",
     "text": [
      "python3 perform_sig_test.py --trials_per_sim 100 --process 0 --sim_name test --n_runs 2\n"
     ]
    },
    {
     "name": "stderr",
     "output_type": "stream",
     "text": [
      "# Option “--command” is deprecated and might be removed in a later version of gnome-terminal.\n",
      "# Use “-- ” to terminate the options and put the command line to execute after it.\n"
     ]
    },
    {
     "name": "stdout",
     "output_type": "stream",
     "text": [
      "python3 perform_sig_test.py --trials_per_sim 100 --process 1 --sim_name test --n_runs 2\n"
     ]
    },
    {
     "name": "stderr",
     "output_type": "stream",
     "text": [
      "# Option “--command” is deprecated and might be removed in a later version of gnome-terminal.\n",
      "# Use “-- ” to terminate the options and put the command line to execute after it.\n"
     ]
    },
    {
     "name": "stdout",
     "output_type": "stream",
     "text": [
      "python3 perform_sig_test.py --trials_per_sim 100 --process 0 --sim_name test --n_runs 2\n"
     ]
    },
    {
     "name": "stderr",
     "output_type": "stream",
     "text": [
      "# Option “--command” is deprecated and might be removed in a later version of gnome-terminal.\n",
      "# Use “-- ” to terminate the options and put the command line to execute after it.\n"
     ]
    },
    {
     "name": "stdout",
     "output_type": "stream",
     "text": [
      "python3 perform_sig_test.py --trials_per_sim 100 --process 1 --sim_name test --n_runs 2\n"
     ]
    },
    {
     "name": "stderr",
     "output_type": "stream",
     "text": [
      "# Option “--command” is deprecated and might be removed in a later version of gnome-terminal.\n",
      "# Use “-- ” to terminate the options and put the command line to execute after it.\n"
     ]
    },
    {
     "name": "stdout",
     "output_type": "stream",
     "text": [
      "python3 perform_sig_test.py --trials_per_sim 100 --process 0 --sim_name test --n_runs 2\n"
     ]
    },
    {
     "name": "stderr",
     "output_type": "stream",
     "text": [
      "# Option “--command” is deprecated and might be removed in a later version of gnome-terminal.\n",
      "# Use “-- ” to terminate the options and put the command line to execute after it.\n"
     ]
    },
    {
     "name": "stdout",
     "output_type": "stream",
     "text": [
      "python3 perform_sig_test.py --trials_per_sim 100 --process 1 --sim_name test --n_runs 2\n"
     ]
    },
    {
     "name": "stderr",
     "output_type": "stream",
     "text": [
      "# Option “--command” is deprecated and might be removed in a later version of gnome-terminal.\n",
      "# Use “-- ” to terminate the options and put the command line to execute after it.\n"
     ]
    },
    {
     "name": "stdout",
     "output_type": "stream",
     "text": [
      "python3 perform_sig_test.py --trials_per_sim 100 --process 0 --sim_name test --n_runs 2\n"
     ]
    },
    {
     "name": "stderr",
     "output_type": "stream",
     "text": [
      "# Option “--command” is deprecated and might be removed in a later version of gnome-terminal.\n",
      "# Use “-- ” to terminate the options and put the command line to execute after it.\n"
     ]
    },
    {
     "name": "stdout",
     "output_type": "stream",
     "text": [
      "python3 perform_sig_test.py --trials_per_sim 100 --process 1 --sim_name test --n_runs 2\n"
     ]
    },
    {
     "name": "stderr",
     "output_type": "stream",
     "text": [
      "# Option “--command” is deprecated and might be removed in a later version of gnome-terminal.\n",
      "# Use “-- ” to terminate the options and put the command line to execute after it.\n"
     ]
    },
    {
     "name": "stdout",
     "output_type": "stream",
     "text": [
      "python3 perform_sig_test.py --trials_per_sim 100 --process 0 --sim_name test --n_runs 2\n"
     ]
    },
    {
     "name": "stderr",
     "output_type": "stream",
     "text": [
      "# Option “--command” is deprecated and might be removed in a later version of gnome-terminal.\n",
      "# Use “-- ” to terminate the options and put the command line to execute after it.\n"
     ]
    },
    {
     "name": "stdout",
     "output_type": "stream",
     "text": [
      "python3 perform_sig_test.py --trials_per_sim 100 --process 1 --sim_name test --n_runs 2\n"
     ]
    },
    {
     "name": "stderr",
     "output_type": "stream",
     "text": [
      "# Option “--command” is deprecated and might be removed in a later version of gnome-terminal.\n",
      "# Use “-- ” to terminate the options and put the command line to execute after it.\n"
     ]
    },
    {
     "name": "stdout",
     "output_type": "stream",
     "text": [
      "python3 perform_sig_test.py --trials_per_sim 100 --process 0 --sim_name test --n_runs 2\n"
     ]
    },
    {
     "name": "stderr",
     "output_type": "stream",
     "text": [
      "# Option “--command” is deprecated and might be removed in a later version of gnome-terminal.\n",
      "# Use “-- ” to terminate the options and put the command line to execute after it.\n"
     ]
    },
    {
     "name": "stdout",
     "output_type": "stream",
     "text": [
      "python3 perform_sig_test.py --trials_per_sim 100 --process 1 --sim_name test --n_runs 2\n"
     ]
    },
    {
     "name": "stderr",
     "output_type": "stream",
     "text": [
      "# Option “--command” is deprecated and might be removed in a later version of gnome-terminal.\n",
      "# Use “-- ” to terminate the options and put the command line to execute after it.\n"
     ]
    },
    {
     "name": "stdout",
     "output_type": "stream",
     "text": [
      "python3 perform_sig_test.py --trials_per_sim 100 --process 0 --sim_name test --n_runs 2\n"
     ]
    },
    {
     "name": "stderr",
     "output_type": "stream",
     "text": [
      "# Option “--command” is deprecated and might be removed in a later version of gnome-terminal.\n",
      "# Use “-- ” to terminate the options and put the command line to execute after it.\n"
     ]
    },
    {
     "name": "stdout",
     "output_type": "stream",
     "text": [
      "python3 perform_sig_test.py --trials_per_sim 100 --process 1 --sim_name test --n_runs 2\n"
     ]
    },
    {
     "name": "stderr",
     "output_type": "stream",
     "text": [
      "# Option “--command” is deprecated and might be removed in a later version of gnome-terminal.\n",
      "# Use “-- ” to terminate the options and put the command line to execute after it.\n",
      "\u001b[32m[I 2022-10-30 14:19:17,085]\u001b[0m Trial 3 finished with value: inf and parameters: {'n_raters': 194}. Best is trial 1 with value: 0.9650808960435875.\u001b[0m\n"
     ]
    }
   ],
   "source": [
    "study = optuna.create_study(direction=\"minimize\")\n",
    "study.optimize(objective, n_trials=20)"
   ]
  },
  {
   "cell_type": "code",
   "execution_count": null,
   "id": "76faa031",
   "metadata": {},
   "outputs": [],
   "source": [
    "studies = {}\n",
    "bht_n_raters = {}\n",
    "for power_id, p_diff in enumerate(np.geomrange(0.02, 0.2, 20)):\n",
    "    sim_id = [0]\n",
    "    studies[power_id] = optuna.create_study(direction=\"minimize\")\n",
    "    studies[power_id].optimize(objective, n_trials=20)\n",
    "    bht_n_raters[power_id] = studies[power_id].best_params[\"n_raters\"]"
   ]
  }
 ],
 "metadata": {
  "kernelspec": {
   "display_name": "bayes_topic_measures",
   "language": "python",
   "name": "bayes_topic_measures"
  },
  "language_info": {
   "codemirror_mode": {
    "name": "ipython",
    "version": 3
   },
   "file_extension": ".py",
   "mimetype": "text/x-python",
   "name": "python",
   "nbconvert_exporter": "python",
   "pygments_lexer": "ipython3",
   "version": "3.10.6"
  }
 },
 "nbformat": 4,
 "nbformat_minor": 5
}
