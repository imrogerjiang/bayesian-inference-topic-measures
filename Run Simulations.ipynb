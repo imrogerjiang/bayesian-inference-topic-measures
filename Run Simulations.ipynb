{
 "cells": [
  {
   "cell_type": "code",
   "execution_count": 1,
   "id": "baee6c8e",
   "metadata": {},
   "outputs": [],
   "source": [
    "import os\n",
    "from time import sleep"
   ]
  },
  {
   "cell_type": "code",
   "execution_count": null,
   "id": "e024e113",
   "metadata": {},
   "outputs": [],
   "source": [
    "# Generate inferred model if does not exist\n",
    "os.system(\"python3 infer_bayesian_model.py\")"
   ]
  },
  {
   "cell_type": "code",
   "execution_count": 2,
   "id": "1a6597ba",
   "metadata": {},
   "outputs": [],
   "source": [
    "def run_command_gnome(command, title=\"test\", keep_window=False, test=False):\n",
    "    if keep_window:\n",
    "        command_suffix = \"; $SHELL\"\n",
    "    else:\n",
    "        command_suffix = \"\"\n",
    "        \n",
    "    if test:\n",
    "        return f\"\"\"gnome-terminal --title=\"{title}\" --command=\"bash -c '{command} {command_suffix}'\" \"\"\"\n",
    "    else:\n",
    "        os.system(f\"\"\"gnome-terminal --title=\"{title}\" --command=\"bash -c '{command} {command_suffix}'\" \"\"\")"
   ]
  },
  {
   "cell_type": "code",
   "execution_count": 3,
   "id": "895836be",
   "metadata": {},
   "outputs": [],
   "source": [
    "# Settings for hoyle's significance testing\n",
    "hoyle_total_scores = 50*26\n",
    "hoyle_p_diff = 0.055\n",
    "hoyle_n_raters = 38\n",
    "hoyle_scores_per_r = hoyle_total_scores//hoyle_n_raters + 1"
   ]
  },
  {
   "cell_type": "code",
   "execution_count": 9,
   "id": "1c264635",
   "metadata": {},
   "outputs": [],
   "source": [
    "# Simulation settings\n",
    "N_PROCESSES = 6\n",
    "sim_name = \"sig_n_raters\"\n",
    "n_sims = 1_000\n",
    "trials_per_sim = 1\n",
    "\n",
    "p_diff = hoyle_p_diff\n",
    "n_raters = \"(15, 70)\"\n",
    "scores_per_r = hoyle_scores_per_r"
   ]
  },
  {
   "cell_type": "code",
   "execution_count": 10,
   "id": "c4984444",
   "metadata": {},
   "outputs": [
    {
     "data": {
      "text/plain": [
       "0"
      ]
     },
     "execution_count": 10,
     "metadata": {},
     "output_type": "execute_result"
    }
   ],
   "source": [
    "# Removing all produced files\n",
    "os.system(f\"\"\"rm data/{sim_name}/*\"\"\")"
   ]
  },
  {
   "cell_type": "code",
   "execution_count": 11,
   "id": "8ec4c35a",
   "metadata": {},
   "outputs": [
    {
     "name": "stdout",
     "output_type": "stream",
     "text": [
      "\n",
      "    p_diff=0.055, <class 'float'>\n",
      "    n_raters=(15, 70), <class 'tuple'>\n",
      "    scores_per_r=35, <class 'int'>\n",
      "    total_scores=None, <class 'NoneType'>\n",
      "    n_sims=1000, <class 'int'>\n",
      "    trials_per_sim=1\n",
      "    seed=42, <class 'int'>\n",
      "    sim_name=sig_n_raters, <class 'str'>\n",
      "    chain_method=vectorized, <class 'str'>\n",
      "    \n"
     ]
    },
    {
     "data": {
      "text/plain": [
       "0"
      ]
     },
     "execution_count": 11,
     "metadata": {},
     "output_type": "execute_result"
    }
   ],
   "source": [
    "# Generate settings file\n",
    "os.system(f\"\"\"\n",
    "    python3 generate_sim_settings.py --n_raters \"{n_raters}\" --scores_per_r {scores_per_r} \\\n",
    "    --n_sims {n_sims} --trials_per_sim {trials_per_sim} --sim_name {sim_name}\n",
    "\"\"\")"
   ]
  },
  {
   "cell_type": "code",
   "execution_count": 12,
   "id": "4c9139eb",
   "metadata": {
    "scrolled": true
   },
   "outputs": [
    {
     "name": "stderr",
     "output_type": "stream",
     "text": [
      "# Option “--command” is deprecated and might be removed in a later version of gnome-terminal.\n",
      "# Use “-- ” to terminate the options and put the command line to execute after it.\n",
      "# Option “--command” is deprecated and might be removed in a later version of gnome-terminal.\n",
      "# Use “-- ” to terminate the options and put the command line to execute after it.\n",
      "# Option “--command” is deprecated and might be removed in a later version of gnome-terminal.\n",
      "# Use “-- ” to terminate the options and put the command line to execute after it.\n",
      "# Option “--command” is deprecated and might be removed in a later version of gnome-terminal.\n",
      "# Use “-- ” to terminate the options and put the command line to execute after it.\n",
      "# Option “--command” is deprecated and might be removed in a later version of gnome-terminal.\n",
      "# Use “-- ” to terminate the options and put the command line to execute after it.\n",
      "# Option “--command” is deprecated and might be removed in a later version of gnome-terminal.\n",
      "# Use “-- ” to terminate the options and put the command line to execute after it.\n",
      "# Option “--command” is deprecated and might be removed in a later version of gnome-terminal.\n",
      "# Use “-- ” to terminate the options and put the command line to execute after it.\n",
      "# Option “--command” is deprecated and might be removed in a later version of gnome-terminal.\n",
      "# Use “-- ” to terminate the options and put the command line to execute after it.\n",
      "# Option “--command” is deprecated and might be removed in a later version of gnome-terminal.\n",
      "# Use “-- ” to terminate the options and put the command line to execute after it.\n",
      "# Option “--command” is deprecated and might be removed in a later version of gnome-terminal.\n",
      "# Use “-- ” to terminate the options and put the command line to execute after it.\n",
      "# Option “--command” is deprecated and might be removed in a later version of gnome-terminal.\n",
      "# Use “-- ” to terminate the options and put the command line to execute after it.\n",
      "# Option “--command” is deprecated and might be removed in a later version of gnome-terminal.\n",
      "# Use “-- ” to terminate the options and put the command line to execute after it.\n",
      "# Option “--command” is deprecated and might be removed in a later version of gnome-terminal.\n",
      "# Use “-- ” to terminate the options and put the command line to execute after it.\n",
      "# Option “--command” is deprecated and might be removed in a later version of gnome-terminal.\n",
      "# Use “-- ” to terminate the options and put the command line to execute after it.\n",
      "# Option “--command” is deprecated and might be removed in a later version of gnome-terminal.\n",
      "# Use “-- ” to terminate the options and put the command line to execute after it.\n",
      "# Option “--command” is deprecated and might be removed in a later version of gnome-terminal.\n",
      "# Use “-- ” to terminate the options and put the command line to execute after it.\n",
      "# Option “--command” is deprecated and might be removed in a later version of gnome-terminal.\n",
      "# Use “-- ” to terminate the options and put the command line to execute after it.\n",
      "# Option “--command” is deprecated and might be removed in a later version of gnome-terminal.\n",
      "# Use “-- ” to terminate the options and put the command line to execute after it.\n",
      "# Option “--command” is deprecated and might be removed in a later version of gnome-terminal.\n",
      "# Use “-- ” to terminate the options and put the command line to execute after it.\n",
      "# Option “--command” is deprecated and might be removed in a later version of gnome-terminal.\n",
      "# Use “-- ” to terminate the options and put the command line to execute after it.\n",
      "# Option “--command” is deprecated and might be removed in a later version of gnome-terminal.\n",
      "# Use “-- ” to terminate the options and put the command line to execute after it.\n",
      "# Option “--command” is deprecated and might be removed in a later version of gnome-terminal.\n",
      "# Use “-- ” to terminate the options and put the command line to execute after it.\n",
      "# Option “--command” is deprecated and might be removed in a later version of gnome-terminal.\n",
      "# Use “-- ” to terminate the options and put the command line to execute after it.\n",
      "# Option “--command” is deprecated and might be removed in a later version of gnome-terminal.\n",
      "# Use “-- ” to terminate the options and put the command line to execute after it.\n",
      "# Option “--command” is deprecated and might be removed in a later version of gnome-terminal.\n",
      "# Use “-- ” to terminate the options and put the command line to execute after it.\n",
      "# Option “--command” is deprecated and might be removed in a later version of gnome-terminal.\n",
      "# Use “-- ” to terminate the options and put the command line to execute after it.\n",
      "# Option “--command” is deprecated and might be removed in a later version of gnome-terminal.\n",
      "# Use “-- ” to terminate the options and put the command line to execute after it.\n",
      "# Option “--command” is deprecated and might be removed in a later version of gnome-terminal.\n",
      "# Use “-- ” to terminate the options and put the command line to execute after it.\n",
      "# Option “--command” is deprecated and might be removed in a later version of gnome-terminal.\n",
      "# Use “-- ” to terminate the options and put the command line to execute after it.\n",
      "# Option “--command” is deprecated and might be removed in a later version of gnome-terminal.\n",
      "# Use “-- ” to terminate the options and put the command line to execute after it.\n",
      "# Option “--command” is deprecated and might be removed in a later version of gnome-terminal.\n",
      "# Use “-- ” to terminate the options and put the command line to execute after it.\n",
      "# Option “--command” is deprecated and might be removed in a later version of gnome-terminal.\n",
      "# Use “-- ” to terminate the options and put the command line to execute after it.\n",
      "# Option “--command” is deprecated and might be removed in a later version of gnome-terminal.\n",
      "# Use “-- ” to terminate the options and put the command line to execute after it.\n",
      "# Option “--command” is deprecated and might be removed in a later version of gnome-terminal.\n",
      "# Use “-- ” to terminate the options and put the command line to execute after it.\n",
      "# Option “--command” is deprecated and might be removed in a later version of gnome-terminal.\n",
      "# Use “-- ” to terminate the options and put the command line to execute after it.\n",
      "# Option “--command” is deprecated and might be removed in a later version of gnome-terminal.\n",
      "# Use “-- ” to terminate the options and put the command line to execute after it.\n"
     ]
    }
   ],
   "source": [
    "# Run simulations\n",
    "setting_files = [os.path.isfile(f\"data/{sim_name}/sim_settings_{i}.csv\") for i in range(N_PROCESSES)]\n",
    "while sum(setting_files)>0:\n",
    "    setting_files = [os.path.isfile(f\"data/{sim_name}/sim_settings_{i}.csv\") for i in range(N_PROCESSES)]\n",
    "    process_active = [os.path.isfile(f\"data/{sim_name}/process_{i}_running\") for i in range(N_PROCESSES)]\n",
    "    \n",
    "    for i in range(N_PROCESSES):\n",
    "        if setting_files[i] and not process_active[i]:\n",
    "            c = f\"\"\"python3 perform_sig_test.py --trials_per_sim {trials_per_sim} --process {i} --sim_name {sim_name}\"\"\"\n",
    "            run_command_gnome(c, title=f\"p{i}\", keep_window=False)\n",
    "\n",
    "    sleep(10)"
   ]
  }
 ],
 "metadata": {
  "kernelspec": {
   "display_name": "bayes_topic_measures",
   "language": "python",
   "name": "bayes_topic_measures"
  },
  "language_info": {
   "codemirror_mode": {
    "name": "ipython",
    "version": 3
   },
   "file_extension": ".py",
   "mimetype": "text/x-python",
   "name": "python",
   "nbconvert_exporter": "python",
   "pygments_lexer": "ipython3",
   "version": "3.10.6"
  }
 },
 "nbformat": 4,
 "nbformat_minor": 5
}
