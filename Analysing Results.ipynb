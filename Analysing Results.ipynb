{
 "cells": [
  {
   "cell_type": "code",
   "execution_count": 1,
   "id": "89788770",
   "metadata": {},
   "outputs": [],
   "source": [
    "# from getopt import getopt\n",
    "# import cloudpickle\n",
    "# import pickle\n",
    "# import sys\n",
    "# import os\n",
    "import numpy as np\n",
    "import pandas as pd\n",
    "import seaborn as sns\n",
    "# from scipy.special import logit, expit\n",
    "# from scipy.stats import uniform, norm, bernoulli\n",
    "# from statsmodels.stats.proportion import proportions_ztest\n",
    "from matplotlib import pyplot as plt\n",
    "# import pymc as pm\n",
    "# import arviz as az\n",
    "# from modeltools import mcmc_diagnostics, create_summary_stat\n",
    "# from downcast import downcast_df\n",
    "# import jax\n",
    "# from pymc.sampling_jax import sample_numpyro_nuts\n",
    "# from time import time, sleep\n",
    "# from datetime import timedelta"
   ]
  },
  {
   "cell_type": "code",
   "execution_count": null,
   "id": "b273f3d5",
   "metadata": {},
   "outputs": [],
   "source": []
  }
 ],
 "metadata": {
  "kernelspec": {
   "display_name": "bayes_topic_measures",
   "language": "python",
   "name": "bayes_topic_measures"
  },
  "language_info": {
   "codemirror_mode": {
    "name": "ipython",
    "version": 3
   },
   "file_extension": ".py",
   "mimetype": "text/x-python",
   "name": "python",
   "nbconvert_exporter": "python",
   "pygments_lexer": "ipython3",
   "version": "3.10.6"
  }
 },
 "nbformat": 4,
 "nbformat_minor": 5
}
