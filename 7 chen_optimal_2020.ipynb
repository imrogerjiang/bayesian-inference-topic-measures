{
 "cells": [
  {
   "cell_type": "code",
   "execution_count": 1,
   "id": "80758a7f",
   "metadata": {},
   "outputs": [],
   "source": [
    "import numpy as np\n",
    "import pandas as pd\n",
    "from scipy.stats import bernoulli, uniform\n",
    "from scipy.special import logit, expit\n",
    "from sklearn.linear_model import LogisticRegression"
   ]
  },
  {
   "cell_type": "markdown",
   "id": "302ca4e7",
   "metadata": {},
   "source": [
    "## Tong Chen's Model\n",
    "https://github.com/T0ngChen/multiwave/blob/master/sim.r\n"
   ]
  },
  {
   "cell_type": "code",
   "execution_count": 68,
   "id": "58689538",
   "metadata": {},
   "outputs": [],
   "source": [
    "r_dir = \"data/chen_optimal_2020/\""
   ]
  },
  {
   "cell_type": "code",
   "execution_count": 36,
   "id": "ce2e57aa",
   "metadata": {},
   "outputs": [],
   "source": [
    "# Reading in data from R\n",
    "x_vars = [\"x\", \"z1\", \"z2\"]\n",
    "data1 = pd.read_csv(r_dir+\"data1.csv\", index_col=0)\n",
    "dm = data1[x_vars]\n",
    "dm.insert(0, \"intercept\", [1]*1000)"
   ]
  },
  {
   "cell_type": "code",
   "execution_count": 37,
   "id": "5c5c6b41",
   "metadata": {},
   "outputs": [],
   "source": [
    "# Fitting Logistic Regression\n",
    "model = LogisticRegression()\n",
    "model.fit(X=data1[x_vars], y=data1[\"y\"])\n",
    "fitted_values = model.predict_proba(data1[x_vars])[:,1]\n",
    "resid = data1[\"y\"] - fitted_values"
   ]
  },
  {
   "cell_type": "code",
   "execution_count": 63,
   "id": "0ef71f15",
   "metadata": {},
   "outputs": [],
   "source": [
    "# Estimating influence\n",
    "Ihat = (dm.T*fitted_values*(1-fitted_values))@dm/len(dm)\n",
    "infl = (dm.T*resid).T@np.linalg.inv(Ihat)\n",
    "infl.columns = [\"infl_intercept\"] + [\"infl_\"+ x for x in x_vars]"
   ]
  },
  {
   "cell_type": "code",
   "execution_count": 64,
   "id": "b026a59e",
   "metadata": {},
   "outputs": [],
   "source": [
    "# Calculating optimal allocation for stratas\n",
    "aa = pd.concat([data1, infl], axis=\"columns\")\n",
    "std = (aa.groupby(\"stra\")\n",
    "         .agg({\"infl_x\":\"std\"})\n",
    "         .rename(columns={\"infl_x\":\"std\"})\n",
    "         .reset_index())\n",
    "n = (aa.groupby(\"stra\")\n",
    "       .agg({\"infl_x\":\"count\"})\n",
    "       .rename(columns={\"infl_x\":\"count\"})\n",
    "       .reset_index())\n",
    "oa = pd.merge(std, n, on=\"stra\")\n",
    "NS = oa[\"std\"]*oa[\"count\"]\n",
    "NS"
   ]
  },
  {
   "cell_type": "markdown",
   "id": "bc12016b",
   "metadata": {},
   "source": [
    "## Implementing in python"
   ]
  },
  {
   "cell_type": "code",
   "execution_count": null,
   "id": "aa1fd1e8",
   "metadata": {},
   "outputs": [],
   "source": []
  },
  {
   "cell_type": "code",
   "execution_count": null,
   "id": "746640e7",
   "metadata": {},
   "outputs": [],
   "source": []
  }
 ],
 "metadata": {
  "kernelspec": {
   "display_name": "bayes_topic_measures",
   "language": "python",
   "name": "bayes_topic_measures"
  },
  "language_info": {
   "codemirror_mode": {
    "name": "ipython",
    "version": 3
   },
   "file_extension": ".py",
   "mimetype": "text/x-python",
   "name": "python",
   "nbconvert_exporter": "python",
   "pygments_lexer": "ipython3",
   "version": "3.10.6"
  }
 },
 "nbformat": 4,
 "nbformat_minor": 5
}
