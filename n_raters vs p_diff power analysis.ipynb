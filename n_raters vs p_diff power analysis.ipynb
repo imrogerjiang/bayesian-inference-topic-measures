{
 "cells": [
  {
   "cell_type": "code",
   "execution_count": 1,
   "id": "1caad171",
   "metadata": {},
   "outputs": [],
   "source": [
    "import os\n",
    "import optuna\n",
    "from time import sleep"
   ]
  },
  {
   "cell_type": "code",
   "execution_count": 3,
   "id": "7c6a73ad",
   "metadata": {},
   "outputs": [],
   "source": [
    "# Generate and save inferred model if does not exist\n",
    "if not os.path.isfile(f\"bayesian_model/glmm.pickle\"):\n",
    "    os.system(\"python3 infer_bayesian_model.py\")"
   ]
  },
  {
   "cell_type": "code",
   "execution_count": 4,
   "id": "2cf96904",
   "metadata": {},
   "outputs": [],
   "source": [
    "def run_command_gnome(command, title=\"test\", keep_window=False, test=False):\n",
    "    if keep_window:\n",
    "        command_suffix = \"; $SHELL\"\n",
    "    else:\n",
    "        command_suffix = \"\"\n",
    "        \n",
    "    if test:\n",
    "        return f\"\"\"gnome-terminal --title=\"{title}\" --command=\"bash -c '{command} {command_suffix}'\" \"\"\"\n",
    "    else:\n",
    "        os.system(f\"\"\"gnome-terminal --title=\"{title}\" --command=\"bash -c '{command} {command_suffix}'\" \"\"\")"
   ]
  },
  {
   "cell_type": "code",
   "execution_count": null,
   "id": "b219e7bf",
   "metadata": {},
   "outputs": [],
   "source": [
    "def beta_ci(n_success, n_fail, level=0.95):\n",
    "    # Given a beta(1,1) prior, n_success, and n_fail, return the 95% confidence interval\n",
    "    return (0.25, 0.75)"
   ]
  },
  {
   "cell_type": "code",
   "execution_count": null,
   "id": "85ab32ee",
   "metadata": {},
   "outputs": [],
   "source": [
    "def beta_mean(n_success, n_fail):\n",
    "    # Given a beta(1,1) prior, n_success, and n_fail, return the mean\n",
    "    return 0.5"
   ]
  },
  {
   "cell_type": "code",
   "execution_count": null,
   "id": "7769e992",
   "metadata": {},
   "outputs": [],
   "source": [
    "def generate_sim_settings(p_diff, n_raters, scores_per_r, trials_per_sim=100):\n",
    "    return"
   ]
  },
  {
   "cell_type": "code",
   "execution_count": null,
   "id": "a2f85266",
   "metadata": {},
   "outputs": [],
   "source": [
    "def run_simulation(process, runs=5):\n",
    "# Peforms the simulation\n",
    "    \n",
    "    while sum(setting_files)>0:\n",
    "    return"
   ]
  },
  {
   "cell_type": "code",
   "execution_count": null,
   "id": "67f72c1e",
   "metadata": {},
   "outputs": [],
   "source": [
    "def read_success_fail(sim_name):\n",
    "    n_success=1\n",
    "    n_fail=1\n",
    "    return success, fail\n",
    "    "
   ]
  },
  {
   "cell_type": "code",
   "execution_count": 5,
   "id": "95f57696",
   "metadata": {},
   "outputs": [],
   "source": [
    "# Settings for hoyle's significance testing\n",
    "hoyle_total_scores = 50*26\n",
    "hoyle_p_diff = 0.055\n",
    "hoyle_n_raters = 38\n",
    "hoyle_scores_per_r = hoyle_total_scores//hoyle_n_raters + 1"
   ]
  },
  {
   "cell_type": "code",
   "execution_count": 6,
   "id": "2f85366f",
   "metadata": {},
   "outputs": [],
   "source": [
    "# Simulation settings\n",
    "N_PROCESSES = 6\n",
    "sim_name = \"sig_n_raters\"\n",
    "n_sims = 1_000\n",
    "trials_per_sim = 1\n",
    "\n",
    "p_diff = hoyle_p_diff\n",
    "n_raters = \"(15, 70)\"\n",
    "scores_per_r = hoyle_scores_per_r"
   ]
  },
  {
   "cell_type": "code",
   "execution_count": null,
   "id": "ec55fa24",
   "metadata": {},
   "outputs": [],
   "source": [
    "def objective(trial)\n",
    "    # Function to optimise\n",
    "    accuracy = 0\n",
    "    \n",
    "    n_raters = trial.suggest_int(\"n_raters\", 10, 100)\n",
    "    \n",
    "    generate_sim_settings(p_diff, n_raters, scores_per_r)\n",
    "    # Run simulations\n",
    "    setting_files = [os.path.isfile(f\"data/{sim_name}/sim_settings_{i}.csv\") for i in range(N_PROCESSES)]\n",
    "    while sum(setting_files)>0:\n",
    "        setting_files = [os.path.isfile(f\"data/{sim_name}/sim_settings_{i}.csv\") for i in range(N_PROCESSES)]\n",
    "        process_active = [os.path.isfile(f\"data/{sim_name}/process_{i}_running\") for i in range(N_PROCESSES)]\n",
    "\n",
    "        for i in range(N_PROCESSES):\n",
    "            if setting_files[i] and not process_active[i]:\n",
    "                run_simulation(i)\n",
    "    \n",
    "        n_succcess, n_fail = read_success_fail(sim_name)\n",
    "        ci = beta_ci(n_succcess, n_fail)\n",
    "        if 0.9 < ci[0] or ci[1] < 0.9:\n",
    "            raise optuna.exceptions.TrialPruned()\n",
    "        sleep(10)\n",
    "        \n",
    "    return accuracy"
   ]
  },
  {
   "cell_type": "code",
   "execution_count": null,
   "id": "12a9bb4f",
   "metadata": {},
   "outputs": [],
   "source": [
    "study = optuna.create_study(direction=\"minimize\")\n",
    "study.optimize(objective, n_trials=100, timeout=600)"
   ]
  }
 ],
 "metadata": {
  "kernelspec": {
   "display_name": "bayes_topic_measures",
   "language": "python",
   "name": "bayes_topic_measures"
  },
  "language_info": {
   "codemirror_mode": {
    "name": "ipython",
    "version": 3
   },
   "file_extension": ".py",
   "mimetype": "text/x-python",
   "name": "python",
   "nbconvert_exporter": "python",
   "pygments_lexer": "ipython3",
   "version": "3.10.6"
  }
 },
 "nbformat": 4,
 "nbformat_minor": 5
}
