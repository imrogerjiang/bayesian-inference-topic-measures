{
 "cells": [
  {
   "cell_type": "code",
   "execution_count": 2,
   "id": "462e6871",
   "metadata": {},
   "outputs": [],
   "source": [
    "import pandas as pd\n",
    "import numpy as np"
   ]
  },
  {
   "cell_type": "markdown",
   "id": "7a947b27",
   "metadata": {},
   "source": [
    "### Intrusion raw data\n",
    "Columns represent model/topic\n",
    "Rows represent crowdworker\n",
    "\n",
    "Each entry consists of two information, rating/confidence, \n",
    "where rating=6 is correct and confidence=7 is correct\n",
    "\n",
    "Source: https://github.com/ahoho/topics/blob/dev/data/human/CreateJointFile.py"
   ]
  },
  {
   "cell_type": "code",
   "execution_count": 6,
   "id": "99ad69f6",
   "metadata": {},
   "outputs": [],
   "source": [
    "wikitext = pd.read_csv(\"data/wikitext_intrusion.csv\", index_col=0)\n",
    "nytimes =  pd.read_csv(\"data/nytimes_intrusion.csv\", index_col=0)\n",
    "corpus = wikitext"
   ]
  },
  {
   "cell_type": "code",
   "execution_count": 7,
   "id": "3290a8fe",
   "metadata": {},
   "outputs": [
    {
     "data": {
      "text/plain": [
       "38    160\n",
       "dtype: int64"
      ]
     },
     "execution_count": 7,
     "metadata": {},
     "output_type": "execute_result"
    }
   ],
   "source": [
    "# Checking the number of ratings by each person\n",
    "corpus.count(axis=\"columns\").value_counts()"
   ]
  },
  {
   "cell_type": "code",
   "execution_count": 8,
   "id": "c26a26f7",
   "metadata": {
    "scrolled": true
   },
   "outputs": [
    {
     "data": {
      "text/plain": [
       "26     1\n",
       "28     2\n",
       "30     2\n",
       "31     4\n",
       "32     5\n",
       "33     4\n",
       "34     4\n",
       "35     5\n",
       "36    10\n",
       "37     8\n",
       "38     6\n",
       "39    11\n",
       "40    10\n",
       "41    18\n",
       "42     8\n",
       "43     7\n",
       "44     9\n",
       "45     6\n",
       "46     7\n",
       "47     6\n",
       "48     6\n",
       "49     4\n",
       "50     1\n",
       "52     2\n",
       "53     3\n",
       "56     1\n",
       "dtype: int64"
      ]
     },
     "execution_count": 8,
     "metadata": {},
     "output_type": "execute_result"
    }
   ],
   "source": [
    "# Checking the number of ratings each topic received\n",
    "corpus.count(axis=\"rows\").value_counts().sort_index()"
   ]
  },
  {
   "cell_type": "code",
   "execution_count": 5,
   "id": "cd019459",
   "metadata": {},
   "outputs": [
    {
     "data": {
      "text/html": [
       "<div>\n",
       "<style scoped>\n",
       "    .dataframe tbody tr th:only-of-type {\n",
       "        vertical-align: middle;\n",
       "    }\n",
       "\n",
       "    .dataframe tbody tr th {\n",
       "        vertical-align: top;\n",
       "    }\n",
       "\n",
       "    .dataframe thead th {\n",
       "        text-align: right;\n",
       "    }\n",
       "</style>\n",
       "<table border=\"1\" class=\"dataframe\">\n",
       "  <thead>\n",
       "    <tr style=\"text-align: right;\">\n",
       "      <th></th>\n",
       "      <th>topic</th>\n",
       "    </tr>\n",
       "    <tr>\n",
       "      <th>model</th>\n",
       "      <th></th>\n",
       "    </tr>\n",
       "  </thead>\n",
       "  <tbody>\n",
       "    <tr>\n",
       "      <th>dvae</th>\n",
       "      <td>24.5</td>\n",
       "    </tr>\n",
       "    <tr>\n",
       "      <th>etm</th>\n",
       "      <td>24.5</td>\n",
       "    </tr>\n",
       "    <tr>\n",
       "      <th>mallet</th>\n",
       "      <td>24.5</td>\n",
       "    </tr>\n",
       "  </tbody>\n",
       "</table>\n",
       "</div>"
      ],
      "text/plain": [
       "        topic\n",
       "model        \n",
       "dvae     24.5\n",
       "etm      24.5\n",
       "mallet   24.5"
      ]
     },
     "execution_count": 5,
     "metadata": {},
     "output_type": "execute_result"
    }
   ],
   "source": [
    "# Checking columns include 50 topics from each model\n",
    "check = pd.DataFrame([e.split(\"_\")[1:] for e in corpus.columns], columns=[\"model\", \"topic\"])\n",
    "check[\"topic\"] = check[\"topic\"].astype(\"int\")\n",
    "check.groupby(\"model\").agg({\"topic\":\"mean\"})"
   ]
  },
  {
   "cell_type": "code",
   "execution_count": 6,
   "id": "dad85173",
   "metadata": {},
   "outputs": [],
   "source": [
    "# Creating dataframe from raw wikitext data\n",
    "data = pd.DataFrame(columns = [\"corpus\", \"model\", \"topic\", \"rater\", \"intrusion\", \"confidence\"])\n",
    "\n",
    "for corpus in [wikitext, nytimes]:\n",
    "    for c_name in corpus.columns:\n",
    "        c=pd.DataFrame(corpus[c_name])\n",
    "        c[\"rater\"] = c.index\n",
    "        c=c.dropna(how=\"any\")\n",
    "        c[[\"intrusion\", \"confidence\"]]=c[c_name].str.split(\",\", expand=True)\n",
    "        c[\"corpus\"], c[\"model\"], c[\"topic\"] = c_name.split(\"_\")\n",
    "        c = c.drop(columns=c_name)\n",
    "        data=pd.concat([data, c], axis=\"rows\", ignore_index=True)\n",
    "\n",
    "data[\"intrusion\"] = data[\"intrusion\"].apply(lambda x:1 if x==\"6\" else 0)\n",
    "data[\"confidence\"] = data[\"confidence\"].apply(lambda x:1 if x==\"7\" else 0)\n",
    "data[\"topic\"] = data[\"topic\"].astype(int)\n",
    "data[\"rater\"] = data[\"rater\"].astype(int)"
   ]
  },
  {
   "cell_type": "code",
   "execution_count": 7,
   "id": "a2145196",
   "metadata": {},
   "outputs": [
    {
     "name": "stdout",
     "output_type": "stream",
     "text": [
      "(12198, 6)\n",
      "12198\n"
     ]
    }
   ],
   "source": [
    "# Checking if formatted data counts are same as original\n",
    "print(data.shape)\n",
    "print(wikitext.count().sum()+nytimes.count().sum())"
   ]
  },
  {
   "cell_type": "code",
   "execution_count": 28,
   "id": "598e60d1",
   "metadata": {},
   "outputs": [
    {
     "name": "stdout",
     "output_type": "stream",
     "text": [
      "all good! :)\n"
     ]
    }
   ],
   "source": [
    "# Checking for discrepencies in counts across all totals\n",
    "for corpus in [\"nytimes\", \"wikitext\"]:\n",
    "    for model in [\"dvae\", \"etm\", \"mallet\"]:\n",
    "        for topic in range(50):\n",
    "            corpus_raw = eval(corpus)\n",
    "            \n",
    "            # Total raters\n",
    "            processed = data[(data[\"corpus\"]==corpus) & (data[\"model\"]==model) & (data[\"topic\"]==topic)]\n",
    "            raw = corpus_raw[f\"{corpus}_{model}_{topic}\"].dropna()\n",
    "            \n",
    "            # No. of successful intrusion tasks\n",
    "            processed_intrusion_1s = processed[processed[\"intrusion\"]==1][\"rater\"].shape[0]\n",
    "            raw_intrusion_1s = raw[raw.str[0]==\"6\"].shape[0]\n",
    "\n",
    "            # No. of successful confidence\n",
    "            processed_confidence_1s = processed[processed[\"confidence\"]==1][\"rater\"].shape[0]\n",
    "            raw_confidence_1 = raw[raw.str[-1]==\"7\"].shape[0]\n",
    "            \n",
    "            if (processed.shape[0] != raw.shape[0] or\n",
    "                processed_intrusion_1s != raw_intrusion_1s or \n",
    "                processed_confidence_1s != raw_confidence_1\n",
    "            ):\n",
    "                raise Exception(f\"{corpus}, {model}, {topic}\")\n",
    "                \n",
    "print(\"all good! :)\")"
   ]
  },
  {
   "cell_type": "code",
   "execution_count": 31,
   "id": "c38fc0ba",
   "metadata": {
    "scrolled": true
   },
   "outputs": [
    {
     "name": "stdout",
     "output_type": "stream",
     "text": [
      "11946      0\n",
      "11947      1\n",
      "11948      9\n",
      "11949     10\n",
      "11950     15\n",
      "11951     22\n",
      "11952     25\n",
      "11953     27\n",
      "11954     31\n",
      "11955     34\n",
      "11956     35\n",
      "11957     43\n",
      "11958     47\n",
      "11959     49\n",
      "11960     52\n",
      "11962     58\n",
      "11963     62\n",
      "11964     74\n",
      "11965     76\n",
      "11966     84\n",
      "11967     91\n",
      "11968     94\n",
      "11969    103\n",
      "11970    104\n",
      "11971    107\n",
      "11972    111\n",
      "11973    112\n",
      "11974    114\n",
      "11976    125\n",
      "11977    127\n",
      "11978    131\n",
      "11979    134\n",
      "11980    145\n",
      "11981    148\n",
      "11982    150\n",
      "11983    152\n",
      "Name: rater, dtype: int64\n",
      "0      6,7\n",
      "1      6,7\n",
      "9      1,7\n",
      "10     6,7\n",
      "15     6,7\n",
      "22     6,7\n",
      "25     5,7\n",
      "27     6,7\n",
      "31     2,7\n",
      "34     2,7\n",
      "35     6,7\n",
      "43     6,7\n",
      "47     6,7\n",
      "49     6,7\n",
      "52     5,7\n",
      "58     6,7\n",
      "62     6,7\n",
      "74     6,7\n",
      "76     6,7\n",
      "84     6,7\n",
      "91     6,7\n",
      "94     6,7\n",
      "103    6,7\n",
      "104    1,7\n",
      "107    6,7\n",
      "111    5,7\n",
      "112    2,7\n",
      "114    6,7\n",
      "125    6,7\n",
      "127    5,7\n",
      "131    6,7\n",
      "134    6,7\n",
      "145    6,7\n",
      "148    5,7\n",
      "150    5,7\n",
      "152    1,7\n",
      "Name: nytimes_etm_19, dtype: object\n"
     ]
    }
   ],
   "source": [
    "# Spot checks\n",
    "corpus = \"nytimes\"\n",
    "corpus_raw = eval(corpus)\n",
    "model = \"etm\"\n",
    "topic = 19\n",
    "compare = \"confidence\"\n",
    "\n",
    "processed = data[(data[\"corpus\"]==corpus) & (data[\"model\"]==model) & (data[\"topic\"]==topic)]\n",
    "raw = corpus_raw[f\"{corpus}_{model}_{topic}\"].dropna()\n",
    "\n",
    "if compare == \"intrusion\":\n",
    "    print(processed[processed[\"intrusion\"]==1][\"rater\"])\n",
    "    print(raw[raw.str[0]==\"6\"])\n",
    "elif compare == \"confidence\":\n",
    "    print(processed[processed[\"confidence\"]==1][\"rater\"])\n",
    "    print(raw[raw.str[-1]==\"7\"])"
   ]
  },
  {
   "cell_type": "code",
   "execution_count": 32,
   "id": "f19ca9f3",
   "metadata": {},
   "outputs": [],
   "source": [
    "data.to_csv(\"data/unit_level_ratings.csv\")"
   ]
  },
  {
   "cell_type": "code",
   "execution_count": null,
   "id": "1475fa32",
   "metadata": {},
   "outputs": [],
   "source": []
  }
 ],
 "metadata": {
  "kernelspec": {
   "display_name": "thesis",
   "language": "python",
   "name": "thesis"
  },
  "language_info": {
   "codemirror_mode": {
    "name": "ipython",
    "version": 3
   },
   "file_extension": ".py",
   "mimetype": "text/x-python",
   "name": "python",
   "nbconvert_exporter": "python",
   "pygments_lexer": "ipython3",
   "version": "3.10.5"
  }
 },
 "nbformat": 4,
 "nbformat_minor": 5
}
