{
 "cells": [
  {
   "cell_type": "code",
   "execution_count": 3,
   "id": "a8fc2694",
   "metadata": {},
   "outputs": [],
   "source": [
    "import os\n",
    "import numpy as np\n",
    "import pandas as pd\n",
    "from time import sleep, time\n",
    "from scipy.special import logit\n",
    "from scipy.stats import beta\n",
    "from datetime import datetime"
   ]
  },
  {
   "cell_type": "code",
   "execution_count": 4,
   "id": "8521bd2c",
   "metadata": {},
   "outputs": [],
   "source": [
    "# Generate and save inferred model if does not exist\n",
    "if not os.path.isfile(f\"bayesian_model/glmm.pickle\"):\n",
    "    os.system(\"python3 infer_bayesian_model.py\")"
   ]
  },
  {
   "cell_type": "markdown",
   "id": "59c7e278",
   "metadata": {},
   "source": [
    "## Functions"
   ]
  },
  {
   "cell_type": "code",
   "execution_count": 6,
   "id": "f54ed556",
   "metadata": {},
   "outputs": [],
   "source": [
    "def run_command_gnome(command, title=\"test\", keep_window=False, test=False):\n",
    "    if keep_window:\n",
    "        command_suffix = \"; $SHELL\"\n",
    "    else:\n",
    "        command_suffix = \"\"\n",
    "        \n",
    "    if test:\n",
    "        return f\"\"\"gnome-terminal --title=\"{title}\" --command=\"bash -c '{command} {command_suffix}'\" \"\"\"\n",
    "    else:\n",
    "        os.system(f\"\"\"gnome-terminal --title=\"{title}\" --command=\"bash -c '{command} {command_suffix}'\" \"\"\")"
   ]
  },
  {
   "cell_type": "code",
   "execution_count": 31,
   "id": "3ca20940",
   "metadata": {},
   "outputs": [],
   "source": [
    "# Run simulations\n",
    "def run_simulations():\n",
    "    setting_files = [os.path.isfile(f\"data/{sim_name}/sim_settings_{i}.csv\") for i in range(N_PROCESSES)]\n",
    "    while sum(setting_files)>0:\n",
    "        setting_files = [os.path.isfile(f\"data/{sim_name}/sim_settings_{i}.csv\") for i in range(N_PROCESSES)]\n",
    "        process_active = [os.path.isfile(f\"data/{sim_name}/process_{i}_running\") for i in range(N_PROCESSES)]\n",
    "\n",
    "        for i in range(N_PROCESSES):\n",
    "            if setting_files[i] and not process_active[i]:\n",
    "                source = \"source ~/anaconda3/etc/profile.d/conda.sh\\n\"\n",
    "                conda = \"conda activate bayes_topic_measures\\n\"\n",
    "                c = f\"\"\"python3 perform_sig_test.py --trials_per_sim {trials_per_sim} --process {i} --sim_name {sim_name}\"\"\"\n",
    "                run_command_gnome(source+conda+c, title=f\"p{i}\", keep_window=False) # Laptop\n",
    "#                 run_command_gnome(c, title=f\"p{i}\", keep_window=False) # Desktop\n",
    "\n",
    "        sleep(10)"
   ]
  },
  {
   "cell_type": "markdown",
   "id": "63b10ac9",
   "metadata": {},
   "source": [
    "## Specificity Simulations"
   ]
  },
  {
   "cell_type": "code",
   "execution_count": 26,
   "id": "d8c79399",
   "metadata": {},
   "outputs": [],
   "source": [
    "# Settings for hoyle's significance testing\n",
    "hoyle_total_scores = 50*26*2 #2 models * 50 topics per model * 26 scores per topic\n",
    "hoyle_p_diff = 0.055\n",
    "hoyle_scores_per_r = 38\n",
    "hoyle_n_raters = hoyle_total_scores//hoyle_scores_per_r"
   ]
  },
  {
   "cell_type": "code",
   "execution_count": 33,
   "id": "3ebc9e59",
   "metadata": {},
   "outputs": [
    {
     "name": "stdout",
     "output_type": "stream",
     "text": [
      "\n",
      "    p_diff=0.0, <class 'float'>\n",
      "    n_raters=68, <class 'int'>\n",
      "    scores_per_r=38, <class 'int'>\n",
      "    total_scores=None, <class 'NoneType'>\n",
      "    n_sims=30, <class 'int'>\n",
      "    trials_per_sim=1\n",
      "    seed=42, <class 'int'>\n",
      "    sim_name=5_specificity, <class 'str'>\n",
      "    chain_method=vectorized, <class 'str'>\n",
      "    clean_dir=True, <class 'bool'>\n",
      "    \n"
     ]
    },
    {
     "name": "stderr",
     "output_type": "stream",
     "text": [
      "# Option “--command” is deprecated and might be removed in a later version of gnome-terminal.\n",
      "# Use “-- ” to terminate the options and put the command line to execute after it.\n",
      "# Option “--command” is deprecated and might be removed in a later version of gnome-terminal.\n",
      "# Use “-- ” to terminate the options and put the command line to execute after it.\n",
      "# Option “--command” is deprecated and might be removed in a later version of gnome-terminal.\n",
      "# Use “-- ” to terminate the options and put the command line to execute after it.\n",
      "# Option “--command” is deprecated and might be removed in a later version of gnome-terminal.\n",
      "# Use “-- ” to terminate the options and put the command line to execute after it.\n"
     ]
    }
   ],
   "source": [
    "# Varying the number of raters\n",
    "N_PROCESSES = 4\n",
    "sim_name = \"5_specificity\"\n",
    "n_sims = 30\n",
    "trials_per_sim = 1\n",
    "\n",
    "p_diff = 0\n",
    "n_raters = hoyle_n_raters\n",
    "scores_per_r = hoyle_scores_per_r\n",
    "\n",
    "# Removing all produced files\n",
    "os.system(f\"\"\"rm data/{sim_name}/*\"\"\")\n",
    "\n",
    "# Generate settings file\n",
    "os.system(f\"\"\"\n",
    "    python3 generate_sim_settings.py --n_raters \"{n_raters}\" --scores_per_r {scores_per_r} \\\n",
    "    --n_sims {n_sims} --trials_per_sim {trials_per_sim} --sim_name {sim_name} --p_diff {p_diff}\n",
    "\"\"\")\n",
    "\n",
    "run_simulations()"
   ]
  },
  {
   "cell_type": "code",
   "execution_count": null,
   "id": "8c52e7fc",
   "metadata": {},
   "outputs": [],
   "source": []
  }
 ],
 "metadata": {
  "kernelspec": {
   "display_name": "bayes_topic_measures",
   "language": "python",
   "name": "bayes_topic_measures"
  },
  "language_info": {
   "codemirror_mode": {
    "name": "ipython",
    "version": 3
   },
   "file_extension": ".py",
   "mimetype": "text/x-python",
   "name": "python",
   "nbconvert_exporter": "python",
   "pygments_lexer": "ipython3",
   "version": "3.10.6"
  }
 },
 "nbformat": 4,
 "nbformat_minor": 5
}
